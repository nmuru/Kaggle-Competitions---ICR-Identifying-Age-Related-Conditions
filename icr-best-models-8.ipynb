{
 "cells": [
  {
   "cell_type": "code",
   "execution_count": 1,
   "id": "c33224a8",
   "metadata": {
    "execution": {
     "iopub.execute_input": "2023-08-07T16:15:05.451005Z",
     "iopub.status.busy": "2023-08-07T16:15:05.450621Z",
     "iopub.status.idle": "2023-08-07T16:15:24.233498Z",
     "shell.execute_reply": "2023-08-07T16:15:24.232131Z"
    },
    "papermill": {
     "duration": 18.811169,
     "end_time": "2023-08-07T16:15:24.236508",
     "exception": false,
     "start_time": "2023-08-07T16:15:05.425339",
     "status": "completed"
    },
    "tags": []
   },
   "outputs": [
    {
     "name": "stdout",
     "output_type": "stream",
     "text": [
      "Looking in links: file:///kaggle/input/pip-packages-icr/pip-packages\r\n",
      "Processing /kaggle/input/pip-packages-icr/pip-packages/tabpfn-0.1.9-py3-none-any.whl\r\n",
      "Requirement already satisfied: numpy>=1.21.2 in /opt/conda/lib/python3.10/site-packages (from tabpfn) (1.23.5)\r\n",
      "Requirement already satisfied: pyyaml>=5.4.1 in /opt/conda/lib/python3.10/site-packages (from tabpfn) (6.0)\r\n",
      "Requirement already satisfied: requests>=2.23.0 in /opt/conda/lib/python3.10/site-packages (from tabpfn) (2.31.0)\r\n",
      "Requirement already satisfied: scikit-learn>=0.24.2 in /opt/conda/lib/python3.10/site-packages (from tabpfn) (1.2.2)\r\n",
      "Requirement already satisfied: torch>=1.9.0 in /opt/conda/lib/python3.10/site-packages (from tabpfn) (2.0.0+cpu)\r\n",
      "Requirement already satisfied: charset-normalizer<4,>=2 in /opt/conda/lib/python3.10/site-packages (from requests>=2.23.0->tabpfn) (3.1.0)\r\n",
      "Requirement already satisfied: idna<4,>=2.5 in /opt/conda/lib/python3.10/site-packages (from requests>=2.23.0->tabpfn) (3.4)\r\n",
      "Requirement already satisfied: urllib3<3,>=1.21.1 in /opt/conda/lib/python3.10/site-packages (from requests>=2.23.0->tabpfn) (1.26.15)\r\n",
      "Requirement already satisfied: certifi>=2017.4.17 in /opt/conda/lib/python3.10/site-packages (from requests>=2.23.0->tabpfn) (2023.5.7)\r\n",
      "Requirement already satisfied: scipy>=1.3.2 in /opt/conda/lib/python3.10/site-packages (from scikit-learn>=0.24.2->tabpfn) (1.11.1)\r\n",
      "Requirement already satisfied: joblib>=1.1.1 in /opt/conda/lib/python3.10/site-packages (from scikit-learn>=0.24.2->tabpfn) (1.2.0)\r\n",
      "Requirement already satisfied: threadpoolctl>=2.0.0 in /opt/conda/lib/python3.10/site-packages (from scikit-learn>=0.24.2->tabpfn) (3.1.0)\r\n",
      "Requirement already satisfied: filelock in /opt/conda/lib/python3.10/site-packages (from torch>=1.9.0->tabpfn) (3.12.2)\r\n",
      "Requirement already satisfied: typing-extensions in /opt/conda/lib/python3.10/site-packages (from torch>=1.9.0->tabpfn) (4.6.3)\r\n",
      "Requirement already satisfied: sympy in /opt/conda/lib/python3.10/site-packages (from torch>=1.9.0->tabpfn) (1.12)\r\n",
      "Requirement already satisfied: networkx in /opt/conda/lib/python3.10/site-packages (from torch>=1.9.0->tabpfn) (3.1)\r\n",
      "Requirement already satisfied: jinja2 in /opt/conda/lib/python3.10/site-packages (from torch>=1.9.0->tabpfn) (3.1.2)\r\n",
      "Requirement already satisfied: MarkupSafe>=2.0 in /opt/conda/lib/python3.10/site-packages (from jinja2->torch>=1.9.0->tabpfn) (2.1.3)\r\n",
      "Requirement already satisfied: mpmath>=0.19 in /opt/conda/lib/python3.10/site-packages (from sympy->torch>=1.9.0->tabpfn) (1.3.0)\r\n",
      "Installing collected packages: tabpfn\r\n",
      "Successfully installed tabpfn-0.1.9\r\n"
     ]
    }
   ],
   "source": [
    "!pip install tabpfn --no-index --find-links=file:///kaggle/input/pip-packages-icr/pip-packages\n",
    "!mkdir -p /opt/conda/lib/python3.10/site-packages/tabpfn/models_diff\n",
    "!cp /kaggle/input/pip-packages-icr/pip-packages/prior_diff_real_checkpoint_n_0_epoch_100.cpkt /opt/conda/lib/python3.10/site-packages/tabpfn/models_diff/"
   ]
  },
  {
   "cell_type": "code",
   "execution_count": 2,
   "id": "79e1193e",
   "metadata": {
    "_cell_guid": "b1076dfc-b9ad-4769-8c92-a6c4dae69d19",
    "_uuid": "8f2839f25d086af736a60e9eeb907d3b93b6e0e5",
    "execution": {
     "iopub.execute_input": "2023-08-07T16:15:24.286603Z",
     "iopub.status.busy": "2023-08-07T16:15:24.286082Z",
     "iopub.status.idle": "2023-08-07T16:15:32.817211Z",
     "shell.execute_reply": "2023-08-07T16:15:32.815909Z"
    },
    "papermill": {
     "duration": 8.560053,
     "end_time": "2023-08-07T16:15:32.820423",
     "exception": false,
     "start_time": "2023-08-07T16:15:24.260370",
     "status": "completed"
    },
    "tags": []
   },
   "outputs": [
    {
     "name": "stderr",
     "output_type": "stream",
     "text": [
      "/opt/conda/lib/python3.10/site-packages/scipy/__init__.py:146: UserWarning: A NumPy version >=1.16.5 and <1.23.0 is required for this version of SciPy (detected version 1.23.5\n",
      "  warnings.warn(f\"A NumPy version >={np_minversion} and <{np_maxversion}\"\n"
     ]
    }
   ],
   "source": [
    "import numpy as np\n",
    "import pandas as pd\n",
    "from sklearn.preprocessing import LabelEncoder,normalize\n",
    "from sklearn.ensemble import GradientBoostingClassifier,RandomForestClassifier\n",
    "from sklearn.linear_model import LogisticRegression\n",
    "from sklearn.metrics import accuracy_score\n",
    "from sklearn.impute import SimpleImputer\n",
    "import imblearn\n",
    "from imblearn.over_sampling import RandomOverSampler\n",
    "from imblearn.under_sampling import RandomUnderSampler\n",
    "import xgboost\n",
    "import inspect\n",
    "from collections import defaultdict\n",
    "from tabpfn import TabPFNClassifier\n",
    "from catboost import CatBoostClassifier\n",
    "from sklearn.calibration import CalibratedClassifierCV\n",
    "from sklearn.preprocessing import StandardScaler\n",
    "from sklearn.metrics import make_scorer\n",
    "from sklearn.model_selection import cross_validate\n",
    "from sklearn.ensemble import VotingClassifier\n",
    "from sklearn.metrics import classification_report\n",
    "from lightgbm import LGBMClassifier\n",
    "from sklearn.utils import class_weight\n",
    "import optuna\n",
    "from functools import partial\n",
    "import logging\n",
    "from sklearn.model_selection import train_test_split\n",
    "from sklearn.impute import KNNImputer\n",
    "import time\n",
    "from datetime import datetime\n",
    "from sklearn.preprocessing import OneHotEncoder\n",
    "from sklearn.compose import ColumnTransformer\n",
    "\n",
    "from sklearn.ensemble import StackingClassifier\n",
    "from sklearn.ensemble import StackingRegressor\n",
    "from sklearn.linear_model import ElasticNetCV\n",
    "from sklearn.linear_model import Ridge\n",
    "from sklearn.svm import LinearSVR\n",
    "from sklearn.ensemble import StackingRegressor\n",
    "from sklearn.linear_model import Lasso\n",
    "from sklearn.linear_model import LassoCV\n",
    "\n",
    "from sklearn.linear_model import LogisticRegression\n",
    "import warnings\n",
    "warnings.filterwarnings('ignore')\n",
    "from sklearn.metrics import accuracy_score, log_loss\n",
    "from sklearn.svm import SVC"
   ]
  },
  {
   "cell_type": "code",
   "execution_count": 3,
   "id": "feffcc9d",
   "metadata": {
    "execution": {
     "iopub.execute_input": "2023-08-07T16:15:32.870825Z",
     "iopub.status.busy": "2023-08-07T16:15:32.870062Z",
     "iopub.status.idle": "2023-08-07T16:15:32.875494Z",
     "shell.execute_reply": "2023-08-07T16:15:32.874710Z"
    },
    "papermill": {
     "duration": 0.03316,
     "end_time": "2023-08-07T16:15:32.877661",
     "exception": false,
     "start_time": "2023-08-07T16:15:32.844501",
     "status": "completed"
    },
    "tags": []
   },
   "outputs": [],
   "source": [
    "from numpy.random import seed\n",
    "seed(42) \n",
    "import random as pyrandom\n",
    "pyrandom.seed(42)"
   ]
  },
  {
   "cell_type": "code",
   "execution_count": 4,
   "id": "1594b516",
   "metadata": {
    "execution": {
     "iopub.execute_input": "2023-08-07T16:15:32.927701Z",
     "iopub.status.busy": "2023-08-07T16:15:32.926953Z",
     "iopub.status.idle": "2023-08-07T16:15:32.989029Z",
     "shell.execute_reply": "2023-08-07T16:15:32.988035Z"
    },
    "papermill": {
     "duration": 0.090774,
     "end_time": "2023-08-07T16:15:32.992012",
     "exception": false,
     "start_time": "2023-08-07T16:15:32.901238",
     "status": "completed"
    },
    "tags": []
   },
   "outputs": [],
   "source": [
    "train = pd.read_csv('/kaggle/input/icr-identify-age-related-conditions/train.csv')\n",
    "test = pd.read_csv('/kaggle/input/icr-identify-age-related-conditions/test.csv')\n",
    "sample = pd.read_csv('/kaggle/input/icr-identify-age-related-conditions/sample_submission.csv')\n",
    "greeks = pd.read_csv('/kaggle/input/icr-identify-age-related-conditions/greeks.csv')"
   ]
  },
  {
   "cell_type": "code",
   "execution_count": 5,
   "id": "0ae69f90",
   "metadata": {
    "execution": {
     "iopub.execute_input": "2023-08-07T16:15:33.044754Z",
     "iopub.status.busy": "2023-08-07T16:15:33.044276Z",
     "iopub.status.idle": "2023-08-07T16:15:33.055074Z",
     "shell.execute_reply": "2023-08-07T16:15:33.053977Z"
    },
    "papermill": {
     "duration": 0.04007,
     "end_time": "2023-08-07T16:15:33.057363",
     "exception": false,
     "start_time": "2023-08-07T16:15:33.017293",
     "status": "completed"
    },
    "tags": []
   },
   "outputs": [],
   "source": [
    "def get_traindf():\n",
    "    train = pd.read_csv('/kaggle/input/icr-identify-age-related-conditions/train.csv') \n",
    "    greeks = pd.read_csv('/kaggle/input/icr-identify-age-related-conditions/greeks.csv')\n",
    "    \n",
    "    rows=[102,194,203,292,356,360,372,457,458,586] \n",
    "    train['Correction'] = 0\n",
    "    train.loc[rows,'Correction']=1 \n",
    "\n",
    "    first_category = train.EJ.unique()[0]\n",
    "    train.EJ = train.EJ.eq(first_category).astype('int')\n",
    "    test.EJ = test.EJ.eq(first_category).astype('int')\n",
    "\n",
    "    from datetime import datetime\n",
    "    times = greeks.Epsilon.copy()\n",
    "    times[greeks.Epsilon != 'Unknown'] = greeks.Epsilon[greeks.Epsilon != 'Unknown'].map(lambda x: datetime.strptime(x,'%m/%d/%Y').toordinal())\n",
    "    times[greeks.Epsilon == 'Unknown'] = np.nan\n",
    "\n",
    "    train_pred_and_time = pd.concat((train, times), axis=1)\n",
    "    return train_pred_and_time"
   ]
  },
  {
   "cell_type": "code",
   "execution_count": 6,
   "id": "e412bc89",
   "metadata": {
    "execution": {
     "iopub.execute_input": "2023-08-07T16:15:33.108433Z",
     "iopub.status.busy": "2023-08-07T16:15:33.107696Z",
     "iopub.status.idle": "2023-08-07T16:15:33.117051Z",
     "shell.execute_reply": "2023-08-07T16:15:33.116033Z"
    },
    "papermill": {
     "duration": 0.037963,
     "end_time": "2023-08-07T16:15:33.119676",
     "exception": false,
     "start_time": "2023-08-07T16:15:33.081713",
     "status": "completed"
    },
    "tags": []
   },
   "outputs": [],
   "source": [
    "def get_traindf2():\n",
    "    train = pd.read_csv('/kaggle/input/icr-identify-age-related-conditions/train.csv') \n",
    "    greeks = pd.read_csv('/kaggle/input/icr-identify-age-related-conditions/greeks.csv')\n",
    "    \n",
    "    rows=[102,194,203,292,356,360,372,457,458,586] \n",
    "    train['Correction'] = 0\n",
    "    train.loc[rows,'Correction']=1 \n",
    "\n",
    "#     first_category = train.EJ.unique()[0]\n",
    "#     train.EJ = train.EJ.eq(first_category).astype('int')\n",
    "#     test.EJ = test.EJ.eq(first_category).astype('int')\n",
    "\n",
    "    from datetime import datetime\n",
    "    times = greeks.Epsilon.copy()\n",
    "    times[greeks.Epsilon != 'Unknown'] = greeks.Epsilon[greeks.Epsilon != 'Unknown'].map(lambda x: datetime.strptime(x,'%m/%d/%Y').toordinal())\n",
    "    times[greeks.Epsilon == 'Unknown'] = np.nan\n",
    "\n",
    "    train_pred_and_time = pd.concat((train, times), axis=1)\n",
    "    return train_pred_and_time"
   ]
  },
  {
   "cell_type": "code",
   "execution_count": 7,
   "id": "74687580",
   "metadata": {
    "execution": {
     "iopub.execute_input": "2023-08-07T16:15:33.170101Z",
     "iopub.status.busy": "2023-08-07T16:15:33.169245Z",
     "iopub.status.idle": "2023-08-07T16:15:33.175556Z",
     "shell.execute_reply": "2023-08-07T16:15:33.174712Z"
    },
    "papermill": {
     "duration": 0.034256,
     "end_time": "2023-08-07T16:15:33.177829",
     "exception": false,
     "start_time": "2023-08-07T16:15:33.143573",
     "status": "completed"
    },
    "tags": []
   },
   "outputs": [],
   "source": [
    "# def get_preprocessed(train,test):\n",
    "# #     train = pd.read_csv('/kaggle/input/icr-identify-age-related-conditions/train.csv') \n",
    "# #     test = pd.read_csv('/kaggle/input/icr-identify-age-related-conditions/test.csv')\n",
    "#     predictor_columns = [n for n in train.columns if n != 'Class' and n != 'Id']\n",
    "    \n",
    "#     greeks = pd.read_csv('/kaggle/input/icr-identify-age-related-conditions/greeks.csv')\n",
    "\n",
    "#     first_category = train.EJ.unique()[0]\n",
    "#     train.EJ = train.EJ.eq(first_category).astype('int')\n",
    "#     test.EJ = test.EJ.eq(first_category).astype('int')\n",
    "\n",
    "#     from datetime import datetime\n",
    "#     times = greeks.Epsilon.copy()\n",
    "#     times[greeks.Epsilon != 'Unknown'] = greeks.Epsilon[greeks.Epsilon != 'Unknown'].map(lambda x: datetime.strptime(x,'%m/%d/%Y').toordinal())\n",
    "#     times[greeks.Epsilon == 'Unknown'] = np.nan\n",
    "\n",
    "#     train_pred_and_time = pd.concat((train, times), axis=1)    \n",
    "    \n",
    "#     test_predictors = test[predictor_columns]\n",
    "#     first_category = test_predictors.EJ.unique()[0]\n",
    "#     test_predictors.EJ = test_predictors.EJ.eq(first_category).astype('int')\n",
    "#     test_predictors['Epsilon'] = train_pred_and_time.Epsilon.max() + 1\n",
    "    \n",
    "# #     test_pred_and_time = np.concatenate((test_predictors, np.zeros((len(test_predictors), 1)) + train_pred_and_time.Epsilon.max() + 1), axis=1)\n",
    "# #     train_pred_and_time.drop(['Class','Id'],inplace=True, axis=1)\n",
    "#     train_pred_and_time = feature(train_pred_and_time)\n",
    "#     test_predictors = feature(test_predictors)\n",
    "#     df = pd.concat([train_pred_and_time,test_predictors])\n",
    "#     bq_median = df['BQ'].median()\n",
    "#     el_median = df['EL'].median() \n",
    "    \n",
    "#     train_pred_and_time['BQ']=train_pred_and_time['BQ'].fillna(bq_median)\n",
    "#     train_pred_and_time['EL']=train_pred_and_time['EL'].fillna(el_median)\n",
    "    \n",
    "#     test_predictors['BQ']=test_predictors['BQ'].fillna(bq_median)\n",
    "#     test_predictors['EL']=test_predictors['EL'].fillna(el_median)\n",
    "    \n",
    "   \n",
    "    \n",
    "# #     imputer_knn = KNNImputer(n_neighbors=3) #, weights=\"distance\")\n",
    "# #     sc=StandardScaler()\n",
    "    \n",
    "# #     imputer_knn.fit(df)\n",
    "# #     sc.fit(df)\n",
    "    \n",
    "#     return train_pred_and_time,test_predictors"
   ]
  },
  {
   "cell_type": "code",
   "execution_count": 8,
   "id": "a440b50b",
   "metadata": {
    "execution": {
     "iopub.execute_input": "2023-08-07T16:15:33.227846Z",
     "iopub.status.busy": "2023-08-07T16:15:33.227106Z",
     "iopub.status.idle": "2023-08-07T16:15:33.232008Z",
     "shell.execute_reply": "2023-08-07T16:15:33.230910Z"
    },
    "papermill": {
     "duration": 0.032994,
     "end_time": "2023-08-07T16:15:33.234361",
     "exception": false,
     "start_time": "2023-08-07T16:15:33.201367",
     "status": "completed"
    },
    "tags": []
   },
   "outputs": [],
   "source": [
    "# test2 = train.sample(frac=0.3,random_state=42)\n",
    "# test = test2.copy(deep=True)\n",
    "# # test.drop(['Id','Class'],inplace=True, axis=1)\n",
    "# y_true = test2['Class']\n",
    "# test2.drop(['Class'],inplace=True, axis=1)"
   ]
  },
  {
   "cell_type": "code",
   "execution_count": 9,
   "id": "23677966",
   "metadata": {
    "execution": {
     "iopub.execute_input": "2023-08-07T16:15:33.284105Z",
     "iopub.status.busy": "2023-08-07T16:15:33.283302Z",
     "iopub.status.idle": "2023-08-07T16:15:33.295847Z",
     "shell.execute_reply": "2023-08-07T16:15:33.294680Z"
    },
    "papermill": {
     "duration": 0.040278,
     "end_time": "2023-08-07T16:15:33.298144",
     "exception": false,
     "start_time": "2023-08-07T16:15:33.257866",
     "status": "completed"
    },
    "tags": []
   },
   "outputs": [
    {
     "data": {
      "text/plain": [
       "Index(['BQ', 'CB', 'CC', 'DU', 'EL', 'FC', 'FL', 'FS', 'GL'], dtype='object')"
      ]
     },
     "execution_count": 9,
     "metadata": {},
     "output_type": "execute_result"
    }
   ],
   "source": [
    "train.columns[train.isnull().any()]"
   ]
  },
  {
   "cell_type": "code",
   "execution_count": 10,
   "id": "2a48e720",
   "metadata": {
    "execution": {
     "iopub.execute_input": "2023-08-07T16:15:33.347442Z",
     "iopub.status.busy": "2023-08-07T16:15:33.346956Z",
     "iopub.status.idle": "2023-08-07T16:15:33.352140Z",
     "shell.execute_reply": "2023-08-07T16:15:33.350940Z"
    },
    "papermill": {
     "duration": 0.033283,
     "end_time": "2023-08-07T16:15:33.355041",
     "exception": false,
     "start_time": "2023-08-07T16:15:33.321758",
     "status": "completed"
    },
    "tags": []
   },
   "outputs": [],
   "source": [
    "# train['dupind'aggregate] = [1 if train.loc[:,['AR', 'AY', 'BZ', 'DF', 'DV']].duplicated() else 0]\n",
    "\n",
    "# train['dupind'] = train.loc[:, ['AR', 'AY', 'BZ', 'DF', 'DV']].duplicated().astype(int)\n",
    "# test['dupind']= test.loc[:, ['AR', 'AY', 'BZ', 'DF', 'DV']].duplicated().astype(int)\n"
   ]
  },
  {
   "cell_type": "code",
   "execution_count": 11,
   "id": "611ef0b5",
   "metadata": {
    "execution": {
     "iopub.execute_input": "2023-08-07T16:15:33.406004Z",
     "iopub.status.busy": "2023-08-07T16:15:33.405546Z",
     "iopub.status.idle": "2023-08-07T16:15:33.411133Z",
     "shell.execute_reply": "2023-08-07T16:15:33.410068Z"
    },
    "papermill": {
     "duration": 0.034656,
     "end_time": "2023-08-07T16:15:33.413818",
     "exception": false,
     "start_time": "2023-08-07T16:15:33.379162",
     "status": "completed"
    },
    "tags": []
   },
   "outputs": [],
   "source": [
    "# bq_median = train['BQ'].median()\n",
    "# el_median = train['EL'].median()\n",
    "# train['BQ']=train['BQ'].fillna(bq_median)\n",
    "# train['EL']=train['EL'].fillna(el_median)"
   ]
  },
  {
   "cell_type": "code",
   "execution_count": 12,
   "id": "20bb643a",
   "metadata": {
    "execution": {
     "iopub.execute_input": "2023-08-07T16:15:33.464330Z",
     "iopub.status.busy": "2023-08-07T16:15:33.463514Z",
     "iopub.status.idle": "2023-08-07T16:15:33.478669Z",
     "shell.execute_reply": "2023-08-07T16:15:33.477709Z"
    },
    "papermill": {
     "duration": 0.043467,
     "end_time": "2023-08-07T16:15:33.481011",
     "exception": false,
     "start_time": "2023-08-07T16:15:33.437544",
     "status": "completed"
    },
    "tags": []
   },
   "outputs": [],
   "source": [
    "first_category = train.EJ.unique()[0]\n",
    "train.EJ = train.EJ.eq(first_category).astype('int')\n",
    "test.EJ = test.EJ.eq(first_category).astype('int')"
   ]
  },
  {
   "cell_type": "code",
   "execution_count": 13,
   "id": "0d8f53a6",
   "metadata": {
    "execution": {
     "iopub.execute_input": "2023-08-07T16:15:33.530551Z",
     "iopub.status.busy": "2023-08-07T16:15:33.529676Z",
     "iopub.status.idle": "2023-08-07T16:15:33.541597Z",
     "shell.execute_reply": "2023-08-07T16:15:33.540278Z"
    },
    "papermill": {
     "duration": 0.03999,
     "end_time": "2023-08-07T16:15:33.544354",
     "exception": false,
     "start_time": "2023-08-07T16:15:33.504364",
     "status": "completed"
    },
    "tags": []
   },
   "outputs": [],
   "source": [
    "def feature(data):\n",
    "    X=data.copy(deep=True)\n",
    "    X['out_GL'] = 0\n",
    "    X.loc[X['GL']<1,'out_GL'] = X.loc[X['GL']<1,'GL'].map(lambda x : x-X.loc[X['GL']<1,'GL'].mean())\n",
    "    X.loc[X['GL']>1.5,'out_GL'] = X.loc[X['GL']>1.5,'GL'].map(lambda x : x-X.loc[X['GL']>1.5,'GL'].mean())\n",
    "    X.out_GL = X.out_GL.astype('float')\n",
    "    X['DA*CS'] = np.log(X.DA*2 / X.CS**0.5)\n",
    "#     X['dupind1'] = X.loc[:, ['AR', 'AY', 'BZ', 'DF', 'DV']].duplicated().astype(int)\n",
    "    X['dupind1'] = X.loc[:, ['AR', 'AY', 'BZ', 'DF', 'DV']].duplicated(keep=False).astype(int)\n",
    "\n",
    "    X['dupind2'] = 1-X['dupind1']\n",
    "    return X"
   ]
  },
  {
   "cell_type": "code",
   "execution_count": 14,
   "id": "74dd4166",
   "metadata": {
    "execution": {
     "iopub.execute_input": "2023-08-07T16:15:33.597509Z",
     "iopub.status.busy": "2023-08-07T16:15:33.596180Z",
     "iopub.status.idle": "2023-08-07T16:15:33.601683Z",
     "shell.execute_reply": "2023-08-07T16:15:33.600679Z"
    },
    "papermill": {
     "duration": 0.034845,
     "end_time": "2023-08-07T16:15:33.603977",
     "exception": false,
     "start_time": "2023-08-07T16:15:33.569132",
     "status": "completed"
    },
    "tags": []
   },
   "outputs": [],
   "source": [
    "# def feature(data):\n",
    "#     X=data.copy(deep=True)\n",
    "#     X['out_GL'] = 0\n",
    "#     X.loc[X['GL']<1,'out_GL'] = X.loc[X['GL']<1,'GL'].map(lambda x : x-X.loc[X['GL']<1,'GL'].mean())\n",
    "#     X.loc[X['GL']>1.5,'out_GL'] = X.loc[X['GL']>1.5,'GL'].map(lambda x : x-X.loc[X['GL']>1.5,'GL'].mean())\n",
    "#     X.out_GL = X.out_GL.astype('float')\n",
    "#     X['DA*CS'] = np.log(X.DA*2 / X.CS**0.5)\n",
    "#     return X"
   ]
  },
  {
   "cell_type": "code",
   "execution_count": 15,
   "id": "1a162de7",
   "metadata": {
    "execution": {
     "iopub.execute_input": "2023-08-07T16:15:33.653944Z",
     "iopub.status.busy": "2023-08-07T16:15:33.653522Z",
     "iopub.status.idle": "2023-08-07T16:15:33.658420Z",
     "shell.execute_reply": "2023-08-07T16:15:33.657363Z"
    },
    "papermill": {
     "duration": 0.032758,
     "end_time": "2023-08-07T16:15:33.660713",
     "exception": false,
     "start_time": "2023-08-07T16:15:33.627955",
     "status": "completed"
    },
    "tags": []
   },
   "outputs": [],
   "source": [
    "# def feature1(data):\n",
    "#     X=data.copy(deep=True)\n",
    "#     X['out_GL'] = 0\n",
    "#     X.loc[X['GL']<1,'out_GL'] = X.loc[X['GL']<1,'GL'].map(lambda x : x-X.loc[X['GL']<1,'GL'].mean())\n",
    "#     X.loc[X['GL']>1.5,'out_GL'] = X.loc[X['GL']>1.5,'GL'].map(lambda x : x-X.loc[X['GL']>1.5,'GL'].mean())\n",
    "#     X.out_GL = X.out_GL.astype('float')\n",
    "# #     X['DA*CS'] = np.log(X.DA*2 / X.CS**0.5)\n",
    "#     return X"
   ]
  },
  {
   "cell_type": "code",
   "execution_count": 16,
   "id": "da3012ee",
   "metadata": {
    "execution": {
     "iopub.execute_input": "2023-08-07T16:15:33.711664Z",
     "iopub.status.busy": "2023-08-07T16:15:33.710996Z",
     "iopub.status.idle": "2023-08-07T16:15:33.715589Z",
     "shell.execute_reply": "2023-08-07T16:15:33.714762Z"
    },
    "papermill": {
     "duration": 0.032902,
     "end_time": "2023-08-07T16:15:33.717939",
     "exception": false,
     "start_time": "2023-08-07T16:15:33.685037",
     "status": "completed"
    },
    "tags": []
   },
   "outputs": [],
   "source": [
    "from sklearn.model_selection import KFold as KF, GridSearchCV\n",
    " \n",
    "cv_inner = KF(n_splits = 5, shuffle=True, random_state=42)"
   ]
  },
  {
   "cell_type": "code",
   "execution_count": 17,
   "id": "62c4ff28",
   "metadata": {
    "execution": {
     "iopub.execute_input": "2023-08-07T16:15:33.768181Z",
     "iopub.status.busy": "2023-08-07T16:15:33.767774Z",
     "iopub.status.idle": "2023-08-07T16:15:33.776458Z",
     "shell.execute_reply": "2023-08-07T16:15:33.775304Z"
    },
    "papermill": {
     "duration": 0.03696,
     "end_time": "2023-08-07T16:15:33.779323",
     "exception": false,
     "start_time": "2023-08-07T16:15:33.742363",
     "status": "completed"
    },
    "tags": []
   },
   "outputs": [],
   "source": [
    "def balanced_log_loss(y_true, y_pred):\n",
    "    # y_true: correct labels 0, 1\n",
    "    # y_pred: predicted probabilities of class=1\n",
    "    # calculate the number of observations for each class\n",
    "    N_0 = np.sum(1 - y_true)\n",
    "    N_1 = np.sum(y_true)\n",
    "    # calculate the weights for each class to balance classes\n",
    "    w_0 = 1 / N_0\n",
    "    w_1 = 1 / N_1\n",
    "    # calculate the predicted probabilities for each class\n",
    "    p_1 = np.clip(y_pred, 1e-15, 1 - 1e-15)\n",
    "    p_0 = 1 - p_1\n",
    "    # calculate the summed log loss for each class\n",
    "    log_loss_0 = -np.sum((1 - y_true) * np.log(p_0))\n",
    "    log_loss_1 = -np.sum(y_true * np.log(p_1))\n",
    "    # calculate the weighted summed logarithmic loss\n",
    "    # (factgor of 2 included to give same result as LL with balanced input)\n",
    "    balanced_log_loss = 2*(w_0 * log_loss_0 + w_1 * log_loss_1) / (w_0 + w_1)\n",
    "    # return the average log loss\n",
    "    return balanced_log_loss/(N_0+N_1)"
   ]
  },
  {
   "cell_type": "code",
   "execution_count": 18,
   "id": "e336f39c",
   "metadata": {
    "execution": {
     "iopub.execute_input": "2023-08-07T16:15:33.830506Z",
     "iopub.status.busy": "2023-08-07T16:15:33.829198Z",
     "iopub.status.idle": "2023-08-07T16:15:33.843661Z",
     "shell.execute_reply": "2023-08-07T16:15:33.842503Z"
    },
    "papermill": {
     "duration": 0.042297,
     "end_time": "2023-08-07T16:15:33.846275",
     "exception": false,
     "start_time": "2023-08-07T16:15:33.803978",
     "status": "completed"
    },
    "tags": []
   },
   "outputs": [],
   "source": [
    "class Ensemble():\n",
    "    def __init__(self):\n",
    "        self.imputer = SimpleImputer(missing_values=np.nan, strategy='median')\n",
    "\n",
    "        self.classifiers =[xgboost.XGBClassifier(n_estimators=100,max_depth=3,learning_rate=0.2,subsample=0.9,colsample_bytree=0.85),\n",
    "                           xgboost.XGBClassifier(),\n",
    "                           TabPFNClassifier(N_ensemble_configurations=24),\n",
    "                          TabPFNClassifier(N_ensemble_configurations=64)]\n",
    "    \n",
    "    def fit(self,X,y):\n",
    "        y = y.values\n",
    "        unique_classes, y = np.unique(y, return_inverse=True)\n",
    "        self.classes_ = unique_classes\n",
    "        first_category = X.EJ.unique()[0]\n",
    "        X.EJ = X.EJ.eq(first_category).astype('int')\n",
    "        X = self.imputer.fit_transform(X)\n",
    "#         X = normalize(X,axis=0)\n",
    "        for classifier in self.classifiers:\n",
    "            if classifier==self.classifiers[2] or classifier==self.classifiers[3]:\n",
    "                classifier.fit(X,y,overwrite_warning =True)\n",
    "            else :\n",
    "                classifier.fit(X, y)\n",
    "     \n",
    "    def predict_proba(self, x):\n",
    "        x = self.imputer.transform(x)\n",
    "#         x = normalize(x,axis=0)\n",
    "        probabilities = np.stack([classifier.predict_proba(x) for classifier in self.classifiers])\n",
    "        averaged_probabilities = np.mean(probabilities, axis=0)\n",
    "        class_0_est_instances = averaged_probabilities[:, 0].sum()\n",
    "        others_est_instances = averaged_probabilities[:, 1:].sum()\n",
    "        # Weighted probabilities based on class imbalance\n",
    "        new_probabilities = averaged_probabilities * np.array([[1/(class_0_est_instances if i==0 else others_est_instances) for i in range(averaged_probabilities.shape[1])]])\n",
    "        return new_probabilities / np.sum(new_probabilities, axis=1, keepdims=1) "
   ]
  },
  {
   "cell_type": "code",
   "execution_count": 19,
   "id": "24bb09c3",
   "metadata": {
    "execution": {
     "iopub.execute_input": "2023-08-07T16:15:33.895585Z",
     "iopub.status.busy": "2023-08-07T16:15:33.895154Z",
     "iopub.status.idle": "2023-08-07T16:15:33.903273Z",
     "shell.execute_reply": "2023-08-07T16:15:33.901998Z"
    },
    "papermill": {
     "duration": 0.035894,
     "end_time": "2023-08-07T16:15:33.906035",
     "exception": false,
     "start_time": "2023-08-07T16:15:33.870141",
     "status": "completed"
    },
    "tags": []
   },
   "outputs": [],
   "source": [
    "def ScoreMetric1(y_true, y_pred): \n",
    "    \n",
    "    ytrue = [0 if val == 0 else 1 for val in y_true]\n",
    "    \n",
    "     \n",
    "    probabilities = np.concatenate((y_pred[:,:1], np.sum(y_pred[:,1:], 1, keepdims=True)), axis=1)\n",
    "    p0 = probabilities[:,:1] \n",
    "     \n",
    "    nc = np.bincount(ytrue);\n",
    "    return log_loss(ytrue, 1-p0, sample_weight = 1 / nc[ytrue], eps=1e-15) "
   ]
  },
  {
   "cell_type": "code",
   "execution_count": 20,
   "id": "923093ae",
   "metadata": {
    "execution": {
     "iopub.execute_input": "2023-08-07T16:15:33.956033Z",
     "iopub.status.busy": "2023-08-07T16:15:33.955611Z",
     "iopub.status.idle": "2023-08-07T16:15:33.963179Z",
     "shell.execute_reply": "2023-08-07T16:15:33.961831Z"
    },
    "papermill": {
     "duration": 0.035754,
     "end_time": "2023-08-07T16:15:33.965951",
     "exception": false,
     "start_time": "2023-08-07T16:15:33.930197",
     "status": "completed"
    },
    "tags": []
   },
   "outputs": [],
   "source": [
    "# ytst = greeks.Alpha.copy(deep=True)\n",
    "\n",
    "# le = LabelEncoder()\n",
    "# y_meta1 = le.fit_transform(ytst)\n",
    "# print(le.classes_)      \n",
    "\n",
    "# xz = train_pred_and_time.copy(deep=True)\n",
    "# xz.drop(['Id','Class'],inplace=True, axis=1)\n",
    "\n",
    "# impute = SimpleImputer(missing_values=np.nan, strategy='median')\n",
    "# xz1 = impute.fit_transform(xz)  \n",
    "\n",
    "\n",
    "# sc=StandardScaler()\n",
    "# xz2=sc.fit_transform(xz1)\n",
    "\n",
    "# param_grid = {                      \n",
    "                                   \n",
    "#             'learning_rate': [0.1,0.2],\n",
    "# #             'scale_pos_weight': [4.71],\n",
    "    \n",
    "#             'lambda': [0.01,0.001],\n",
    "#             'alpha': [0.0001,0.00001],\n",
    "    \n",
    "# #             'lambda': [0.01,0.1,0.001],\n",
    "# #             'alpha': [0.5,0.03,0.00001],\n",
    "#             'subsample': [0.8],\n",
    "#             'colsample_bytree': [0.7,0.9],\n",
    "#             'max_depth': [10,20,100],\n",
    "#             'min_child_weight': [5,10],\n",
    "# #             'class_weight':['balanced']\n",
    "# #             'eta': 2.09477807126539E-06,\n",
    "# #             'gamma': 0.000847289463422307,\n",
    "# #             'grow_policy': 'depthwise',\n",
    "# #             'n_jobs': -1,\n",
    "# #             'objective': 'binary:logistic',\n",
    "# #             'eval_metric': 'logloss',\n",
    "# #             'verbosity': 0,\n",
    "# #             'random_state': 42) \n",
    "#              }\n",
    "\n",
    " \n",
    "# grid_search = GridSearchCV(xgb, param_grid, cv=5, scoring=make_scorer(ScoreMetric1, needs_proba=True,greater_is_better=False))\n",
    "\n",
    "\n",
    "# grid_search.fit(xz2, y_meta1)\n",
    "\n",
    "# # Print the best hyperparameters found\n",
    "# print(\"Best Hyperparameters: \", grid_search.best_params_)\n",
    "\n",
    "# # Evaluate the best model on your data\n",
    "# best_model = grid_search.best_estimator_\n",
    "# y_pred = best_model.predict(xz2)\n",
    "\n",
    "# # Print classification report or other evaluation metrics\n",
    "# print(\"Classification Report:\")\n",
    "# print(classification_report(y_meta1, y_pred))\n",
    "\n",
    "# #Best Hyperparameters:  {'alpha': 0.0001, 'colsample_bytree': 0.7, 'lambda': 0.01, \n",
    "# # 'learning_rate': 0.2, 'max_depth': 20, 'min_child_weight': 10, 'subsample': 0.8}\n",
    "\n",
    "# # {'alpha': 0.0001, 'class_weight': 'balanced', 'colsample_bytree': 0.7, 'lambda': 0.01, \n",
    "# #  'learning_rate': 0.2, 'max_depth': 20, 'min_child_weight': 10, 'subsample': 0.8}\n",
    "    "
   ]
  },
  {
   "cell_type": "code",
   "execution_count": 21,
   "id": "03c9bc15",
   "metadata": {
    "execution": {
     "iopub.execute_input": "2023-08-07T16:15:34.017064Z",
     "iopub.status.busy": "2023-08-07T16:15:34.016677Z",
     "iopub.status.idle": "2023-08-07T16:15:34.024327Z",
     "shell.execute_reply": "2023-08-07T16:15:34.023066Z"
    },
    "papermill": {
     "duration": 0.036433,
     "end_time": "2023-08-07T16:15:34.026887",
     "exception": false,
     "start_time": "2023-08-07T16:15:33.990454",
     "status": "completed"
    },
    "tags": []
   },
   "outputs": [],
   "source": [
    "# param_grid = {\n",
    "#                'colsample_bytree'  : [0.4,0.7], #[0.7,0.9]\n",
    "#                'learning_rate'     : [0.2,0.1], #[0.10,0.2]\n",
    "#                'max_depth'         : [5,10],\n",
    "#                'min_child_samples' : [5,10],                \n",
    "#                'num_leaves'        : [40,60], #[40,100]\n",
    "#                'reg_alpha'         : [0.001,0.005,0.1,0.2],\n",
    "#                'reg_lambda'        : [0.1,0.65,1],\n",
    "#                'subsample'         : [0.65,0.8] #[0.65, 0.8]\n",
    "    \n",
    "#                                   }\n",
    "\n",
    " \n",
    "# grid_search = GridSearchCV(LGBMClassifier(), param_grid, cv=5, scoring=make_scorer(ScoreMetric1, needs_proba=True,greater_is_better=False))\n",
    "\n",
    "# # ros = RandomOverSampler(random_state=42)\n",
    "# # x_train1,y_train1 = ros.fit_resample(xz2, y_meta1) \n",
    "# # grid_search.fit(x_train1, y_train1)\n",
    "\n",
    "# grid_search.fit(xz2, y_meta1)\n",
    "\n",
    "# # Print the best hyperparameters found\n",
    "# print(\"Best Hyperparameters: \", grid_search.best_params_)\n",
    "\n",
    "# # Evaluate the best model on your data\n",
    "# best_model = grid_search.best_estimator_\n",
    "# y_pred = best_model.predict(xz2)\n",
    "\n",
    "# # Print classification report or other evaluation metrics\n",
    "# print(\"Classification Report:\")\n",
    "# print(classification_report(y_meta1, y_pred))\n",
    "\n",
    "# # {'colsample_bytree': 0.7, 'learning_rate': 0.1, 'max_depth': 3, 'min_child_samples': 10,\n",
    "# # 'num_leaves': 40, 'reg_alpha': 0.001, 'reg_lambda': 0.65, 'subsample': 0.8}\n",
    "\n",
    "# # {'colsample_bytree': 0.7, 'learning_rate': 0.1, 'max_depth': 3, 'min_child_samples': 10, 'num_leaves': 40, 'reg_alpha': 0.001, 'reg_lambda': 0.65, 'subsample': 0.8}\n",
    "    \n",
    "# #{'colsample_bytree': 0.4, 'learning_rate': 0.1, 'max_depth': 3, 'min_child_samples': 5, \n",
    "# # 'num_leaves': 40, 'reg_alpha': 0.005, 'reg_lambda': 0.65, 'subsample': 0.65}\n",
    "\n",
    "\n",
    "# #  {'colsample_bytree': 0.4, 'learning_rate': 0.1, 'max_depth': 5, 'min_child_samples': 10, 'num_leaves': 40, 'reg_alpha': 0.2, 'reg_lambda': 0.65, 'subsample': 0.65}"
   ]
  },
  {
   "cell_type": "code",
   "execution_count": 22,
   "id": "a8cec387",
   "metadata": {
    "execution": {
     "iopub.execute_input": "2023-08-07T16:15:34.076562Z",
     "iopub.status.busy": "2023-08-07T16:15:34.076147Z",
     "iopub.status.idle": "2023-08-07T16:15:34.083401Z",
     "shell.execute_reply": "2023-08-07T16:15:34.081866Z"
    },
    "papermill": {
     "duration": 0.03531,
     "end_time": "2023-08-07T16:15:34.086159",
     "exception": false,
     "start_time": "2023-08-07T16:15:34.050849",
     "status": "completed"
    },
    "tags": []
   },
   "outputs": [],
   "source": [
    "# param_grid = {\n",
    "#                C : [0.1,10,20],\n",
    "#     penalty :[ 'l1','l2'] , \n",
    "#     multi_class: ['ovr'],\n",
    "#      solver :['liblinear','lbfgs'],\n",
    "#     max_iter : [300,2000,5000]\n",
    "    \n",
    "#                                   }\n",
    "\n",
    " \n",
    "# grid_search = GridSearchCV(LogisticRegression(), param_grid, cv=5, scoring=make_scorer(ScoreMetric1, needs_proba=True,greater_is_better=False))\n",
    "\n",
    "# # ros = RandomOverSampler(random_state=42)\n",
    "# # x_train1,y_train1 = ros.fit_resample(xz2, y_meta1) \n",
    "# # grid_search.fit(x_train1, y_train1)\n",
    "\n",
    "# grid_search.fit(xz2, y_meta1)\n",
    "\n",
    "# # Print the best hyperparameters found\n",
    "# print(\"Best Hyperparameters: \", grid_search.best_params_)\n",
    "\n",
    "# # Evaluate the best model on your data\n",
    "# best_model = grid_search.best_estimator_\n",
    "# y_pred = best_model.predict(xz2)\n",
    "\n",
    "# # Print classification report or other evaluation metrics\n",
    "# print(\"Classification Report:\")\n",
    "# print(classification_report(y_meta1, y_pred))\n",
    "\n",
    "# # {'colsample_bytree': 0.7, 'learning_rate': 0.1, 'max_depth': 3, 'min_child_samples': 10,\n",
    "# # 'num_leaves': 40, 'reg_alpha': 0.001, 'reg_lambda': 0.65, 'subsample': 0.8}\n",
    "\n",
    "# # {'colsample_bytree': 0.7, 'learning_rate': 0.1, 'max_depth': 3, 'min_child_samples': 10, 'num_leaves': 40, 'reg_alpha': 0.001, 'reg_lambda': 0.65, 'subsample': 0.8}\n",
    "    \n",
    "# #{'colsample_bytree': 0.4, 'learning_rate': 0.1, 'max_depth': 3, 'min_child_samples': 5, \n",
    "# # 'num_leaves': 40, 'reg_alpha': 0.005, 'reg_lambda': 0.65, 'subsample': 0.65}"
   ]
  },
  {
   "cell_type": "code",
   "execution_count": 23,
   "id": "bd7f07c2",
   "metadata": {
    "execution": {
     "iopub.execute_input": "2023-08-07T16:15:34.136464Z",
     "iopub.status.busy": "2023-08-07T16:15:34.136070Z",
     "iopub.status.idle": "2023-08-07T16:15:34.142717Z",
     "shell.execute_reply": "2023-08-07T16:15:34.141561Z"
    },
    "papermill": {
     "duration": 0.034745,
     "end_time": "2023-08-07T16:15:34.145100",
     "exception": false,
     "start_time": "2023-08-07T16:15:34.110355",
     "status": "completed"
    },
    "tags": []
   },
   "outputs": [],
   "source": [
    "# ytst = greeks.Alpha.copy(deep=True)\n",
    "\n",
    "# le = LabelEncoder()\n",
    "# y_meta1 = le.fit_transform(ytst)\n",
    "# print(le.classes_)      \n",
    "\n",
    "# xz = train_pred_and_time.copy(deep=True)\n",
    "# xz.drop(['Id','Class'],inplace=True, axis=1)\n",
    "\n",
    "# impute = SimpleImputer(missing_values=np.nan, strategy='median')\n",
    "# xz1 = impute.fit_transform(xz)  \n",
    "\n",
    "\n",
    "# sc=StandardScaler()\n",
    "# xz2=sc.fit_transform(xz1)\n",
    "\n",
    "# param_grid = {'C' : [0.1,0.5],\n",
    "#     'penalty' :[ 'l1','l2'] , \n",
    "#     'multi_class': ['ovr'],\n",
    "#      'solver' :['liblinear','lbfgs'],\n",
    "#     'class_weight': ['balanced',None],\n",
    "#     'max_iter' : [300,2000,5000]\n",
    "    \n",
    "#                                   }\n",
    "\n",
    " \n",
    "# grid_search = GridSearchCV(LogisticRegression(), param_grid, cv=5, scoring=make_scorer(ScoreMetric1, needs_proba=True,greater_is_better=False))\n",
    "\n",
    "\n",
    "# grid_search.fit(xz2, y_meta1)\n",
    "\n",
    "# # Print the best hyperparameters found\n",
    "# print(\"Best Hyperparameters: \", grid_search.best_params_)\n",
    "\n",
    "# # Evaluate the best model on your data\n",
    "# best_model = grid_search.best_estimator_\n",
    "# y_pred = best_model.predict(xz2)\n",
    "\n",
    "# # Print classification report or other evaluation metrics\n",
    "# print(\"Classification Report:\")\n",
    "# print(classification_report(y_meta1, y_pred))\n",
    "    \n",
    "\n",
    "# # {'C': 0.5, 'class_weight': 'balanced', 'max_iter': 300, 'multi_class': 'ovr', 'penalty': 'l2', 'solver': 'liblinear'}"
   ]
  },
  {
   "cell_type": "code",
   "execution_count": 24,
   "id": "a4ff663e",
   "metadata": {
    "execution": {
     "iopub.execute_input": "2023-08-07T16:15:34.200213Z",
     "iopub.status.busy": "2023-08-07T16:15:34.199790Z",
     "iopub.status.idle": "2023-08-07T16:15:34.207955Z",
     "shell.execute_reply": "2023-08-07T16:15:34.206790Z"
    },
    "papermill": {
     "duration": 0.041376,
     "end_time": "2023-08-07T16:15:34.210381",
     "exception": false,
     "start_time": "2023-08-07T16:15:34.169005",
     "status": "completed"
    },
    "tags": []
   },
   "outputs": [],
   "source": [
    "# #  cat_params = {\n",
    "# #         'learning_rate': 0.005, \n",
    "# #         'iterations': num_boost_round, \n",
    "# #         'depth': 4, # \n",
    "# #         'colsample_bylevel': 0.50,\n",
    "# #         'subsample': 0.80,\n",
    "# #         'l2_leaf_reg': 3, # 3, 30\n",
    "# #         'random_seed': seed,\n",
    "# #         'auto_class_weights': 'Balanced'\n",
    "# #         # 'task_type':'GPU', \n",
    "# #     }\n",
    "    \n",
    "    \n",
    "# ytst = greeks.Alpha.copy(deep=True)\n",
    "\n",
    "# le = LabelEncoder()\n",
    "# y_meta1 = le.fit_transform(ytst)\n",
    "# print(le.classes_)      \n",
    "\n",
    "# xz = train_pred_and_time.copy(deep=True)\n",
    "# xz = feature(xz)\n",
    "# xz.drop(['Id','Class'],inplace=True, axis=1)\n",
    "\n",
    "# impute = SimpleImputer(missing_values=np.nan, strategy='median')\n",
    "# xz1 = impute.fit_transform(xz)  \n",
    "\n",
    "# sc=StandardScaler()\n",
    "# xz2=sc.fit_transform(xz1)\n",
    "\n",
    "# param_grid = cat_params = {\n",
    "#         'learning_rate': [0.01,0.05] ,         \n",
    "#         'depth': [4, 7],\n",
    "#         'colsample_bylevel': [0.50],\n",
    "# #         'subsample': [0.80],\n",
    "#         'l2_leaf_reg': [3],# 3, 30\n",
    "#     'verbose' :[False],\n",
    "#         'auto_class_weights': ['Balanced']\n",
    "#     }\n",
    "\n",
    "# grid_search = GridSearchCV( CatBoostClassifier(), param_grid, cv=5, scoring=make_scorer(ScoreMetric1, needs_proba=True,greater_is_better=False))\n",
    "\n",
    "# grid_search.fit(xz2, y_meta1)\n",
    "\n",
    "# # Print the best hyperparameters found\n",
    "# print(\"Best Hyperparameters: \", grid_search.best_params_)\n",
    "\n",
    "# # Evaluate the best model on your data\n",
    "# best_model = grid_search.best_estimator_\n",
    "# y_pred = best_model.predict(xz2)\n",
    "\n",
    "# # Print classification report or other evaluation metrics\n",
    "# print(\"Classification Report:\")\n",
    "# print(classification_report(y_meta1, y_pred))\n",
    "    \n",
    "\n",
    "\n",
    "# # Best Hyperparameters:  {'C': 0.01, 'class_weight': 'balanced', 'gamma': 'auto', 'kernel': 'rbf', 'max_iter': -1}\n",
    "\n",
    "# # Best Hyperparameters:  {'C': 0.01, 'class_weight': 'balanced', 'gamma': 'auto', 'kernel': 'rbf', 'max_iter': -1}\n",
    "    \n",
    "    \n",
    "# # Best Hyperparameters:  {'auto_class_weights': 'Balanced', 'colsample_bylevel': 0.5, 'depth': 4, 'l2_leaf_reg': 3, 'learning_rate': 0.01, 'verbose': False}\n",
    "# # Classification Report:\n",
    "# #               precision    recall  f1-score   support\n",
    "\n",
    "# #            0       1.00      0.94      0.97       509\n",
    "# #            1       0.71      1.00      0.83        61\n",
    "# #            2       0.95      1.00      0.97        18\n",
    "# #            3       0.94      1.00      0.97        29\n",
    "\n",
    "# #     accuracy                           0.95       617\n",
    "# #    macro avg       0.90      0.99      0.94       617\n",
    "# # weighted avg       0.97      0.95      0.96       617\n",
    "\n",
    "# # Best Hyperparameters:  {'auto_class_weights': 'Balanced', 'colsample_bylevel': 0.5, 'depth': 4, 'l2_leaf_reg': 3, 'learning_rate': 0.05, 'verbose': False}\n",
    "# # Classification Report:\n",
    "# #               precision    recall  f1-score   support\n",
    "\n",
    "# #            0       1.00      1.00      1.00       509\n",
    "# #            1       1.00      1.00      1.00        61\n",
    "# #            2       1.00      1.00      1.00        18\n",
    "# #            3       1.00      1.00      1.00        29\n",
    "\n",
    "# #     accuracy                           1.00       617\n",
    "# #    macro avg       1.00      1.00      1.00       617\n",
    "# # weighted avg       1.00      1.00      1.00       617\n"
   ]
  },
  {
   "cell_type": "code",
   "execution_count": 25,
   "id": "db434aa1",
   "metadata": {
    "execution": {
     "iopub.execute_input": "2023-08-07T16:15:34.260810Z",
     "iopub.status.busy": "2023-08-07T16:15:34.260375Z",
     "iopub.status.idle": "2023-08-07T16:15:34.267302Z",
     "shell.execute_reply": "2023-08-07T16:15:34.266021Z"
    },
    "papermill": {
     "duration": 0.035185,
     "end_time": "2023-08-07T16:15:34.269809",
     "exception": false,
     "start_time": "2023-08-07T16:15:34.234624",
     "status": "completed"
    },
    "tags": []
   },
   "outputs": [],
   "source": [
    "\n",
    "\n",
    "# ytst = greeks.Alpha.copy(deep=True)\n",
    "\n",
    "# le = LabelEncoder()\n",
    "# y_meta1 = le.fit_transform(ytst)\n",
    "# print(le.classes_)      \n",
    "\n",
    "# xz = train_pred_and_time.copy(deep=True)\n",
    "# xz.drop(['Id','Class'],inplace=True, axis=1)\n",
    "\n",
    "# impute = SimpleImputer(missing_values=np.nan, strategy='median')\n",
    "# xz1 = impute.fit_transform(xz)  \n",
    "\n",
    "\n",
    "# sc=StandardScaler()\n",
    "# xz2=sc.fit_transform(xz1)\n",
    "\n",
    "# param_grid = {'C' : [10,15,20],\n",
    "#     'gamma' :[ 'auto','scale'],\n",
    "#      'kernel': ['rbf','linear','poly','sigmoid'], #‘linear’, ‘poly’, ‘rbf’, ‘sigmoid’, ‘precomputed’]\n",
    "#      'decision_function_shape':['ovo'],\n",
    "#     'class_weight': ['balanced'],\n",
    "#     'max_iter' : [-1]\n",
    "    \n",
    "#                                   }\n",
    "\n",
    " \n",
    "# grid_search = GridSearchCV( svc, param_grid, cv=5, scoring=make_scorer(ScoreMetric1, needs_proba=True,greater_is_better=False))\n",
    "\n",
    "\n",
    "# grid_search.fit(xz2, y_meta1)\n",
    "\n",
    "# # Print the best hyperparameters found\n",
    "# print(\"Best Hyperparameters: \", grid_search.best_params_)\n",
    "\n",
    "# # Evaluate the best model on your data\n",
    "# best_model = grid_search.best_estimator_\n",
    "# y_pred = best_model.predict(xz2)\n",
    "\n",
    "# # Print classification report or other evaluation metrics\n",
    "# print(\"Classification Report:\")\n",
    "# print(classification_report(y_meta1, y_pred))\n",
    "    \n",
    "\n",
    "\n",
    "# # Best Hyperparameters:  {'C': 0.01, 'class_weight': 'balanced', 'gamma': 'auto', 'kernel': 'rbf', 'max_iter': -1}\n",
    "\n",
    "# # Best Hyperparameters:  {'C': 0.01, 'class_weight': 'balanced', 'gamma': 'auto', 'kernel': 'rbf', 'max_iter': -1}"
   ]
  },
  {
   "cell_type": "code",
   "execution_count": 26,
   "id": "88fb51ea",
   "metadata": {
    "execution": {
     "iopub.execute_input": "2023-08-07T16:15:34.319425Z",
     "iopub.status.busy": "2023-08-07T16:15:34.318992Z",
     "iopub.status.idle": "2023-08-07T16:15:34.335127Z",
     "shell.execute_reply": "2023-08-07T16:15:34.333834Z"
    },
    "papermill": {
     "duration": 0.043974,
     "end_time": "2023-08-07T16:15:34.337555",
     "exception": false,
     "start_time": "2023-08-07T16:15:34.293581",
     "status": "completed"
    },
    "tags": []
   },
   "outputs": [],
   "source": [
    "# xgb1 = xgboost.XGBClassifier(alpha=0.0005, base_score=None, booster=None, callbacks=None,\n",
    "#               colsample_bylevel=None, colsample_bynode=None,\n",
    "#               colsample_bytree=0.4, early_stopping_rounds=None,\n",
    "#               enable_categorical=False, eval_metric=None, feature_types=None,\n",
    "#               gamma=None, gpu_id=None, grow_policy=None, importance_type=None,\n",
    "#               interaction_constraints=None, reg_lambda=0.01, learning_rate=0.4,\n",
    "#               max_bin=None, max_cat_threshold=None, max_cat_to_onehot=None,\n",
    "#               max_delta_step=None, max_depth=None, max_leaves=None,\n",
    "#               min_child_weight=1,   monotone_constraints=None,\n",
    "#               n_estimators=100, n_jobs=-1, num_parallel_tree=None) #,tree_method = 'gpu_hist' )  \n",
    "\n",
    "xgb = xgboost.XGBClassifier(**{'alpha': 0.0001, 'colsample_bytree': 0.7, 'lambda': 0.01, \n",
    "                               'learning_rate': 0.2, 'max_depth': 20, \n",
    "                               'min_child_weight': 10, 'subsample': 0.8})\n",
    "\n",
    "# xgbparams = {'alpha': 0.0001, 'colsample_bytree': 0.7, 'lambda': 0.01, \n",
    "#                                'learning_rate': 0.2, 'max_depth': 20, \n",
    "#                                'min_child_weight': 10, 'subsample': 0.8}\n",
    "         \n",
    "\n",
    "# cb1 = CatBoostClassifier(verbose=False,auto_class_weights='Balanced')\n",
    "\n",
    "# cb2 = CatBoostClassifier(learning_rate=0.005, \n",
    "#     verbose= False,\n",
    "     \n",
    "#     depth =4, # \n",
    "#     colsample_bylevel= 0.50,\n",
    "# #     subsample= 0.80,\n",
    "#     l2_leaf_reg= 3, # 3, 30\n",
    "     \n",
    "#     auto_class_weights='Balanced')\n",
    "\n",
    "# cb = CatBoostClassifier(**cat_params)  \n",
    "\n",
    "# cat_params = {\n",
    "#     'learning_rate': 0.005, \n",
    "#     'verbose' : False,\n",
    "     \n",
    "#     'depth': 4, # \n",
    "#     'colsample_bylevel': 0.50,\n",
    "#     'subsample': 0.80,\n",
    "#     'l2_leaf_reg': 3, # 3, 30\n",
    "#     'random_seed': seed,\n",
    "#     'auto_class_weights': 'Balanced'\n",
    "#     # 'task_type':'GPU', \n",
    "# }\n",
    "\n",
    "cb=CatBoostClassifier(**{'auto_class_weights': 'Balanced', 'colsample_bylevel': 0.5, 'depth': 4, \n",
    "                         'l2_leaf_reg': 3, 'learning_rate': 0.05, 'verbose': False})\n",
    "\n",
    "# lgbm1 = LGBMClassifier(** {'colsample_bytree': 0.4, 'learning_rate': 0.1, 'max_depth': 5, \n",
    "#                           'min_child_samples': 10, 'num_leaves': 40, 'reg_alpha': 0.2, \n",
    "#                           'reg_lambda': 0.65, 'subsample': 0.65})\n",
    "\n",
    "lgbm = LGBMClassifier(**{\n",
    "                                   'verbose'           : -1,\n",
    "    \n",
    "                                   'boosting_type'     : 'gbdt', #'dart',  #gbdt\n",
    "                                   'random_state'      : 42,\n",
    "                                   'colsample_bytree'  : 0.4,\n",
    "                                   'learning_rate'     : 0.10,\n",
    "                                   'max_depth'         : 3,\n",
    "                                   'min_child_samples' : 5,\n",
    "                                   'n_estimators'      : 150,\n",
    "                                   'num_leaves'        : 40,\n",
    "                                   'reg_alpha'         : 0.0001,\n",
    "                                   'reg_lambda'        : 0.65,\n",
    "                                   'subsample'         : 0.65, \n",
    "    \n",
    "    \n",
    "                                  }\n",
    "                      )\n",
    "\n",
    "# lr2 = LogisticRegression(C=0.1,penalty = 'l2' ,  tol=0.0001, verbose=0, multi_class='ovr',\n",
    "#                                                    solver = 'lbfgs',max_iter=5000,n_jobs=-1)\n",
    "\n",
    "lr = LogisticRegression(C=0.1,penalty = 'l2' , multi_class='ovr', tol=0.0001, verbose=0,\n",
    "                                                   solver = 'lbfgs',max_iter=5000)\n",
    "\n",
    "# lr1 = LogisticRegression(**{'C': 0.5, 'class_weight': 'balanced', 'max_iter': 300, \n",
    "#                            'multi_class': 'ovr', 'penalty': 'l2', 'solver': 'liblinear'})\n",
    "\n",
    "# svc1=SVC(probability=True,gamma='auto')\n",
    "svc=SVC(**{'probability':True,'C': 0.01, 'class_weight': 'balanced', 'gamma': 'auto', 'kernel': 'rbf', 'max_iter': -1})\n",
    "\n",
    "# svc2 = SVC(**{'probability':True,'C': 15, 'class_weight': 'balanced', 'decision_function_shape': 'ovo', 'gamma': 'auto', 'kernel': 'rbf', 'max_iter': -1})\n",
    "\n",
    "# {'C': 10, 'class_weight': 'balanced', 'decision_function_shape': 'ovo', 'gamma': 'auto', 'kernel': 'rbf', 'max_iter': -1}\n",
    "# estimators1 = [('xgb',xgb),('lgbm',lgbm1),('cb',cb),('lr',lr),('svc',svc)]\n",
    "\n",
    "# estimators = [('xgb',xgb),('lgbm',lgbm1),('cb',cb),('lr',lr)]\n",
    "\n",
    "\n",
    " "
   ]
  },
  {
   "cell_type": "code",
   "execution_count": 27,
   "id": "1193fb9c",
   "metadata": {
    "execution": {
     "iopub.execute_input": "2023-08-07T16:15:34.387012Z",
     "iopub.status.busy": "2023-08-07T16:15:34.386536Z",
     "iopub.status.idle": "2023-08-07T16:15:34.400801Z",
     "shell.execute_reply": "2023-08-07T16:15:34.399281Z"
    },
    "papermill": {
     "duration": 0.04211,
     "end_time": "2023-08-07T16:15:34.403283",
     "exception": false,
     "start_time": "2023-08-07T16:15:34.361173",
     "status": "completed"
    },
    "tags": []
   },
   "outputs": [],
   "source": [
    "class Ensemble2():\n",
    "    def __init__(self):\n",
    "        self.imputer = SimpleImputer(missing_values=np.nan, strategy='median')\n",
    "        self.sc = StandardScaler()\n",
    "        self.classifiers =[xgb,lgbm,cb,lr] \n",
    "         \n",
    "    \n",
    "    def fit(self,X,y): \n",
    "        for classifier in self.classifiers:\n",
    "            if classifier!=self.classifiers[0]:\n",
    "                X1 = self.sc.fit_transform(X)                \n",
    "                classifier.fit(X1,y)\n",
    "            else :\n",
    "                classifier.fit(X, y)\n",
    "     \n",
    "    def predict_proba(self, x):\n",
    "        probabilities = {}\n",
    "        i=1\n",
    "        for classifier in self.classifiers:\n",
    "            if classifier!=self.classifiers[0]:\n",
    "                x1 = self.sc.transform(x)\n",
    "                prob = classifier.predict_proba(x1)\n",
    "            else:\n",
    "                prob = classifier.predict_proba(x)\n",
    "            probabilities[i]=prob\n",
    "            i+=1\n",
    "#             [0.01796878307878434, 0.33245804284730207, 0.5462479882932675, 0.1033251857806461]\n",
    "#             [0.000631933404525617, 0.3766361624722337, 0.5459251005613784, 0.0768068035618623]\n",
    "#             [0.0004391345036092083, 0.31393309707096045, 0.6190759666796409, 0.06655180174578942]\n",
    "\n",
    "# [0.8093801703891068, 0.1205553028031325, 0.007347628413365422, 0.06271689839439532]\n",
    "# [0.7668911687543616, 0.14315443167281441, 0.0004410324469045659, 0.08951336712591937]\n",
    "# [0.903403487586182, 0.09568024892816951, 0.00036780456678608037, 0.000548458918862374]\n",
    "# [0.8821638424887391, 0.02306088170170961, 0.00013519731131200361, 0.0946400784982394]\n",
    "#         averaged_probabilities = probabilities[1]*0.90338 + probabilities[2]*0.0957\n",
    "#         + probabilities[3]*0.00036  + probabilities[4]*0.00055 #+ probabilities[4]*0.1\n",
    "        \n",
    "#         averaged_probabilities = probabilities[1]*0.88215 + probabilities[2]*0.0231\n",
    "#         + probabilities[3]*0.00015  + probabilities[4]*0.0946 #+ probabilities[4]*0.1\n",
    "        \n",
    "        \n",
    "        averaged_probabilities = probabilities[1]*0.159 + probabilities[2]*0.244\n",
    "        + probabilities[3]*0.4831 + probabilities[4]*0.1139 #+ probabilities[4]*0.1\n",
    "        \n",
    "#         probabilities = np.stack([classifier.predict_proba(x) for classifier in self.classifiers])\n",
    "#         averaged_probabilities = np.mean(probabilities, axis=0)\n",
    "        class_0_est_instances = averaged_probabilities[:, 0].sum()\n",
    "        others_est_instances = averaged_probabilities[:, 1:].sum()\n",
    "        # Weighted probabilities based on class imbalance\n",
    "        new_probabilities = averaged_probabilities * np.array([[1/(class_0_est_instances if i==0 else others_est_instances) for i in range(averaged_probabilities.shape[1])]])\n",
    "        return new_probabilities / np.sum(new_probabilities, axis=1, keepdims=1) "
   ]
  },
  {
   "cell_type": "code",
   "execution_count": 28,
   "id": "fde26326",
   "metadata": {
    "execution": {
     "iopub.execute_input": "2023-08-07T16:15:34.452738Z",
     "iopub.status.busy": "2023-08-07T16:15:34.452237Z",
     "iopub.status.idle": "2023-08-07T16:15:34.464277Z",
     "shell.execute_reply": "2023-08-07T16:15:34.463036Z"
    },
    "papermill": {
     "duration": 0.039648,
     "end_time": "2023-08-07T16:15:34.466779",
     "exception": false,
     "start_time": "2023-08-07T16:15:34.427131",
     "status": "completed"
    },
    "tags": []
   },
   "outputs": [],
   "source": [
    "class Ensemble3():\n",
    "    def __init__(self):\n",
    "        self.imputer = SimpleImputer(missing_values=np.nan, strategy='median')\n",
    "        self.sc = StandardScaler()\n",
    "        self.classifiers =[xgb,lgbm,cb,lr] \n",
    "         \n",
    "    \n",
    "    def fit(self,X,y): \n",
    "        for classifier in self.classifiers:\n",
    "            if classifier!=self.classifiers[0]:\n",
    "                X1 = self.sc.fit_transform(X)                \n",
    "                classifier.fit(X1,y)\n",
    "            else :\n",
    "                classifier.fit(X, y)\n",
    "     \n",
    "    def predict_proba(self, x):\n",
    "        probabilities = {}\n",
    "        i=1\n",
    "        for classifier in self.classifiers:\n",
    "            if classifier!=self.classifiers[0]:\n",
    "                x1 = self.sc.transform(x)\n",
    "                prob = classifier.predict_proba(x1)\n",
    "            else:\n",
    "                prob = classifier.predict_proba(x)\n",
    "            probabilities[i]=prob\n",
    "            i+=1\n",
    " \n",
    "        \n",
    "        \n",
    "        averaged_probabilities = probabilities[1]*0.159 + probabilities[2]*0.244\n",
    "        + probabilities[3]*0.4831 + probabilities[4]*0.1139 #+ probabilities[4]*0.1\n",
    " \n",
    "    \n",
    "        return averaged_probabilities"
   ]
  },
  {
   "cell_type": "code",
   "execution_count": 29,
   "id": "ce463efa",
   "metadata": {
    "execution": {
     "iopub.execute_input": "2023-08-07T16:15:34.516152Z",
     "iopub.status.busy": "2023-08-07T16:15:34.515757Z",
     "iopub.status.idle": "2023-08-07T16:15:34.521513Z",
     "shell.execute_reply": "2023-08-07T16:15:34.520220Z"
    },
    "papermill": {
     "duration": 0.033056,
     "end_time": "2023-08-07T16:15:34.523658",
     "exception": false,
     "start_time": "2023-08-07T16:15:34.490602",
     "status": "completed"
    },
    "tags": []
   },
   "outputs": [],
   "source": [
    "# clf1=CalibratedClassifierCV(xgb,n_jobs=-1,cv=5,method='sigmoid')\n",
    "    \n",
    "# clf2=CalibratedClassifierCV(lgbm1,n_jobs=-1,cv=5,method='sigmoid')\n",
    "\n",
    "# clf3=CalibratedClassifierCV(LogisticRegression(C=0.1,penalty = 'l2' , multi_class='ovr', tol=0.0001, verbose=0,\n",
    "#                                                solver = 'lbfgs',max_iter=5000) ,n_jobs=-1,\n",
    "#                             cv=5,method='sigmoid')\n",
    "\n",
    "# clf4=CalibratedClassifierCV(cb ,n_jobs=-1,cv=5,method='sigmoid') \n",
    "# clf5=CalibratedClassifierCV(svc ,n_jobs=-1,cv=5,method='sigmoid') \n",
    "\n",
    "# estimators1 = [('xgb',clf1),('lgbm',clf2),('cb',clf4),('lr',clf3)]"
   ]
  },
  {
   "cell_type": "code",
   "execution_count": 30,
   "id": "948905fb",
   "metadata": {
    "execution": {
     "iopub.execute_input": "2023-08-07T16:15:34.575134Z",
     "iopub.status.busy": "2023-08-07T16:15:34.574380Z",
     "iopub.status.idle": "2023-08-07T16:15:34.580345Z",
     "shell.execute_reply": "2023-08-07T16:15:34.579586Z"
    },
    "papermill": {
     "duration": 0.032846,
     "end_time": "2023-08-07T16:15:34.582284",
     "exception": false,
     "start_time": "2023-08-07T16:15:34.549438",
     "status": "completed"
    },
    "tags": []
   },
   "outputs": [],
   "source": [
    "# def train_lr(x,y_meta):     \n",
    "    \n",
    "#     le = LabelEncoder()\n",
    "#     y_meta1 = le.fit_transform(y_meta)\n",
    "#     print(le.classes_)      \n",
    "    \n",
    "#     impute = SimpleImputer(missing_values=np.nan, strategy='median')\n",
    "#     x1 = impute.fit_transform(x)  \n",
    " \n",
    "#     clf1=CalibratedClassifierCV(xgb,n_jobs=-1,cv=5,method='sigmoid')\n",
    "    \n",
    "#     clf2=CalibratedClassifierCV(lgbm,n_jobs=-1,cv=5,method='sigmoid')\n",
    "    \n",
    "#     clf3=CalibratedClassifierCV(LogisticRegression(C=0.1,penalty = 'l2' , multi_class='ovr', tol=0.0001, verbose=0,\n",
    "#                                                    solver = 'lbfgs',max_iter=5000) ,n_jobs=-1,\n",
    "#                                 cv=5,method='sigmoid')\n",
    "    \n",
    "#     clf4=CalibratedClassifierCV(cb ,n_jobs=-1,cv=5,method='sigmoid') \n",
    "#     clf5=CalibratedClassifierCV(svc ,n_jobs=-1,cv=5,method='sigmoid') \n",
    "    \n",
    "    \n",
    "#     sc=StandardScaler()\n",
    "#     x2=sc.fit_transform(x1)\n",
    "    \n",
    "#     clf1.fit(x2,y_meta1)\n",
    "#     print(\"xgboost classifier fitted\")\n",
    "    \n",
    "#     clf2.fit(x2,y_meta)\n",
    "#     print(\"lgbm classifier fitted\")\n",
    "    \n",
    "#     clf3.fit(x2,y_meta)\n",
    "#     print(\"logistic regression fitted\")\n",
    "    \n",
    "#     clf4.fit(x2,y_meta)\n",
    "#     print(\"catboost fitted\")\n",
    "    \n",
    "#     clf5.fit(x1,y_meta)\n",
    "#     print(\"SVC fitted\")\n",
    "          \n",
    "#     return sc,impute,clf1,clf2, clf3, clf4, clf5"
   ]
  },
  {
   "cell_type": "code",
   "execution_count": 31,
   "id": "5dd12834",
   "metadata": {
    "execution": {
     "iopub.execute_input": "2023-08-07T16:15:34.631809Z",
     "iopub.status.busy": "2023-08-07T16:15:34.630586Z",
     "iopub.status.idle": "2023-08-07T16:15:34.635373Z",
     "shell.execute_reply": "2023-08-07T16:15:34.634629Z"
    },
    "papermill": {
     "duration": 0.032168,
     "end_time": "2023-08-07T16:15:34.637854",
     "exception": false,
     "start_time": "2023-08-07T16:15:34.605686",
     "status": "completed"
    },
    "tags": []
   },
   "outputs": [],
   "source": [
    "from tqdm.notebook import tqdm"
   ]
  },
  {
   "cell_type": "code",
   "execution_count": 32,
   "id": "6d7dc877",
   "metadata": {
    "execution": {
     "iopub.execute_input": "2023-08-07T16:15:34.687669Z",
     "iopub.status.busy": "2023-08-07T16:15:34.687166Z",
     "iopub.status.idle": "2023-08-07T16:15:34.693696Z",
     "shell.execute_reply": "2023-08-07T16:15:34.692556Z"
    },
    "papermill": {
     "duration": 0.034085,
     "end_time": "2023-08-07T16:15:34.695888",
     "exception": false,
     "start_time": "2023-08-07T16:15:34.661803",
     "status": "completed"
    },
    "tags": []
   },
   "outputs": [],
   "source": [
    "def ScoreMetric(ytrue, ypred): \n",
    "    \n",
    "    nc = np.bincount(ytrue);\n",
    "    return log_loss(ytrue, ypred, sample_weight = 1 / nc[ytrue], eps=1e-15)"
   ]
  },
  {
   "cell_type": "code",
   "execution_count": 33,
   "id": "0b8a4b94",
   "metadata": {
    "execution": {
     "iopub.execute_input": "2023-08-07T16:15:34.744816Z",
     "iopub.status.busy": "2023-08-07T16:15:34.744039Z",
     "iopub.status.idle": "2023-08-07T16:15:34.750670Z",
     "shell.execute_reply": "2023-08-07T16:15:34.749258Z"
    },
    "papermill": {
     "duration": 0.034337,
     "end_time": "2023-08-07T16:15:34.753405",
     "exception": false,
     "start_time": "2023-08-07T16:15:34.719068",
     "status": "completed"
    },
    "tags": []
   },
   "outputs": [],
   "source": [
    "# import optuna \n",
    "\n",
    "# def objective(trial,classifiers,x_val,y_val):\n",
    "#     # Define the weights of the ensemble as trial parameters (uniform distribution between 0 and 1)\n",
    "     \n",
    "#     num_classifiers = len(classifiers)\n",
    "#     weights = [trial.suggest_uniform(f'weight_{i}', 0, 1) for i in range(num_classifiers)]\n",
    "\n",
    "# #     weights = [trial.suggest_float(f'weight_{i}', 0, 1/num_classifiers) for i in range(num_classifiers-1)]\n",
    "# #     weights.append(1.0 - sum(weights))  # The last weight is computed to ensure they sum to 1\n",
    "\n",
    "# #     Normalize the weights to sum up to 1\n",
    "#     total_weight = sum(weights)\n",
    "#     weights = [w / total_weight for w in weights]  \n",
    "     \n",
    "\n",
    "    \n",
    "#     # Create the ensemble predictions using the weighted average of each classifier's predictions\n",
    "#     ensemble_predictions = sum(weight * classifier.predict_proba(x_val) for weight, classifier in zip(weights, classifiers))\n",
    "\n",
    "#     # Choose the final predicted class based on the maximum probability\n",
    "# #     y_pred = np.argmax(ensemble_predictions, axis=1)\n",
    "\n",
    "#     # Calculate the metric to be maximized (e.g., accuracy)\n",
    "# #     metric = accuracy_score(y_test, y_pred)\n",
    "#     metric = ScoreMetric(y_val, 1-ensemble_predictions[:,0])\n",
    "\n",
    "#     return metric\n"
   ]
  },
  {
   "cell_type": "code",
   "execution_count": 34,
   "id": "4acf102b",
   "metadata": {
    "execution": {
     "iopub.execute_input": "2023-08-07T16:15:34.803379Z",
     "iopub.status.busy": "2023-08-07T16:15:34.802890Z",
     "iopub.status.idle": "2023-08-07T16:15:34.808241Z",
     "shell.execute_reply": "2023-08-07T16:15:34.807420Z"
    },
    "papermill": {
     "duration": 0.032941,
     "end_time": "2023-08-07T16:15:34.810498",
     "exception": false,
     "start_time": "2023-08-07T16:15:34.777557",
     "status": "completed"
    },
    "tags": []
   },
   "outputs": [],
   "source": [
    "# # %%time\n",
    "# # Create Optuna study\n",
    "# study = optuna.create_study(direction='maximize')\n",
    "\n",
    "# # Optimize the study with a specified number of trials\n",
    "# num_trials = 100\n",
    "# study.optimize(objective, n_trials=num_trials)\n",
    "\n",
    "# # Get the best weights from the Optuna study\n",
    "# best_weights = [study.best_params[f'weight_{i}'] for i in range(num_classifiers)]\n"
   ]
  },
  {
   "cell_type": "code",
   "execution_count": 35,
   "id": "476a4cbe",
   "metadata": {
    "execution": {
     "iopub.execute_input": "2023-08-07T16:15:34.860259Z",
     "iopub.status.busy": "2023-08-07T16:15:34.858994Z",
     "iopub.status.idle": "2023-08-07T16:17:03.143057Z",
     "shell.execute_reply": "2023-08-07T16:17:03.141509Z"
    },
    "papermill": {
     "duration": 88.312513,
     "end_time": "2023-08-07T16:17:03.146458",
     "exception": false,
     "start_time": "2023-08-07T16:15:34.833945",
     "status": "completed"
    },
    "tags": []
   },
   "outputs": [
    {
     "data": {
      "application/vnd.jupyter.widget-view+json": {
       "model_id": "2cb25d7befc74a50995b2fa6c689cf1a",
       "version_major": 2,
       "version_minor": 0
      },
      "text/plain": [
       "  0%|          | 0/10 [00:00<?, ?it/s]"
      ]
     },
     "metadata": {},
     "output_type": "display_data"
    },
    {
     "name": "stdout",
     "output_type": "stream",
     "text": [
      "balanced log loss  0.10320533436415286\n",
      "ScoreMetric  0.15569909940965607\n",
      "best_model_saved\n",
      ">val_loss=0.15570, split = 1.0\n",
      "balanced log loss  0.07796397471270332\n",
      "ScoreMetric  0.14408342249789982\n",
      "best_model_saved\n",
      ">val_loss=0.14408, split = 2.0\n",
      "balanced log loss  0.05449055870376578\n",
      "ScoreMetric  0.07427720129690628\n",
      "best_model_saved\n",
      ">val_loss=0.07428, split = 3.0\n",
      "balanced log loss  0.15549481237269386\n",
      "ScoreMetric  0.26636455381489993\n",
      ">val_loss=0.26636, split = 4.0\n",
      "balanced log loss  0.050066473906860164\n",
      "ScoreMetric  0.12497112058309776\n",
      ">val_loss=0.12497, split = 5.0\n",
      "balanced log loss  0.10064425928711389\n",
      "ScoreMetric  0.20276547835412256\n",
      ">val_loss=0.20277, split = 6.0\n",
      "balanced log loss  0.34015307529031413\n",
      "ScoreMetric  0.4864391448720119\n",
      ">val_loss=0.48644, split = 7.0\n",
      "balanced log loss  0.07791802097304944\n",
      "ScoreMetric  0.17095103540136614\n",
      ">val_loss=0.17095, split = 8.0\n",
      "balanced log loss  0.08255780599730973\n",
      "ScoreMetric  0.1306112228384309\n",
      ">val_loss=0.13061, split = 9.0\n",
      "balanced log loss  0.08316977164277382\n",
      "ScoreMetric  0.1653176924587401\n",
      ">val_loss=0.16532, split = 10.0\n",
      "LOSS: 0.19215\n"
     ]
    }
   ],
   "source": [
    "n_splits=10\n",
    "cv_innerz = KF(n_splits, shuffle=True, random_state=42)\n",
    "def training1(data,greeks): \n",
    "    train_pred = data.copy(deep=True)\n",
    "    train_pred  = feature(train_pred )     \n",
    "    \n",
    "    y  = train_pred.Class\n",
    "    x  = train_pred.drop(['Class', 'Id'],axis=1) \n",
    "    le = LabelEncoder()   \n",
    "    imputer = SimpleImputer(missing_values=np.nan, strategy='median')\n",
    "     \n",
    "#     imputer_knn = KNNImputer(n_neighbors=4) #, weights=\"distance\")\n",
    "    sc=StandardScaler()\n",
    "    \n",
    "    outer_results = list()\n",
    "    best_loss = np.inf\n",
    "    split = 0\n",
    "    splits = n_splits\n",
    "    models = {}\n",
    "    for train_idx,val_idx in tqdm(cv_innerz.split(x), total = splits):\n",
    "        split+=1\n",
    "        x_train, x_val = x.iloc[train_idx],x.iloc[val_idx]\n",
    "        y_train, y_val = greeks.Alpha.iloc[train_idx], y.iloc[val_idx]\n",
    "        y_meta1 = le.fit_transform(y_train)  \n",
    "        \n",
    "        ros = RandomOverSampler(random_state=42)\n",
    "        x_train1,y_train1 = ros.fit_resample(x_train, y_meta1) \n",
    "        \n",
    "        x_train1 = imputer.fit_transform(x_train1)\n",
    "        x_val = imputer.transform(x_val)\n",
    "        \n",
    "#         x_train1 = sc.fit_transform(x_train1)\n",
    "#         x_val = sc.transform(x_val)\n",
    "        \n",
    "        model = Ensemble2()\n",
    "#         model = cb\n",
    "#         params = {'alpha': 0.0001, 'colsample_bytree': 0.7, 'lambda': 0.01, 'learning_rate': 0.2, 'max_depth': 20, 'min_child_weight': 10, 'subsample': 0.8}\n",
    "\n",
    "#         model = xgboost.XGBClassifier(**params)\n",
    "        \n",
    "#         model = VotingClassifier(estimators1, voting='soft', weights=[0.3,0.3,0.3,0.1], n_jobs=-1, flatten_transform=True, verbose=False)\n",
    "#         model = xgb\n",
    "#         model = TabPFNClassifier(N_ensemble_configurations=24)\n",
    "        model.fit(x_train1, y_train1) #,overwrite_warning=True)\n",
    "        models[split]=model\n",
    "        y_pred = model.predict_proba(x_val)\n",
    "        probabilities = np.concatenate((y_pred[:,:1], np.sum(y_pred[:,1:], 1, keepdims=True)), axis=1)\n",
    "        p0 = probabilities[:,0]\n",
    "        \n",
    "        \n",
    "         \n",
    "#         y_p = np.empty((y_pred.shape[0],))\n",
    "#         for i in range(y_pred.shape[0]):\n",
    "#             if p0[i]>=0.5:\n",
    "#                 y_p[i]= False\n",
    "#             else :\n",
    "#                 y_p[i]=True\n",
    "#         y_p = y_p.astype(int)\n",
    "        \n",
    "        loss1 = balanced_log_loss(y_val,1-p0)\n",
    "        loss = ScoreMetric(y_val,1-p0)\n",
    "        print(\"balanced log loss \",loss1)\n",
    "        print(\"ScoreMetric \",loss)\n",
    "\n",
    "        if loss<best_loss:\n",
    "            best_model = model\n",
    "            best_loss = loss\n",
    "            print('best_model_saved')             \n",
    "            \n",
    "        outer_results.append(loss)\n",
    "        print('>val_loss=%.5f, split = %.1f' % (loss,split))\n",
    "    print('LOSS: %.5f' % (np.mean(outer_results)))\n",
    "    return best_model, models \n",
    "\n",
    "train_pred_and_time = get_traindf()\n",
    "m,models = training1(train_pred_and_time,greeks)\n",
    "    \n",
    "#xgb - 0.30\n",
    "#lgbm1 - 0.35\n",
    "#cb - 0.30\n",
    "#lr = 0.48\n",
    "#svc1 - 0.86\n",
    "#svc - 0.78\n",
    "#tabpfn24 - 0.35\n",
    "#64- 0.38\n",
    "\n",
    "#[0.3,0.2,0.2,0.1,0.1,0.1] - \n",
    "\n",
    "#weights=[0.3,0.2,0.3,0.1,0.1] - 0.27\n",
    "\n",
    "#ensemble -eq weights - 0.33564\n",
    "#VC - eq weights - 0.29797\n",
    "#VC with 4 -0.27179\n",
    "#ensemble with 4 - equ weights - cv10 - 0.22978\n",
    "#vc with 4 - cv10 - 0.3/0.3/0.3/0.1 - 0.2512 --> for ensemble - 0.20255 cv5 -0.21695\n",
    "\n",
    "# LOSS: 0.23912 for sigmoid - 4\n",
    "# LOSS: 0.32263 for sigmoid estimators2 (without weighting for imbalancce)\n",
    "#with one tabpfn - ensemble2 - 5 - LOSS: 0.21427\n",
    "#with two tabpfn - ensemble2 - 5 - LOSS: 0.210 bm-val_loss=0.15953\n",
    "\n",
    "#without lr - LOSS: 0.21751  -  with lr - 0.21427  with svcinstead - 0.21427?\n",
    "\n",
    "#cb with classwt - 0.30462\n",
    "\n",
    "\n",
    "# best weights [0.394966529199084, 0.10961102417573335, 0.00149112820778172, 0.4939313184174009]\n",
    "\n",
    "#LOSS: 0.19882\n",
    "#LOSS: 0.19785\n",
    "\n",
    "#cb 0.28882 vs 0.28417 vs 0.25303\n",
    "\n",
    "#LOSS: 0.20914\n",
    "\n",
    "# LOSS: 0.19215"
   ]
  },
  {
   "cell_type": "code",
   "execution_count": 36,
   "id": "0381dda7",
   "metadata": {
    "execution": {
     "iopub.execute_input": "2023-08-07T16:17:03.217635Z",
     "iopub.status.busy": "2023-08-07T16:17:03.217141Z",
     "iopub.status.idle": "2023-08-07T16:17:03.225738Z",
     "shell.execute_reply": "2023-08-07T16:17:03.224553Z"
    },
    "papermill": {
     "duration": 0.038278,
     "end_time": "2023-08-07T16:17:03.228167",
     "exception": false,
     "start_time": "2023-08-07T16:17:03.189889",
     "status": "completed"
    },
    "tags": []
   },
   "outputs": [],
   "source": [
    "# cv_innerz = KF(n_splits = 5, shuffle=True, random_state=42)\n",
    "# def training4(data,greeks): \n",
    "#     train_pred = data.copy(deep=True)\n",
    "#     train_pred  = feature(train_pred )\n",
    "    \n",
    "# #     classes_weights = class_weight.compute_sample_weight(\n",
    "# #     class_weight='balanced',\n",
    "# #     y=train_pred['Class']) \n",
    "    \n",
    "    \n",
    "#     y  = train_pred.Class\n",
    "#     x  = train_pred.drop(['Class', 'Id'],axis=1)  \n",
    " \n",
    "    \n",
    "#     le = LabelEncoder()   \n",
    "#     imputer = SimpleImputer(missing_values=np.nan, strategy='median')\n",
    "     \n",
    "# #     imputer_knn = KNNImputer(n_neighbors=4) #, weights=\"distance\")\n",
    "#     sc=StandardScaler()\n",
    "     \n",
    "    \n",
    "#     outer_results = list()\n",
    "#     best_loss = np.inf\n",
    "#     split = 0\n",
    "#     splits = 5\n",
    "#     models = {}\n",
    "#     for train_idx,val_idx in tqdm(cv_innerz.split(x), total = splits):\n",
    "#         split+=1\n",
    "#         x_train, x_val = x.iloc[train_idx],x.iloc[val_idx]\n",
    "#         y_train, y_val = greeks.Alpha.iloc[train_idx], y.iloc[val_idx]\n",
    "#         y_meta1 = le.fit_transform(y_train)       \n",
    "     \n",
    "        \n",
    "#         rus = RandomUnderSampler(random_state=42)\n",
    "#         x_train1,y_train1 = rus.fit_resample(x_train, y_meta1) \n",
    "        \n",
    "#         x_train1 = imputer.fit_transform(x_train1)\n",
    "        \n",
    "#         x_train1 = sc.fit_transform(x_train1)\n",
    "         \n",
    "#         x_val = imputer.transform(x_val)\n",
    "#         x_val = sc.transform(x_val)\n",
    "        \n",
    "        \n",
    "        \n",
    "#         model = Ensemble2()\n",
    "# #         model = lgbm\n",
    "# #         params = {'alpha': 0.0001, 'colsample_bytree': 0.7, 'lambda': 0.01, 'learning_rate': 0.2, 'max_depth': 20, 'min_child_weight': 10, 'subsample': 0.8}\n",
    "\n",
    "# #         model = xgboost.XGBClassifier(**params)\n",
    "        \n",
    "# #         model = VotingClassifier(estimators1, voting='soft', weights=[0.3,0.3,0.3,0.1], n_jobs=-1, flatten_transform=True, verbose=False)\n",
    "# #         model = xgb\n",
    "# #         model = TabPFNClassifier(N_ensemble_configurations=24)\n",
    "#         model.fit(x_train1, y_train1) #,overwrite_warning=True)\n",
    "#         models[split]=model\n",
    "#         y_pred = model.predict_proba(x_val)\n",
    "#         probabilities = np.concatenate((y_pred[:,:1], np.sum(y_pred[:,1:], 1, keepdims=True)), axis=1)\n",
    "#         p0 = probabilities[:,0]\n",
    "        \n",
    "        \n",
    "         \n",
    "# #         y_p = np.empty((y_pred.shape[0],))\n",
    "# #         for i in range(y_pred.shape[0]):\n",
    "# #             if p0[i]>=0.5:\n",
    "# #                 y_p[i]= False\n",
    "# #             else :\n",
    "# #                 y_p[i]=True\n",
    "# #         y_p = y_p.astype(int)\n",
    "        \n",
    "#         loss1 = balanced_log_loss(y_val,1-p0)\n",
    "#         loss = ScoreMetric(y_val,1-p0)\n",
    "#         print(\"balanced log loss \",loss1)\n",
    "#         print(\"ScoreMetric \",loss)\n",
    "\n",
    "#         if loss<best_loss:\n",
    "#             best_model = model\n",
    "#             best_loss = loss\n",
    "#             print('best_model_saved')\n",
    "#         outer_results.append(loss)\n",
    "#         print('>val_loss=%.5f, split = %.1f' % (loss,split))\n",
    "#     print('LOSS: %.5f' % (np.mean(outer_results)))\n",
    "#     return best_model, models, sc, imputer\n",
    "\n",
    "# m,models,sc,imputer = training4(train_pred_and_time,greeks)   \n"
   ]
  },
  {
   "cell_type": "code",
   "execution_count": 37,
   "id": "66023c21",
   "metadata": {
    "execution": {
     "iopub.execute_input": "2023-08-07T16:17:03.280804Z",
     "iopub.status.busy": "2023-08-07T16:17:03.280292Z",
     "iopub.status.idle": "2023-08-07T16:17:03.291142Z",
     "shell.execute_reply": "2023-08-07T16:17:03.289849Z"
    },
    "papermill": {
     "duration": 0.040673,
     "end_time": "2023-08-07T16:17:03.293811",
     "exception": false,
     "start_time": "2023-08-07T16:17:03.253138",
     "status": "completed"
    },
    "tags": []
   },
   "outputs": [],
   "source": [
    "# %%time\n",
    "# cv_innerz = KF(n_splits = 10, shuffle=True, random_state=42)\n",
    "# def trainingz(data,greeks): \n",
    "#     train_pred = data.copy(deep=True)\n",
    "#     train_pred  = feature(train_pred ) \n",
    "    \n",
    "    \n",
    "#     y  = train_pred.Class\n",
    "#     x  = train_pred.drop(['Class', 'Id'],axis=1)\n",
    "    \n",
    " \n",
    "    \n",
    "#     le = LabelEncoder()\n",
    "    \n",
    "#     impute = SimpleImputer(missing_values=np.nan, strategy='median') \n",
    "#     sc=StandardScaler()\n",
    "     \n",
    "    \n",
    "#     outer_results = list()\n",
    "#     best_loss = np.inf\n",
    "#     split = 0\n",
    "#     splits = 10\n",
    "#     models = {}\n",
    "#     for train_idx,val_idx in tqdm(cv_innerz.split(x), total = splits):\n",
    "#         split+=1\n",
    "#         x_train, x_val = x.iloc[train_idx],x.iloc[val_idx]\n",
    "#         y_train, y_val = greeks.Alpha.iloc[train_idx], y.iloc[val_idx]\n",
    "#         y_meta1 = le.fit_transform(y_train)       \n",
    "     \n",
    "        \n",
    "#         ros = RandomOverSampler(random_state=42)\n",
    "#         x_train1,y_train1 = ros.fit_resample(x_train, y_meta1)   \n",
    "#         x_train1= impute.fit_transform(x_train1) \n",
    "# #         x_train1 = sc.fit_transform(x_train1)\n",
    "#         x_val = impute.transform(x_val)\n",
    "# #         x_val = sc.transform(x_val)\n",
    "        \n",
    "        \n",
    "        \n",
    "#         model = Ensemble2()\n",
    "# #         model = cb\n",
    "# #         params = {'alpha': 0.0001, 'colsample_bytree': 0.7, 'lambda': 0.01, 'learning_rate': 0.2, 'max_depth': 20, 'min_child_weight': 10, 'subsample': 0.8}\n",
    "\n",
    "# #         model = xgboost.XGBClassifier(**params)\n",
    "        \n",
    "# #         model = VotingClassifier(estimators1, voting='soft', weights=[0.3,0.3,0.3,0.1], n_jobs=-1, flatten_transform=True, verbose=False)\n",
    "# #         model = xgb\n",
    "# #         model = TabPFNClassifier(N_ensemble_configurations=24)\n",
    "#         model.fit(x_train1, y_train1) #,overwrite_warning=True)\n",
    "#         models[split]=model\n",
    "#         y_pred = model.predict_proba(x_val)\n",
    "#         probabilities = np.concatenate((y_pred[:,:1], np.sum(y_pred[:,1:], 1, keepdims=True)), axis=1)\n",
    "#         p0 = probabilities[:,0]\n",
    "        \n",
    "#         # Create Optuna study\n",
    "        \n",
    "\n",
    "#         # Set the logging level to silent (no outputs)\n",
    "# #         optuna.logging.set_verbosity(optuna.logging.INFO)\n",
    "#         optuna.logging.set_verbosity(optuna.logging.WARNING)\n",
    "\n",
    "#         study = optuna.create_study(direction='minimize')\n",
    "\n",
    "#         # Optimize the study with a specified number of trials\n",
    "#         num_trials = 200\n",
    "#         print(\"optuna study starts\")\n",
    "#         classifiers = [xgb,lgbm,cb,lr]\n",
    "#         num_classifiers = len(classifiers)\n",
    "# #         partial_objective = partial(objective,classifiers,x_val,y_val)\n",
    "#         study.optimize(lambda trial: objective(trial, classifiers,x_val,y_val),n_trials=num_trials)\n",
    "# #         study.optimize(partial_objective, n_trials=num_trials)\n",
    "         \n",
    "#         print(\"optuna study completed\")\n",
    "\n",
    "#         # Get the best weights from the Optuna study\n",
    "#         best_weights = [study.best_params[f'weight_{i}'] for i in range(num_classifiers)]\n",
    "        \n",
    "#         total_weight = sum(best_weights)\n",
    "#         best_weights_normalized = [w / total_weight for w in best_weights]\n",
    "#         print(\"best weights\",best_weights_normalized)\n",
    "#         print(\"best score of metric \",study.best_value) \n",
    "        \n",
    "#         loss1 = balanced_log_loss(y_val,1-p0)\n",
    "#         loss = ScoreMetric(y_val,1-p0)\n",
    "#         print(\"balanced log loss \",loss1)\n",
    "#         print(\"ScoreMetric \",loss)\n",
    "\n",
    "#         if loss<best_loss:\n",
    "#             best_model = model\n",
    "#             best_loss = loss\n",
    "#             print('best_model_saved')\n",
    "#         outer_results.append(loss)\n",
    "#         print('>val_loss=%.5f, split = %.1f' % (loss,split))\n",
    "#     print('LOSS: %.5f' % (np.mean(outer_results)))\n",
    "#     return best_model, models, sc, impute\n",
    "\n",
    "# m,models,sc,impute = trainingz(train_pred_and_time,greeks)\n",
    "    \n",
    "# #xgb - 0.30\n",
    "# #lgbm1 - 0.35\n",
    "# #cb - 0.30\n",
    "# #lr = 0.48\n",
    "# #svc1 - 0.86\n",
    "# #svc - 0.78\n",
    "# #tabpfn24 - 0.35\n",
    "# #64- 0.38\n",
    "\n",
    "# #[0.3,0.2,0.2,0.1,0.1,0.1] - \n",
    "\n",
    "# #weights=[0.3,0.2,0.3,0.1,0.1] - 0.27\n",
    "\n",
    "# #ensemble -eq weights - 0.33564\n",
    "# #VC - eq weights - 0.29797\n",
    "# #VC with 4 -0.27179\n",
    "# #ensemble with 4 - equ weights - cv10 - 0.22978\n",
    "# #vc with 4 - cv10 - 0.3/0.3/0.3/0.1 - 0.2512 --> for ensemble - 0.20255 cv5 -0.21695\n",
    "\n",
    "# # LOSS: 0.23912 for sigmoid - 4\n",
    "# # LOSS: 0.32263 for sigmoid estimators2 (without weighting for imbalancce)\n",
    "# #with one tabpfn - ensemble2 - 5 - LOSS: 0.21427\n",
    "# #with two tabpfn - ensemble2 - 5 - LOSS: 0.210 bm-val_loss=0.15953\n",
    "\n",
    "# #without lr - LOSS: 0.21751  -  with lr - 0.21427  with svcinstead - 0.21427?\n",
    "\n",
    "# #cb with classwt - 0.30462\n",
    "\n",
    "\n",
    "# # best weights [0.394966529199084, 0.10961102417573335, 0.00149112820778172, 0.4939313184174009]"
   ]
  },
  {
   "cell_type": "code",
   "execution_count": 38,
   "id": "0ad546ac",
   "metadata": {
    "execution": {
     "iopub.execute_input": "2023-08-07T16:17:03.345605Z",
     "iopub.status.busy": "2023-08-07T16:17:03.344579Z",
     "iopub.status.idle": "2023-08-07T16:17:03.359123Z",
     "shell.execute_reply": "2023-08-07T16:17:03.357964Z"
    },
    "papermill": {
     "duration": 0.043303,
     "end_time": "2023-08-07T16:17:03.361995",
     "exception": false,
     "start_time": "2023-08-07T16:17:03.318692",
     "status": "completed"
    },
    "tags": []
   },
   "outputs": [],
   "source": [
    "cv_inner = KF(n_splits = 5, shuffle=True, random_state=42)\n",
    "def training2(data,y,y_meta):\n",
    "    x = data.copy(deep=True)\n",
    "    models={}\n",
    "    outer_results = list()\n",
    "    best_loss = np.inf\n",
    "    split = 0\n",
    "    splits = 5\n",
    "    for train_idx,val_idx in tqdm(cv_inner.split(x), total = splits):\n",
    "        split+=1\n",
    "        x_train, x_val = x.iloc[train_idx],x.iloc[val_idx]\n",
    "        y_train, y_val = y_meta.iloc[train_idx], y.iloc[val_idx]\n",
    "        model = Ensemble()\n",
    "        model.fit(x_train, y_train)\n",
    "        models[split]=model\n",
    "        y_pred = model.predict_proba(x_val)\n",
    "        probabilities = np.concatenate((y_pred[:,:1], np.sum(y_pred[:,1:], 1, keepdims=True)), axis=1)\n",
    "        p0 = probabilities[:,:1]\n",
    "         \n",
    "        y_p = np.empty((y_pred.shape[0],))\n",
    "        for i in range(y_pred.shape[0]):\n",
    "            if p0[i]>=0.5:\n",
    "                y_p[i]= False\n",
    "            else :\n",
    "                y_p[i]=True\n",
    "        y_p = y_p.astype(int)\n",
    "        loss = balanced_log_loss(y_val,y_p)\n",
    "        loss1 = ScoreMetric(y_val,y_p)\n",
    "        print(\"Score metric \",loss1)\n",
    "        print(\"Balanced logloss \",loss)\n",
    "\n",
    "        if loss<best_loss:\n",
    "            best_model = model\n",
    "            best_loss = loss\n",
    "            xtrain = x_train\n",
    "            xval = x_val\n",
    "            ytrain = y_train\n",
    "            yval = y_val\n",
    "            print('best_model_saved')\n",
    "        outer_results.append(loss)\n",
    "        print('>val_loss=%.5f, split = %.1f' % (loss,split))\n",
    "    print('LOSS: %.5f' % (np.mean(outer_results)))\n",
    "    return best_model, models, xtrain,xval,ytrain,yval"
   ]
  },
  {
   "cell_type": "code",
   "execution_count": 39,
   "id": "b875e3df",
   "metadata": {
    "execution": {
     "iopub.execute_input": "2023-08-07T16:17:03.412710Z",
     "iopub.status.busy": "2023-08-07T16:17:03.412225Z",
     "iopub.status.idle": "2023-08-07T16:17:03.431142Z",
     "shell.execute_reply": "2023-08-07T16:17:03.429667Z"
    },
    "papermill": {
     "duration": 0.047589,
     "end_time": "2023-08-07T16:17:03.434027",
     "exception": false,
     "start_time": "2023-08-07T16:17:03.386438",
     "status": "completed"
    },
    "tags": []
   },
   "outputs": [],
   "source": [
    "from datetime import datetime\n",
    "times = greeks.Epsilon.copy()\n",
    "times[greeks.Epsilon != 'Unknown'] = greeks.Epsilon[greeks.Epsilon != 'Unknown'].map(lambda x: datetime.strptime(x,'%m/%d/%Y').toordinal())\n",
    "times[greeks.Epsilon == 'Unknown'] = np.nan"
   ]
  },
  {
   "cell_type": "code",
   "execution_count": 40,
   "id": "4b6568b9",
   "metadata": {
    "execution": {
     "iopub.execute_input": "2023-08-07T16:17:03.485585Z",
     "iopub.status.busy": "2023-08-07T16:17:03.485112Z",
     "iopub.status.idle": "2023-08-07T16:17:03.491203Z",
     "shell.execute_reply": "2023-08-07T16:17:03.489903Z"
    },
    "papermill": {
     "duration": 0.034955,
     "end_time": "2023-08-07T16:17:03.494027",
     "exception": false,
     "start_time": "2023-08-07T16:17:03.459072",
     "status": "completed"
    },
    "tags": []
   },
   "outputs": [],
   "source": [
    "predictor_columns = [n for n in train.columns if n != 'Class' and n != 'Id']"
   ]
  },
  {
   "cell_type": "code",
   "execution_count": 41,
   "id": "1d0caec3",
   "metadata": {
    "execution": {
     "iopub.execute_input": "2023-08-07T16:17:03.547638Z",
     "iopub.status.busy": "2023-08-07T16:17:03.547113Z",
     "iopub.status.idle": "2023-08-07T16:17:03.552496Z",
     "shell.execute_reply": "2023-08-07T16:17:03.551214Z"
    },
    "papermill": {
     "duration": 0.035369,
     "end_time": "2023-08-07T16:17:03.554954",
     "exception": false,
     "start_time": "2023-08-07T16:17:03.519585",
     "status": "completed"
    },
    "tags": []
   },
   "outputs": [],
   "source": [
    "# train  = feature(train )\n",
    "# test = feature(test)\n",
    "# predictor_columns = predictor_columns + ['out_GL']\n",
    " "
   ]
  },
  {
   "cell_type": "code",
   "execution_count": 42,
   "id": "8d3292a1",
   "metadata": {
    "execution": {
     "iopub.execute_input": "2023-08-07T16:17:03.609462Z",
     "iopub.status.busy": "2023-08-07T16:17:03.609004Z",
     "iopub.status.idle": "2023-08-07T16:17:03.616699Z",
     "shell.execute_reply": "2023-08-07T16:17:03.615418Z"
    },
    "papermill": {
     "duration": 0.037306,
     "end_time": "2023-08-07T16:17:03.619380",
     "exception": false,
     "start_time": "2023-08-07T16:17:03.582074",
     "status": "completed"
    },
    "tags": []
   },
   "outputs": [],
   "source": [
    "train_pred_and_time = pd.concat((train, times), axis=1)\n",
    "# test_predictors = test[predictor_columns]\n",
    "# first_category = test_predictors.EJ.unique()[0]\n",
    "# test_predictors.EJ = test_predictors.EJ.eq(first_category).astype('int')\n",
    "# test_pred_and_time = np.concatenate((test_predictors, np.zeros((len(test_predictors), 1)) + train_pred_and_time.Epsilon.max() + 1), axis=1)"
   ]
  },
  {
   "cell_type": "code",
   "execution_count": 43,
   "id": "267aa050",
   "metadata": {
    "execution": {
     "iopub.execute_input": "2023-08-07T16:17:03.671951Z",
     "iopub.status.busy": "2023-08-07T16:17:03.671493Z",
     "iopub.status.idle": "2023-08-07T16:17:03.676340Z",
     "shell.execute_reply": "2023-08-07T16:17:03.675099Z"
    },
    "papermill": {
     "duration": 0.034339,
     "end_time": "2023-08-07T16:17:03.679044",
     "exception": false,
     "start_time": "2023-08-07T16:17:03.644705",
     "status": "completed"
    },
    "tags": []
   },
   "outputs": [],
   "source": [
    "# cols = train_pred_and_time.columns.tolist()\n",
    "# cols"
   ]
  },
  {
   "cell_type": "code",
   "execution_count": 44,
   "id": "1c777e79",
   "metadata": {
    "execution": {
     "iopub.execute_input": "2023-08-07T16:17:03.732498Z",
     "iopub.status.busy": "2023-08-07T16:17:03.732006Z",
     "iopub.status.idle": "2023-08-07T16:17:03.737275Z",
     "shell.execute_reply": "2023-08-07T16:17:03.736113Z"
    },
    "papermill": {
     "duration": 0.03519,
     "end_time": "2023-08-07T16:17:03.739825",
     "exception": false,
     "start_time": "2023-08-07T16:17:03.704635",
     "status": "completed"
    },
    "tags": []
   },
   "outputs": [],
   "source": [
    "# cols.remove('BQ')\n",
    "# cols.remove('EL')"
   ]
  },
  {
   "cell_type": "code",
   "execution_count": 45,
   "id": "035b520f",
   "metadata": {
    "execution": {
     "iopub.execute_input": "2023-08-07T16:17:03.791283Z",
     "iopub.status.busy": "2023-08-07T16:17:03.790850Z",
     "iopub.status.idle": "2023-08-07T16:17:03.797767Z",
     "shell.execute_reply": "2023-08-07T16:17:03.796567Z"
    },
    "papermill": {
     "duration": 0.035522,
     "end_time": "2023-08-07T16:17:03.800323",
     "exception": false,
     "start_time": "2023-08-07T16:17:03.764801",
     "status": "completed"
    },
    "tags": []
   },
   "outputs": [],
   "source": [
    "# cols.remove('Id')\n",
    "# cols.remove('Class')"
   ]
  },
  {
   "cell_type": "code",
   "execution_count": 46,
   "id": "a9a9bab3",
   "metadata": {
    "execution": {
     "iopub.execute_input": "2023-08-07T16:17:03.850817Z",
     "iopub.status.busy": "2023-08-07T16:17:03.850351Z",
     "iopub.status.idle": "2023-08-07T16:17:03.897416Z",
     "shell.execute_reply": "2023-08-07T16:17:03.895580Z"
    },
    "papermill": {
     "duration": 0.075516,
     "end_time": "2023-08-07T16:17:03.900172",
     "exception": false,
     "start_time": "2023-08-07T16:17:03.824656",
     "status": "completed"
    },
    "tags": []
   },
   "outputs": [
    {
     "name": "stdout",
     "output_type": "stream",
     "text": [
      "Original dataset shape\n",
      "A    509\n",
      "B     61\n",
      "G     29\n",
      "D     18\n",
      "Name: Alpha, dtype: int64\n",
      "Resample dataset shape\n",
      "B    509\n",
      "A    509\n",
      "D    509\n",
      "G    509\n",
      "Name: Alpha, dtype: int64\n"
     ]
    }
   ],
   "source": [
    "ros = RandomOverSampler(random_state=42)\n",
    "\n",
    "train_ros, y_ros = ros.fit_resample(train_pred_and_time, greeks.Alpha)\n",
    "print('Original dataset shape')\n",
    "print(greeks.Alpha.value_counts())\n",
    "print('Resample dataset shape')\n",
    "print( y_ros.value_counts())"
   ]
  },
  {
   "cell_type": "code",
   "execution_count": 47,
   "id": "2bb754b6",
   "metadata": {
    "execution": {
     "iopub.execute_input": "2023-08-07T16:17:03.952027Z",
     "iopub.status.busy": "2023-08-07T16:17:03.951627Z",
     "iopub.status.idle": "2023-08-07T16:17:03.961046Z",
     "shell.execute_reply": "2023-08-07T16:17:03.959571Z"
    },
    "papermill": {
     "duration": 0.038409,
     "end_time": "2023-08-07T16:17:03.963527",
     "exception": false,
     "start_time": "2023-08-07T16:17:03.925118",
     "status": "completed"
    },
    "tags": []
   },
   "outputs": [],
   "source": [
    "x_ros = train_ros.drop(['Class', 'Id'],axis=1)\n",
    "y_ = train_ros.Class"
   ]
  },
  {
   "cell_type": "code",
   "execution_count": 48,
   "id": "11a0e9ed",
   "metadata": {
    "execution": {
     "iopub.execute_input": "2023-08-07T16:17:04.015205Z",
     "iopub.status.busy": "2023-08-07T16:17:04.014724Z",
     "iopub.status.idle": "2023-08-07T16:17:04.020467Z",
     "shell.execute_reply": "2023-08-07T16:17:04.019202Z"
    },
    "papermill": {
     "duration": 0.03437,
     "end_time": "2023-08-07T16:17:04.022948",
     "exception": false,
     "start_time": "2023-08-07T16:17:03.988578",
     "status": "completed"
    },
    "tags": []
   },
   "outputs": [],
   "source": [
    "# ypred = stacking_classifier.predict_proba(x_test)\n",
    "# y_test1 = np.where(y_test == 0, 0, 1)\n",
    "# score = ScoreMetric(y_test1,1-ypred[:,0])\n",
    "# score"
   ]
  },
  {
   "cell_type": "code",
   "execution_count": 49,
   "id": "80975fa5",
   "metadata": {
    "execution": {
     "iopub.execute_input": "2023-08-07T16:17:04.075149Z",
     "iopub.status.busy": "2023-08-07T16:17:04.074682Z",
     "iopub.status.idle": "2023-08-07T16:40:54.722417Z",
     "shell.execute_reply": "2023-08-07T16:40:54.721337Z"
    },
    "papermill": {
     "duration": 1430.702851,
     "end_time": "2023-08-07T16:40:54.751413",
     "exception": false,
     "start_time": "2023-08-07T16:17:04.048562",
     "status": "completed"
    },
    "tags": []
   },
   "outputs": [
    {
     "data": {
      "application/vnd.jupyter.widget-view+json": {
       "model_id": "7b11a58349ed4c8bb02863f580f3b030",
       "version_major": 2,
       "version_minor": 0
      },
      "text/plain": [
       "  0%|          | 0/5 [00:00<?, ?it/s]"
      ]
     },
     "metadata": {},
     "output_type": "display_data"
    },
    {
     "name": "stdout",
     "output_type": "stream",
     "text": [
      "Loading model that can be used for inference only\n",
      "Using a Transformer with 25.82 M parameters\n",
      "Loading model that can be used for inference only\n",
      "Using a Transformer with 25.82 M parameters\n",
      "Score metric  0.1541945356800942\n",
      "Balanced logloss  0.12283393999583053\n",
      "best_model_saved\n",
      ">val_loss=0.12283, split = 1.0\n",
      "Loading model that can be used for inference only\n",
      "Using a Transformer with 25.82 M parameters\n",
      "Loading model that can be used for inference only\n",
      "Using a Transformer with 25.82 M parameters\n"
     ]
    },
    {
     "name": "stderr",
     "output_type": "stream",
     "text": [
      "/tmp/ipykernel_20/2151898688.py:15: SettingWithCopyWarning: \n",
      "A value is trying to be set on a copy of a slice from a DataFrame.\n",
      "Try using .loc[row_indexer,col_indexer] = value instead\n",
      "\n",
      "See the caveats in the documentation: https://pandas.pydata.org/pandas-docs/stable/user_guide/indexing.html#returning-a-view-versus-a-copy\n",
      "  X.EJ = X.EJ.eq(first_category).astype('int')\n"
     ]
    },
    {
     "name": "stdout",
     "output_type": "stream",
     "text": [
      "Score metric  9.992007221626417e-16\n",
      "Balanced logloss  7.882664572210757e-16\n",
      "best_model_saved\n",
      ">val_loss=0.00000, split = 2.0\n",
      "Loading model that can be used for inference only\n",
      "Using a Transformer with 25.82 M parameters\n",
      "Loading model that can be used for inference only\n",
      "Using a Transformer with 25.82 M parameters\n"
     ]
    },
    {
     "name": "stderr",
     "output_type": "stream",
     "text": [
      "/tmp/ipykernel_20/2151898688.py:15: SettingWithCopyWarning: \n",
      "A value is trying to be set on a copy of a slice from a DataFrame.\n",
      "Try using .loc[row_indexer,col_indexer] = value instead\n",
      "\n",
      "See the caveats in the documentation: https://pandas.pydata.org/pandas-docs/stable/user_guide/indexing.html#returning-a-view-versus-a-copy\n",
      "  X.EJ = X.EJ.eq(first_category).astype('int')\n"
     ]
    },
    {
     "name": "stdout",
     "output_type": "stream",
     "text": [
      "Score metric  9.992007221626413e-16\n",
      "Balanced logloss  7.927542919637485e-16\n",
      ">val_loss=0.00000, split = 3.0\n",
      "Loading model that can be used for inference only\n",
      "Using a Transformer with 25.82 M parameters\n",
      "Loading model that can be used for inference only\n",
      "Using a Transformer with 25.82 M parameters\n"
     ]
    },
    {
     "name": "stderr",
     "output_type": "stream",
     "text": [
      "/tmp/ipykernel_20/2151898688.py:15: SettingWithCopyWarning: \n",
      "A value is trying to be set on a copy of a slice from a DataFrame.\n",
      "Try using .loc[row_indexer,col_indexer] = value instead\n",
      "\n",
      "See the caveats in the documentation: https://pandas.pydata.org/pandas-docs/stable/user_guide/indexing.html#returning-a-view-versus-a-copy\n",
      "  X.EJ = X.EJ.eq(first_category).astype('int')\n"
     ]
    },
    {
     "name": "stdout",
     "output_type": "stream",
     "text": [
      "Score metric  9.992007221626413e-16\n",
      "Balanced logloss  6.883759419809394e-16\n",
      "best_model_saved\n",
      ">val_loss=0.00000, split = 4.0\n",
      "Loading model that can be used for inference only\n",
      "Using a Transformer with 25.82 M parameters\n",
      "Loading model that can be used for inference only\n",
      "Using a Transformer with 25.82 M parameters\n"
     ]
    },
    {
     "name": "stderr",
     "output_type": "stream",
     "text": [
      "/tmp/ipykernel_20/2151898688.py:15: SettingWithCopyWarning: \n",
      "A value is trying to be set on a copy of a slice from a DataFrame.\n",
      "Try using .loc[row_indexer,col_indexer] = value instead\n",
      "\n",
      "See the caveats in the documentation: https://pandas.pydata.org/pandas-docs/stable/user_guide/indexing.html#returning-a-view-versus-a-copy\n",
      "  X.EJ = X.EJ.eq(first_category).astype('int')\n"
     ]
    },
    {
     "name": "stdout",
     "output_type": "stream",
     "text": [
      "Score metric  0.20081148832756426\n",
      "Balanced logloss  0.13386381920254847\n",
      ">val_loss=0.13386, split = 5.0\n",
      "LOSS: 0.05134\n",
      "CPU times: user 33min 15s, sys: 12min 59s, total: 46min 15s\n",
      "Wall time: 23min 50s\n"
     ]
    }
   ],
   "source": [
    "%%time\n",
    "best_model2, models2,xtrain,xval,ytrain,yval= training2(x_ros,y_,y_ros)"
   ]
  },
  {
   "cell_type": "code",
   "execution_count": 50,
   "id": "feaaed31",
   "metadata": {
    "execution": {
     "iopub.execute_input": "2023-08-07T16:40:54.807841Z",
     "iopub.status.busy": "2023-08-07T16:40:54.807371Z",
     "iopub.status.idle": "2023-08-07T16:40:54.816900Z",
     "shell.execute_reply": "2023-08-07T16:40:54.815852Z"
    },
    "papermill": {
     "duration": 0.041006,
     "end_time": "2023-08-07T16:40:54.819408",
     "exception": false,
     "start_time": "2023-08-07T16:40:54.778402",
     "status": "completed"
    },
    "tags": []
   },
   "outputs": [
    {
     "data": {
      "text/plain": [
       "1    0.75\n",
       "0    0.25\n",
       "Name: Class, dtype: float64"
      ]
     },
     "execution_count": 50,
     "metadata": {},
     "output_type": "execute_result"
    }
   ],
   "source": [
    "y_.value_counts()/y_.shape[0]"
   ]
  },
  {
   "cell_type": "code",
   "execution_count": 51,
   "id": "da10d014",
   "metadata": {
    "execution": {
     "iopub.execute_input": "2023-08-07T16:40:54.877409Z",
     "iopub.status.busy": "2023-08-07T16:40:54.876984Z",
     "iopub.status.idle": "2023-08-07T16:40:54.887912Z",
     "shell.execute_reply": "2023-08-07T16:40:54.886466Z"
    },
    "papermill": {
     "duration": 0.043037,
     "end_time": "2023-08-07T16:40:54.890853",
     "exception": false,
     "start_time": "2023-08-07T16:40:54.847816",
     "status": "completed"
    },
    "tags": []
   },
   "outputs": [
    {
     "name": "stderr",
     "output_type": "stream",
     "text": [
      "/tmp/ipykernel_20/1202244907.py:4: SettingWithCopyWarning: \n",
      "A value is trying to be set on a copy of a slice from a DataFrame.\n",
      "Try using .loc[row_indexer,col_indexer] = value instead\n",
      "\n",
      "See the caveats in the documentation: https://pandas.pydata.org/pandas-docs/stable/user_guide/indexing.html#returning-a-view-versus-a-copy\n",
      "  test_predictors.EJ = test_predictors.EJ.eq(first_category).astype('int')\n"
     ]
    }
   ],
   "source": [
    "train_pred_and_time = pd.concat((train, times), axis=1)\n",
    "test_predictors = test[predictor_columns]\n",
    "first_category = test_predictors.EJ.unique()[0]\n",
    "test_predictors.EJ = test_predictors.EJ.eq(first_category).astype('int')\n",
    "# test_pred_and_time = np.concatenate((test_predictors, np.zeros((len(test_predictors), 1)) + train_pred_and_time.Epsilon.max() + 1), axis=1)"
   ]
  },
  {
   "cell_type": "code",
   "execution_count": 52,
   "id": "e05a7e46",
   "metadata": {
    "execution": {
     "iopub.execute_input": "2023-08-07T16:40:54.948414Z",
     "iopub.status.busy": "2023-08-07T16:40:54.947941Z",
     "iopub.status.idle": "2023-08-07T16:40:54.954723Z",
     "shell.execute_reply": "2023-08-07T16:40:54.953941Z"
    },
    "papermill": {
     "duration": 0.038289,
     "end_time": "2023-08-07T16:40:54.956974",
     "exception": false,
     "start_time": "2023-08-07T16:40:54.918685",
     "status": "completed"
    },
    "tags": []
   },
   "outputs": [],
   "source": [
    "test_predictors['Epsilon']=train_pred_and_time.Epsilon.max() + 1"
   ]
  },
  {
   "cell_type": "code",
   "execution_count": 53,
   "id": "1405a624",
   "metadata": {
    "execution": {
     "iopub.execute_input": "2023-08-07T16:40:55.013948Z",
     "iopub.status.busy": "2023-08-07T16:40:55.013497Z",
     "iopub.status.idle": "2023-08-07T16:40:55.021481Z",
     "shell.execute_reply": "2023-08-07T16:40:55.020391Z"
    },
    "papermill": {
     "duration": 0.039391,
     "end_time": "2023-08-07T16:40:55.023705",
     "exception": false,
     "start_time": "2023-08-07T16:40:54.984314",
     "status": "completed"
    },
    "tags": []
   },
   "outputs": [
    {
     "data": {
      "text/plain": [
       "Index(['AB', 'AF', 'AH', 'AM', 'AR', 'AX', 'AY', 'AZ', 'BC', 'BD ', 'BN', 'BP',\n",
       "       'BQ', 'BR', 'BZ', 'CB', 'CC', 'CD ', 'CF', 'CH', 'CL', 'CR', 'CS', 'CU',\n",
       "       'CW ', 'DA', 'DE', 'DF', 'DH', 'DI', 'DL', 'DN', 'DU', 'DV', 'DY', 'EB',\n",
       "       'EE', 'EG', 'EH', 'EJ', 'EL', 'EP', 'EU', 'FC', 'FD ', 'FE', 'FI', 'FL',\n",
       "       'FR', 'FS', 'GB', 'GE', 'GF', 'GH', 'GI', 'GL', 'Epsilon'],\n",
       "      dtype='object')"
      ]
     },
     "execution_count": 53,
     "metadata": {},
     "output_type": "execute_result"
    }
   ],
   "source": [
    "test_predictors.columns"
   ]
  },
  {
   "cell_type": "code",
   "execution_count": 54,
   "id": "e5f106ce",
   "metadata": {
    "execution": {
     "iopub.execute_input": "2023-08-07T16:40:55.081194Z",
     "iopub.status.busy": "2023-08-07T16:40:55.080755Z",
     "iopub.status.idle": "2023-08-07T16:58:52.821581Z",
     "shell.execute_reply": "2023-08-07T16:58:52.820535Z"
    },
    "papermill": {
     "duration": 1077.800414,
     "end_time": "2023-08-07T16:58:52.851919",
     "exception": false,
     "start_time": "2023-08-07T16:40:55.051505",
     "status": "completed"
    },
    "tags": []
   },
   "outputs": [
    {
     "name": "stdout",
     "output_type": "stream",
     "text": [
      "CPU times: user 26min 5s, sys: 8min 55s, total: 35min\n",
      "Wall time: 17min 57s\n"
     ]
    },
    {
     "data": {
      "text/plain": [
       "array([[0.49999999, 0.25577551, 0.11967627, 0.12454824],\n",
       "       [0.49999999, 0.25577551, 0.11967627, 0.12454824],\n",
       "       [0.49999999, 0.25577551, 0.11967627, 0.12454824],\n",
       "       [0.49999999, 0.25577551, 0.11967627, 0.12454824],\n",
       "       [0.49999999, 0.2557755 , 0.11967627, 0.12454824]])"
      ]
     },
     "execution_count": 54,
     "metadata": {},
     "output_type": "execute_result"
    }
   ],
   "source": [
    "%%time\n",
    "y_pred2={}\n",
    "# for index,m in enumerate(models.keys()):\n",
    "for index in range(5):\n",
    "    y_pred2[index+1] = models2[index+1].predict_proba(test_predictors)\n",
    "    \n",
    "ypred_model2_final = (y_pred2[1]+y_pred2[2]+y_pred2[3]+y_pred2[4]+y_pred2[5])/5\n",
    "\n",
    "# y_best2 = best_model2.predict_proba(test_predictors)\n",
    "\n",
    "ypred_model2_final"
   ]
  },
  {
   "cell_type": "code",
   "execution_count": 55,
   "id": "f2a78345",
   "metadata": {
    "execution": {
     "iopub.execute_input": "2023-08-07T16:58:52.908870Z",
     "iopub.status.busy": "2023-08-07T16:58:52.908459Z",
     "iopub.status.idle": "2023-08-07T16:58:52.918217Z",
     "shell.execute_reply": "2023-08-07T16:58:52.917128Z"
    },
    "papermill": {
     "duration": 0.041163,
     "end_time": "2023-08-07T16:58:52.920495",
     "exception": false,
     "start_time": "2023-08-07T16:58:52.879332",
     "status": "completed"
    },
    "tags": []
   },
   "outputs": [],
   "source": [
    "def get_testpredictors():\n",
    "    \n",
    "    train = pd.read_csv('/kaggle/input/icr-identify-age-related-conditions/train.csv')\n",
    "    test = pd.read_csv('/kaggle/input/icr-identify-age-related-conditions/test.csv')\n",
    "    greeks = pd.read_csv('/kaggle/input/icr-identify-age-related-conditions/greeks.csv')\n",
    "    times = greeks.Epsilon.copy()\n",
    "    times[greeks.Epsilon != 'Unknown'] = greeks.Epsilon[greeks.Epsilon != 'Unknown'].map(lambda x: datetime.strptime(x,'%m/%d/%Y').toordinal())\n",
    "    times[greeks.Epsilon == 'Unknown'] = np.nan\n",
    "\n",
    "    predictor_columns = [n for n in train.columns if n != 'Class' and n != 'Id']\n",
    "\n",
    "    train_pred_and_time = pd.concat((train, times), axis=1)\n",
    "    test_predictors = test[predictor_columns]\n",
    "    \n",
    "    first_category = test_predictors.EJ.unique()[0]\n",
    "    test_predictors.EJ = test_predictors.EJ.eq(first_category).astype('int')\n",
    "    test_predictors['Correction'] =0\n",
    "\n",
    "    test_predictors['Epsilon']=train_pred_and_time.Epsilon.max() + 1\n",
    "    \n",
    "    \n",
    "    test_predictors = feature(test_predictors)\n",
    "    \n",
    "    return test_predictors\n",
    "\n"
   ]
  },
  {
   "cell_type": "code",
   "execution_count": 56,
   "id": "994e8199",
   "metadata": {
    "execution": {
     "iopub.execute_input": "2023-08-07T16:58:52.978738Z",
     "iopub.status.busy": "2023-08-07T16:58:52.977910Z",
     "iopub.status.idle": "2023-08-07T16:58:52.994701Z",
     "shell.execute_reply": "2023-08-07T16:58:52.993448Z"
    },
    "papermill": {
     "duration": 0.049475,
     "end_time": "2023-08-07T16:58:52.997566",
     "exception": false,
     "start_time": "2023-08-07T16:58:52.948091",
     "status": "completed"
    },
    "tags": []
   },
   "outputs": [],
   "source": [
    "n_splits=10\n",
    "cv_innerz = KF(n_splits, shuffle=True, random_state=42)\n",
    "ypred_model1 =[]\n",
    "def model1_predict(data,greeks,test_predictors): \n",
    "    train_pred = data.copy(deep=True)\n",
    "    train_pred  = feature(train_pred )  \n",
    "#     test_predictors = feature(test_predictors)\n",
    "    \n",
    "    y  = train_pred.Class\n",
    "    x  = train_pred.drop(['Class', 'Id'],axis=1) \n",
    "    le = LabelEncoder()   \n",
    "    imputer = SimpleImputer(missing_values=np.nan, strategy='median')\n",
    "     \n",
    "#     imputer_knn = KNNImputer(n_neighbors=4) #, weights=\"distance\")\n",
    "    sc=StandardScaler()\n",
    "    \n",
    "    outer_results = list()\n",
    "    best_loss = np.inf\n",
    "    split = 0\n",
    "    splits = n_splits\n",
    "    models = {}\n",
    "    for train_idx,val_idx in tqdm(cv_innerz.split(x), total = splits):\n",
    "        split+=1\n",
    "        x_train, _ = x.iloc[train_idx],x.iloc[val_idx]\n",
    "        y_train, _ = greeks.Alpha.iloc[train_idx], y.iloc[val_idx]\n",
    "        y_meta1 = le.fit_transform(y_train)  \n",
    "        \n",
    "        x_val = test_predictors.copy(deep=True)\n",
    "        \n",
    "        ros = RandomOverSampler(random_state=42)\n",
    "        x_train1,y_train1 = ros.fit_resample(x_train, y_meta1) \n",
    "        \n",
    "        x_train1 = imputer.fit_transform(x_train1)\n",
    "        x_val = imputer.transform(x_val)\n",
    "        \n",
    "#         x_train1 = sc.fit_transform(x_train1)\n",
    "#         x_val = sc.transform(x_val)\n",
    "        \n",
    "        model = Ensemble3()\n",
    "#         model = cb\n",
    "#         params = {'alpha': 0.0001, 'colsample_bytree': 0.7, 'lambda': 0.01, 'learning_rate': 0.2, 'max_depth': 20, 'min_child_weight': 10, 'subsample': 0.8}\n",
    "\n",
    "#         model = xgboost.XGBClassifier(**params)\n",
    "        \n",
    "#         model = VotingClassifier(estimators1, voting='soft', weights=[0.3,0.3,0.3,0.1], n_jobs=-1, flatten_transform=True, verbose=False)\n",
    "#         model = xgb\n",
    "#         model = TabPFNClassifier(N_ensemble_configurations=24)\n",
    "        model.fit(x_train1, y_train1) #,overwrite_warning=True)\n",
    "        models[split]=model\n",
    "        y_pred = model.predict_proba(x_val)\n",
    "#         probabilities = np.concatenate((y_pred[:,:1], np.sum(y_pred[:,1:], 1, keepdims=True)), axis=1)\n",
    "        \n",
    "        ypred_model1.append(y_pred)\n",
    "#         p0 = probabilities[:,0]\n",
    "        \n",
    "        \n",
    "         \n",
    "#         y_p = np.empty((y_pred.shape[0],))\n",
    "#         for i in range(y_pred.shape[0]):\n",
    "#             if p0[i]>=0.5:\n",
    "#                 y_p[i]= False\n",
    "#             else :\n",
    "#                 y_p[i]=True\n",
    "#         y_p = y_p.astype(int)\n",
    "        \n",
    "#         loss1 = balanced_log_loss(y_val,1-p0)\n",
    "#         loss = ScoreMetric(y_val,1-p0)\n",
    "#         print(\"balanced log loss \",loss1)\n",
    "#         print(\"ScoreMetric \",loss)\n",
    "\n",
    "#         if loss<best_loss:\n",
    "#             best_model = model\n",
    "#             best_loss = loss\n",
    "#             print('best_model_saved')             \n",
    "            \n",
    "#         outer_results.append(loss)\n",
    "#         print('>val_loss=%.5f, split = %.1f' % (loss,split))\n",
    "#     print('LOSS: %.5f' % (np.mean(outer_results)))\n",
    "\n",
    "    ypred_model1_final = np.stack(ypred_model1)\n",
    "#     ypred_stack_final = np.concatenate(ypred_stack,axis=0)\n",
    "    ypred_model1_final = np.mean(ypred_model1_final,axis=0)\n",
    "    \n",
    "    class_0_est_instances = ypred_model1_final[:, 0].sum()\n",
    "    others_est_instances = ypred_model1_final[:, 1:].sum()\n",
    "    # Weighted probabilities based on class imbalance\n",
    "    new_probabilities = ypred_model1_final * np.array([[1/(class_0_est_instances if i==0 else others_est_instances) for i in range(ypred_model1_final.shape[1])]])\n",
    "    ypred_model1_final = new_probabilities / np.sum(new_probabilities, axis=1, keepdims=1) \n",
    "    return ypred_model1_final\n",
    "\n"
   ]
  },
  {
   "cell_type": "code",
   "execution_count": 57,
   "id": "ec0039bf",
   "metadata": {
    "execution": {
     "iopub.execute_input": "2023-08-07T16:58:53.139796Z",
     "iopub.status.busy": "2023-08-07T16:58:53.139363Z",
     "iopub.status.idle": "2023-08-07T17:00:14.407365Z",
     "shell.execute_reply": "2023-08-07T17:00:14.406546Z"
    },
    "papermill": {
     "duration": 81.300114,
     "end_time": "2023-08-07T17:00:14.410023",
     "exception": false,
     "start_time": "2023-08-07T16:58:53.109909",
     "status": "completed"
    },
    "tags": []
   },
   "outputs": [
    {
     "name": "stderr",
     "output_type": "stream",
     "text": [
      "/tmp/ipykernel_20/2408710838.py:16: SettingWithCopyWarning: \n",
      "A value is trying to be set on a copy of a slice from a DataFrame.\n",
      "Try using .loc[row_indexer,col_indexer] = value instead\n",
      "\n",
      "See the caveats in the documentation: https://pandas.pydata.org/pandas-docs/stable/user_guide/indexing.html#returning-a-view-versus-a-copy\n",
      "  test_predictors.EJ = test_predictors.EJ.eq(first_category).astype('int')\n",
      "/tmp/ipykernel_20/3236182820.py:4: DeprecationWarning: In a future version, `df.iloc[:, i] = newvals` will attempt to set the values inplace instead of always setting a new array. To retain the old behavior, use either `df[df.columns[i]] = newvals` or, if columns are non-unique, `df.isetitem(i, newvals)`\n",
      "  X.loc[X['GL']<1,'out_GL'] = X.loc[X['GL']<1,'GL'].map(lambda x : x-X.loc[X['GL']<1,'GL'].mean())\n",
      "/opt/conda/lib/python3.10/site-packages/ipywidgets/widgets/widget.py:503: DeprecationWarning: The `ipykernel.comm.Comm` class has been deprecated. Please use the `comm` module instead.For creating comms, use the function `from comm import create_comm`.\n",
      "  self.comm = Comm(**args)\n"
     ]
    },
    {
     "data": {
      "application/vnd.jupyter.widget-view+json": {
       "model_id": "b32333595fab4b26af643788e4859466",
       "version_major": 2,
       "version_minor": 0
      },
      "text/plain": [
       "  0%|          | 0/10 [00:00<?, ?it/s]"
      ]
     },
     "metadata": {},
     "output_type": "display_data"
    },
    {
     "name": "stdout",
     "output_type": "stream",
     "text": [
      "CPU times: user 3min 50s, sys: 50.8 s, total: 4min 40s\n",
      "Wall time: 1min 21s\n"
     ]
    }
   ],
   "source": [
    "%%time \n",
    "test_predictors = get_testpredictors()\n",
    "train_data = get_traindf()\n",
    "\n",
    "ypred_model1_final = model1_predict(train_data,greeks,test_predictors)"
   ]
  },
  {
   "cell_type": "code",
   "execution_count": 58,
   "id": "7c49cbe0",
   "metadata": {
    "execution": {
     "iopub.execute_input": "2023-08-07T17:00:14.515518Z",
     "iopub.status.busy": "2023-08-07T17:00:14.515121Z",
     "iopub.status.idle": "2023-08-07T17:00:14.521549Z",
     "shell.execute_reply": "2023-08-07T17:00:14.520822Z"
    },
    "papermill": {
     "duration": 0.046367,
     "end_time": "2023-08-07T17:00:14.523541",
     "exception": false,
     "start_time": "2023-08-07T17:00:14.477174",
     "status": "completed"
    },
    "tags": []
   },
   "outputs": [
    {
     "data": {
      "text/plain": [
       "array([[0.5       , 0.07201761, 0.23380481, 0.19417758],\n",
       "       [0.5       , 0.07201761, 0.23380481, 0.19417758],\n",
       "       [0.5       , 0.07201761, 0.23380481, 0.19417758],\n",
       "       [0.5       , 0.07201761, 0.23380481, 0.19417758],\n",
       "       [0.5       , 0.07201761, 0.23380481, 0.19417758]])"
      ]
     },
     "execution_count": 58,
     "metadata": {},
     "output_type": "execute_result"
    }
   ],
   "source": [
    "ypred_model1_final"
   ]
  },
  {
   "cell_type": "code",
   "execution_count": 59,
   "id": "1394e778",
   "metadata": {
    "execution": {
     "iopub.execute_input": "2023-08-07T17:00:14.583451Z",
     "iopub.status.busy": "2023-08-07T17:00:14.582845Z",
     "iopub.status.idle": "2023-08-07T17:02:53.978643Z",
     "shell.execute_reply": "2023-08-07T17:02:53.977346Z"
    },
    "papermill": {
     "duration": 159.451021,
     "end_time": "2023-08-07T17:02:54.003543",
     "exception": false,
     "start_time": "2023-08-07T17:00:14.552522",
     "status": "completed"
    },
    "tags": []
   },
   "outputs": [
    {
     "name": "stderr",
     "output_type": "stream",
     "text": [
      "/tmp/ipykernel_20/2408710838.py:16: SettingWithCopyWarning: \n",
      "A value is trying to be set on a copy of a slice from a DataFrame.\n",
      "Try using .loc[row_indexer,col_indexer] = value instead\n",
      "\n",
      "See the caveats in the documentation: https://pandas.pydata.org/pandas-docs/stable/user_guide/indexing.html#returning-a-view-versus-a-copy\n",
      "  test_predictors.EJ = test_predictors.EJ.eq(first_category).astype('int')\n",
      "/tmp/ipykernel_20/3236182820.py:4: DeprecationWarning: In a future version, `df.iloc[:, i] = newvals` will attempt to set the values inplace instead of always setting a new array. To retain the old behavior, use either `df[df.columns[i]] = newvals` or, if columns are non-unique, `df.isetitem(i, newvals)`\n",
      "  X.loc[X['GL']<1,'out_GL'] = X.loc[X['GL']<1,'GL'].map(lambda x : x-X.loc[X['GL']<1,'GL'].mean())\n",
      "/opt/conda/lib/python3.10/site-packages/ipywidgets/widgets/widget.py:503: DeprecationWarning: The `ipykernel.comm.Comm` class has been deprecated. Please use the `comm` module instead.For creating comms, use the function `from comm import create_comm`.\n",
      "  self.comm = Comm(**args)\n"
     ]
    },
    {
     "data": {
      "application/vnd.jupyter.widget-view+json": {
       "model_id": "71e6521b4f344a40b2f80ab6e17b6e8b",
       "version_major": 2,
       "version_minor": 0
      },
      "text/plain": [
       "  0%|          | 0/10 [00:00<?, ?it/s]"
      ]
     },
     "metadata": {},
     "output_type": "display_data"
    },
    {
     "name": "stdout",
     "output_type": "stream",
     "text": [
      "balanced log loss  0.1142299149659215\n",
      "ScoreMetric  0.17233115899882345\n",
      "best_model_saved\n",
      ">val_loss=0.17233, split = 1.0\n",
      "balanced log loss  0.059839174193501585\n",
      "ScoreMetric  0.11058739692299048\n",
      "best_model_saved\n",
      ">val_loss=0.11059, split = 2.0\n",
      "balanced log loss  0.04092008597363096\n",
      "ScoreMetric  0.05577901080944592\n",
      "best_model_saved\n",
      ">val_loss=0.05578, split = 3.0\n",
      "balanced log loss  0.10044879191391012\n",
      "ScoreMetric  0.17207003392026318\n",
      ">val_loss=0.17207, split = 4.0\n",
      "balanced log loss  0.08413521931404358\n",
      "ScoreMetric  0.21001024872934\n",
      ">val_loss=0.21001, split = 5.0\n",
      "balanced log loss  0.06234312016696716\n",
      "ScoreMetric  0.1256011288898437\n",
      ">val_loss=0.12560, split = 6.0\n",
      "balanced log loss  0.39911084751825693\n",
      "ScoreMetric  0.570752268549174\n",
      ">val_loss=0.57075, split = 7.0\n",
      "balanced log loss  0.0658785528476425\n",
      "ScoreMetric  0.14453661270405535\n",
      ">val_loss=0.14454, split = 8.0\n",
      "balanced log loss  0.10636863804123511\n",
      "ScoreMetric  0.16828133594873976\n",
      ">val_loss=0.16828, split = 9.0\n",
      "balanced log loss  0.04161718549283279\n",
      "ScoreMetric  0.0827230487280079\n",
      ">val_loss=0.08272, split = 10.0\n",
      "ScoreMetric  0.0827230487280079\n",
      "LOSS: 0.18127\n"
     ]
    }
   ],
   "source": [
    "n_splits = 10\n",
    "cv_innerz = KF(n_splits, shuffle=True, random_state=42)\n",
    "ypred_stack = []\n",
    "def train_stack(data,greeks,test_predictors): \n",
    "    train_pred = data.copy(deep=True)\n",
    "    train_pred  = feature(train_pred )   \n",
    "#     test_predictors = feature1(test_predictors)\n",
    "     \n",
    "    y  = train_pred.Class\n",
    "    x  = train_pred.drop(['Class', 'Id'],axis=1) \n",
    "    le = LabelEncoder()   \n",
    "    imputer = SimpleImputer(missing_values=np.nan, strategy='median')\n",
    "     \n",
    "#     imputer_knn = KNNImputer(n_neighbors=4) #, weights=\"distance\")\n",
    "    sc=StandardScaler()\n",
    "    \n",
    "    outer_results = list()\n",
    "    best_loss = np.inf\n",
    "    split = 0\n",
    "    splits = n_splits\n",
    "    models = {}\n",
    "    for train_idx,val_idx in tqdm(cv_innerz.split(x), total = splits):\n",
    "#         x=shuffle(x)\n",
    "        split+=1\n",
    "        x_train, x_val = x.iloc[train_idx],x.iloc[val_idx]\n",
    "        y_train, y_val = y.iloc[train_idx], y.iloc[val_idx]\n",
    "#         y_meta1 = le.fit_transform(y_train)   \n",
    "        \n",
    "        ros = RandomOverSampler(random_state=42)\n",
    "        x_train1,y_train1 = ros.fit_resample(x_train, y_train) \n",
    "        x_train1 = imputer.fit_transform(x_train1)\n",
    "        x_train1 = sc.fit_transform(x_train1)\n",
    "#         x_val = imputer.transform(test_predictors)\n",
    "        x_val = imputer.transform(x_val)\n",
    "        x_val = sc.transform(x_val) \n",
    "        estimators = [ ('lgbm',lgbm),('cb',cb),('lr',lr),('svc',svc)]\n",
    "         \n",
    "        model = StackingClassifier(estimators=estimators, cv=5,stack_method = 'predict_proba',\n",
    "                                         final_estimator=LogisticRegression(),\n",
    "                                         passthrough = False,verbose=0)\n",
    "        \n",
    "        model.fit(x_train1, y_train1) #,overwrite_warning=True)\n",
    "        models[split]=model\n",
    "        probabilities = model.predict_proba(x_val)    \n",
    "        \n",
    "        class_0_est_instances = probabilities[:, 0].sum()\n",
    "        others_est_instances = probabilities[:, 1:].sum()\n",
    "        # Weighted probabilities based on class imbalance\n",
    "        new_probabilities = probabilities * np.array([[1/(class_0_est_instances if i==0 else others_est_instances) for i in range(probabilities.shape[1])]])\n",
    "        probabilities = new_probabilities / np.sum(new_probabilities, axis=1, keepdims=1) \n",
    "        \n",
    "#         ypred_stack.append(probabilities)\n",
    "        p0 = probabilities[:,0] \n",
    "    \n",
    "#         p0[p0>0.25] = 1\n",
    "#         p0[p0<0.01] = 0\n",
    "        \n",
    "        loss1 = balanced_log_loss(y_val,1-p0) \n",
    "        loss = ScoreMetric(y_val,1-p0)\n",
    "        \n",
    "        print(\"balanced log loss \",loss1)\n",
    "        print(\"ScoreMetric \",loss)\n",
    "\n",
    "        if loss<best_loss:\n",
    "            best_model = model\n",
    "            best_loss = loss\n",
    "            print('best_model_saved')             \n",
    "            \n",
    "        outer_results.append(loss)\n",
    "        print('>val_loss=%.5f, split = %.1f' % (loss,split))\n",
    "\n",
    "#     ypred_stack_final = np.stack(ypred_stack)\n",
    "# #     ypred_stack_final = np.concatenate(ypred_stack,axis=0)\n",
    "#     ypred_stack_final = np.mean(ypred_stack_final,axis=0)\n",
    "    \n",
    "#     class_0_est_instances = ypred_stack_final[:, 0].sum()\n",
    "#     others_est_instances = ypred_stack_final[:, 1:].sum()\n",
    "#     # Weighted probabilities based on class imbalance\n",
    "#     new_probabilities = ypred_stack_final * np.array([[1/(class_0_est_instances if i==0 else others_est_instances) for i in range(ypred_stack_final.shape[1])]])\n",
    "#     ypred_stack_final1 = new_probabilities / np.sum(new_probabilities, axis=1, keepdims=1) \n",
    "        \n",
    "    print(\"ScoreMetric \",ScoreMetric(y_val,1-p0))\n",
    "    print('LOSS: %.5f' % (np.mean(outer_results)))\n",
    "#     return models #ypred_stack_final1\n",
    "    return probabilities\n",
    "\n",
    " \n",
    "test_predictors1 = get_testpredictors()\n",
    "\n",
    "models = train_stack(get_traindf(),greeks, test_predictors1)  \n",
    "# models\n",
    " \n",
    "#LOSS: 0.21651 -lgb,cb,lr\n",
    "#LOSS: 0.21650 withsvc\n",
    "#LOSS: 0.21316 with sc/svc\n",
    "#LOSS: 0.21773  - with sc LOSS: 0.21902 for feataure1\n",
    "#LOSS: 0.21897 -withsc - trndf?\n",
    "#LOSS: 0.21771 without sc feature1\n",
    "#LOSS: 0.21651 with feature1 and without sc vx LOSS: 0.21318 fr with sc\n",
    "#LOSS: 0.18850 for all 1 LOSS: 0.21316 for all 0 #LOSS: 0.21312 for no change\n",
    "#LOSS: 0.17297 with sc svc and correction feature / feature1"
   ]
  },
  {
   "cell_type": "code",
   "execution_count": 60,
   "id": "4fce6c85",
   "metadata": {
    "execution": {
     "iopub.execute_input": "2023-08-07T17:02:54.065409Z",
     "iopub.status.busy": "2023-08-07T17:02:54.065030Z",
     "iopub.status.idle": "2023-08-07T17:05:37.377551Z",
     "shell.execute_reply": "2023-08-07T17:05:37.376659Z"
    },
    "papermill": {
     "duration": 163.365361,
     "end_time": "2023-08-07T17:05:37.399000",
     "exception": false,
     "start_time": "2023-08-07T17:02:54.033639",
     "status": "completed"
    },
    "tags": []
   },
   "outputs": [
    {
     "name": "stderr",
     "output_type": "stream",
     "text": [
      "/tmp/ipykernel_20/2408710838.py:16: SettingWithCopyWarning: \n",
      "A value is trying to be set on a copy of a slice from a DataFrame.\n",
      "Try using .loc[row_indexer,col_indexer] = value instead\n",
      "\n",
      "See the caveats in the documentation: https://pandas.pydata.org/pandas-docs/stable/user_guide/indexing.html#returning-a-view-versus-a-copy\n",
      "  test_predictors.EJ = test_predictors.EJ.eq(first_category).astype('int')\n",
      "/tmp/ipykernel_20/3236182820.py:4: DeprecationWarning: In a future version, `df.iloc[:, i] = newvals` will attempt to set the values inplace instead of always setting a new array. To retain the old behavior, use either `df[df.columns[i]] = newvals` or, if columns are non-unique, `df.isetitem(i, newvals)`\n",
      "  X.loc[X['GL']<1,'out_GL'] = X.loc[X['GL']<1,'GL'].map(lambda x : x-X.loc[X['GL']<1,'GL'].mean())\n",
      "/opt/conda/lib/python3.10/site-packages/ipywidgets/widgets/widget.py:503: DeprecationWarning: The `ipykernel.comm.Comm` class has been deprecated. Please use the `comm` module instead.For creating comms, use the function `from comm import create_comm`.\n",
      "  self.comm = Comm(**args)\n"
     ]
    },
    {
     "data": {
      "application/vnd.jupyter.widget-view+json": {
       "model_id": "216771be70e4453f87bccf9719a602de",
       "version_major": 2,
       "version_minor": 0
      },
      "text/plain": [
       "  0%|          | 0/10 [00:00<?, ?it/s]"
      ]
     },
     "metadata": {},
     "output_type": "display_data"
    },
    {
     "data": {
      "text/plain": [
       "array([[0.5, 0.5],\n",
       "       [0.5, 0.5],\n",
       "       [0.5, 0.5],\n",
       "       [0.5, 0.5],\n",
       "       [0.5, 0.5]])"
      ]
     },
     "execution_count": 60,
     "metadata": {},
     "output_type": "execute_result"
    }
   ],
   "source": [
    "n_splits = 10\n",
    "cv_innerz = KF(n_splits, shuffle=True, random_state=42)\n",
    "ypred_stack = []\n",
    "def train_stack(data,greeks,test_predictors): \n",
    "    train_pred = data.copy(deep=True)\n",
    "    train_pred  = feature(train_pred )   \n",
    "#     test_predictors = feature1(test_predictors)\n",
    "     \n",
    "    y  = train_pred.Class\n",
    "    x  = train_pred.drop(['Class', 'Id'],axis=1) \n",
    "    le = LabelEncoder()   \n",
    "    imputer = SimpleImputer(missing_values=np.nan, strategy='median')\n",
    "     \n",
    "#     imputer_knn = KNNImputer(n_neighbors=4) #, weights=\"distance\")\n",
    "    sc=StandardScaler()\n",
    "    \n",
    "    outer_results = list()\n",
    "    best_loss = np.inf\n",
    "    split = 0\n",
    "    splits = n_splits\n",
    "    models = {}\n",
    "    for train_idx,val_idx in tqdm(cv_innerz.split(x), total = splits):\n",
    "#         x=shuffle(x)\n",
    "        split+=1\n",
    "        x_train, x_val = x.iloc[train_idx],x.iloc[val_idx]\n",
    "        y_train, y_val = y.iloc[train_idx], y.iloc[val_idx]\n",
    "#         y_meta1 = le.fit_transform(y_train)   \n",
    "        \n",
    "        ros = RandomOverSampler(random_state=42)\n",
    "        x_train1,y_train1 = ros.fit_resample(x_train, y_train) \n",
    "        x_train1 = imputer.fit_transform(x_train1)\n",
    "        x_train1 = sc.fit_transform(x_train1)\n",
    "#         x_val = imputer.transform(test_predictors)\n",
    "        x_val = imputer.transform(test_predictors)\n",
    "        x_val = sc.transform(x_val) \n",
    "        estimators = [ ('lgbm',lgbm),('cb',cb),('lr',lr),('svc',svc)]\n",
    "         \n",
    "        model = StackingClassifier(estimators=estimators, cv=5,stack_method = 'predict_proba',\n",
    "                                         final_estimator=LogisticRegression(),\n",
    "                                         passthrough = False,verbose=0)\n",
    "        \n",
    "        model.fit(x_train1, y_train1) #,overwrite_warning=True)\n",
    "        models[split]=model\n",
    "        probabilities = model.predict_proba(x_val)    \n",
    "        \n",
    "        ypred_stack.append(probabilities)\n",
    "         \n",
    "\n",
    "    ypred_stack_final1 = np.stack(ypred_stack) \n",
    "    ypred_stack_final2 = np.mean(ypred_stack_final1,axis=0)\n",
    "    \n",
    "    class_0_est_instances = ypred_stack_final2[:, 0].sum()\n",
    "    others_est_instances = ypred_stack_final2[:, 1:].sum()\n",
    "    # Weighted probabilities based on class imbalance\n",
    "    new_probabilities = ypred_stack_final2 * np.array([[1/(class_0_est_instances if i==0 else others_est_instances) for i in range(ypred_stack_final2.shape[1])]])\n",
    "    ypred_stack_final = new_probabilities / np.sum(new_probabilities, axis=1, keepdims=1)  \n",
    "    return ypred_stack_final\n",
    "\n",
    " \n",
    "test_predictors1 = get_testpredictors()\n",
    "\n",
    "ypred_stack_final = train_stack(get_traindf(),greeks, test_predictors1)  \n",
    "ypred_stack_final\n",
    "# models\n",
    " \n",
    "#LOSS: 0.21651 -lgb,cb,lr\n",
    "#LOSS: 0.21650 withsvc\n",
    "#LOSS: 0.21316 with sc/svc\n",
    "#LOSS: 0.21773  - with sc LOSS: 0.21902 for feataure1\n",
    "#LOSS: 0.21897 -withsc - trndf?\n",
    "#LOSS: 0.21771 without sc feature1\n",
    "#LOSS: 0.21651 with feature1 and without sc vx LOSS: 0.21318 fr with sc\n",
    "#LOSS: 0.18850 for all 1 LOSS: 0.21316 for all 0 #LOSS: 0.21312 for no change\n",
    "#LOSS: 0.17297 with sc svc and correction feature / feature1"
   ]
  },
  {
   "cell_type": "code",
   "execution_count": 61,
   "id": "98a54f84",
   "metadata": {
    "execution": {
     "iopub.execute_input": "2023-08-07T17:05:37.467468Z",
     "iopub.status.busy": "2023-08-07T17:05:37.466766Z",
     "iopub.status.idle": "2023-08-07T17:05:37.474834Z",
     "shell.execute_reply": "2023-08-07T17:05:37.473803Z"
    },
    "papermill": {
     "duration": 0.044854,
     "end_time": "2023-08-07T17:05:37.477180",
     "exception": false,
     "start_time": "2023-08-07T17:05:37.432326",
     "status": "completed"
    },
    "tags": []
   },
   "outputs": [],
   "source": [
    "\n",
    "# n_splits = 10\n",
    "# cv_innerz = KF(n_splits, shuffle=True, random_state=42)\n",
    "# ypred_stack = []\n",
    "# def train_stack(data,greeks,test_predictors): \n",
    "#     train_pred = data.copy(deep=True)\n",
    "#     train_pred  = feature(train_pred )   \n",
    "#     test_predictors = feature(test_predictors)\n",
    "    \n",
    "#     y  = train_pred.Class\n",
    "#     x  = train_pred.drop(['Class', 'Id'],axis=1) \n",
    "#     le = LabelEncoder()   \n",
    "#     imputer = SimpleImputer(missing_values=np.nan, strategy='median')\n",
    "     \n",
    "# #     imputer_knn = KNNImputer(n_neighbors=4) #, weights=\"distance\")\n",
    "#     sc=StandardScaler()\n",
    "    \n",
    "#     outer_results = list()\n",
    "#     best_loss = np.inf\n",
    "#     split = 0\n",
    "#     splits = n_splits\n",
    "#     models = {}\n",
    "#     for train_idx,val_idx in tqdm(cv_innerz.split(x), total = splits):\n",
    "# #         x=shuffle(x)\n",
    "#         split+=1\n",
    "#         x_train, x_val = x.iloc[train_idx],x.iloc[val_idx]\n",
    "#         y_train, y_val = y.iloc[train_idx], y.iloc[val_idx]\n",
    "# #         y_meta1 = le.fit_transform(y_train)   \n",
    "        \n",
    "#         ros = RandomOverSampler(random_state=42)\n",
    "#         x_train1,y_train1 = ros.fit_resample(x_train, y_train) \n",
    "#         x_train1 = imputer.fit_transform(x_train1)\n",
    "#         x_train1 = sc.fit_transform(x_train1)\n",
    "#         x_val = imputer.transform(test_predictors)\n",
    "# #         x_val = imputer.transform(x_val)\n",
    "#         x_val = sc.transform(x_val) \n",
    "#         estimators = [ ('lgbm',lgbm),('cb',cb),('lr',lr)]\n",
    "         \n",
    "#         model = StackingClassifier(estimators=estimators, cv=5,stack_method = 'predict_proba',\n",
    "#                                          final_estimator=LogisticRegression(),\n",
    "#                                          passthrough = False,verbose=0)\n",
    "        \n",
    "#         model.fit(x_train1, y_train1) #,overwrite_warning=True)\n",
    "#         models[split]=model\n",
    "#         probabilities = model.predict_proba(x_val)    \n",
    "        \n",
    "# #         class_0_est_instances = probabilities[:, 0].sum()\n",
    "# #         others_est_instances = probabilities[:, 1:].sum()\n",
    "# #         # Weighted probabilities based on class imbalance\n",
    "# #         new_probabilities = probabilities * np.array([[1/(class_0_est_instances if i==0 else others_est_instances) for i in range(probabilities.shape[1])]])\n",
    "# #         probabilities = new_probabilities / np.sum(new_probabilities, axis=1, keepdims=1) \n",
    "        \n",
    "#         ypred_stack.append(probabilities)\n",
    "# #         p0 = probabilities[:,0] \n",
    "        \n",
    "# #         loss1 = balanced_log_loss(y_val,1-p0) \n",
    "# #         loss = ScoreMetric(y_val,1-p0)\n",
    "        \n",
    "# #         print(\"balanced log loss \",loss1)\n",
    "# #         print(\"ScoreMetric \",loss)\n",
    "\n",
    "# #         if loss<best_loss:\n",
    "# #             best_model = model\n",
    "# #             best_loss = loss\n",
    "# #             print('best_model_saved')             \n",
    "            \n",
    "# #         outer_results.append(loss)\n",
    "# #         print('>val_loss=%.5f, split = %.1f' % (loss,split))\n",
    "\n",
    "#     ypred_stack_final = np.stack(ypred_stack)\n",
    "# #     ypred_stack_final = np.concatenate(ypred_stack,axis=0)\n",
    "#     ypred_stack_final = np.mean(ypred_stack_final,axis=0)\n",
    "    \n",
    "#     class_0_est_instances = ypred_stack_final[:, 0].sum()\n",
    "#     others_est_instances = ypred_stack_final[:, 1:].sum()\n",
    "#     # Weighted probabilities based on class imbalance\n",
    "#     new_probabilities = ypred_stack_final * np.array([[1/(class_0_est_instances if i==0 else others_est_instances) for i in range(ypred_stack_final.shape[1])]])\n",
    "#     ypred_stack_final1 = new_probabilities / np.sum(new_probabilities, axis=1, keepdims=1) \n",
    "        \n",
    "# #     print(\"ScoreMetric \",ScoreMetric(y_val,1-ypred_stack_final1))\n",
    "# #     print('LOSS: %.5f' % (np.mean(outer_results)))\n",
    "#     return ypred_stack_final1\n",
    "\n",
    "# # traindf = get_traindf()\n",
    "\n",
    "# # m,models,sc,imputer = train_stack(traindf,greeks)  \n",
    " \n"
   ]
  },
  {
   "cell_type": "code",
   "execution_count": 62,
   "id": "c5935405",
   "metadata": {
    "execution": {
     "iopub.execute_input": "2023-08-07T17:05:37.540831Z",
     "iopub.status.busy": "2023-08-07T17:05:37.540403Z",
     "iopub.status.idle": "2023-08-07T17:05:37.545314Z",
     "shell.execute_reply": "2023-08-07T17:05:37.544185Z"
    },
    "papermill": {
     "duration": 0.039504,
     "end_time": "2023-08-07T17:05:37.547487",
     "exception": false,
     "start_time": "2023-08-07T17:05:37.507983",
     "status": "completed"
    },
    "tags": []
   },
   "outputs": [],
   "source": [
    "# %%time\n",
    "# test_predictors = get_testpredictors()\n",
    "# ypred_stack_final = train_stack(train_pred_and_time,greeks, test_predictors)  \n",
    "# # ypred_stack_final"
   ]
  },
  {
   "cell_type": "code",
   "execution_count": 63,
   "id": "55e9efce",
   "metadata": {
    "execution": {
     "iopub.execute_input": "2023-08-07T17:05:37.613655Z",
     "iopub.status.busy": "2023-08-07T17:05:37.612336Z",
     "iopub.status.idle": "2023-08-07T17:05:37.620015Z",
     "shell.execute_reply": "2023-08-07T17:05:37.618914Z"
    },
    "papermill": {
     "duration": 0.042923,
     "end_time": "2023-08-07T17:05:37.622606",
     "exception": false,
     "start_time": "2023-08-07T17:05:37.579683",
     "status": "completed"
    },
    "tags": []
   },
   "outputs": [],
   "source": [
    "probabilities1 = np.concatenate((ypred_model1_final[:,:1], np.sum(ypred_model1_final[:,1:], 1, keepdims=True)), axis=1)\n",
    "probabilities2 = np.concatenate((ypred_model2_final[:,:1], np.sum(ypred_model2_final[:,1:], 1, keepdims=True)), axis=1)\n",
    "\n",
    "probabilities = 0.3*probabilities1 + 0.4*probabilities2 + 0.3 * ypred_stack_final\n",
    "\n",
    "# probabilities = 0.5*probabilities1 + 0.5 * ypred_stack_final\n",
    "\n",
    "p0 = probabilities[:,:1]  \n",
    "\n",
    "# p0[p0 > 0.8] = 1\n",
    "# p0[p0 < 0.1] = 0"
   ]
  },
  {
   "cell_type": "code",
   "execution_count": 64,
   "id": "516f7d55",
   "metadata": {
    "execution": {
     "iopub.execute_input": "2023-08-07T17:05:37.686404Z",
     "iopub.status.busy": "2023-08-07T17:05:37.685956Z",
     "iopub.status.idle": "2023-08-07T17:05:37.694193Z",
     "shell.execute_reply": "2023-08-07T17:05:37.692886Z"
    },
    "papermill": {
     "duration": 0.043504,
     "end_time": "2023-08-07T17:05:37.696920",
     "exception": false,
     "start_time": "2023-08-07T17:05:37.653416",
     "status": "completed"
    },
    "tags": []
   },
   "outputs": [
    {
     "data": {
      "text/plain": [
       "array([[0.5, 0.5],\n",
       "       [0.5, 0.5],\n",
       "       [0.5, 0.5],\n",
       "       [0.5, 0.5],\n",
       "       [0.5, 0.5]])"
      ]
     },
     "execution_count": 64,
     "metadata": {},
     "output_type": "execute_result"
    }
   ],
   "source": [
    "probabilities1"
   ]
  },
  {
   "cell_type": "code",
   "execution_count": 65,
   "id": "81f2ab6e",
   "metadata": {
    "execution": {
     "iopub.execute_input": "2023-08-07T17:05:37.762005Z",
     "iopub.status.busy": "2023-08-07T17:05:37.760913Z",
     "iopub.status.idle": "2023-08-07T17:05:37.769230Z",
     "shell.execute_reply": "2023-08-07T17:05:37.767927Z"
    },
    "papermill": {
     "duration": 0.043769,
     "end_time": "2023-08-07T17:05:37.771956",
     "exception": false,
     "start_time": "2023-08-07T17:05:37.728187",
     "status": "completed"
    },
    "tags": []
   },
   "outputs": [
    {
     "data": {
      "text/plain": [
       "array([[0.49999999, 0.50000001],\n",
       "       [0.49999999, 0.50000001],\n",
       "       [0.49999999, 0.50000001],\n",
       "       [0.49999999, 0.50000001],\n",
       "       [0.49999999, 0.50000001]])"
      ]
     },
     "execution_count": 65,
     "metadata": {},
     "output_type": "execute_result"
    }
   ],
   "source": [
    "probabilities2"
   ]
  },
  {
   "cell_type": "code",
   "execution_count": 66,
   "id": "4279fc9f",
   "metadata": {
    "execution": {
     "iopub.execute_input": "2023-08-07T17:05:37.836814Z",
     "iopub.status.busy": "2023-08-07T17:05:37.836367Z",
     "iopub.status.idle": "2023-08-07T17:05:37.844517Z",
     "shell.execute_reply": "2023-08-07T17:05:37.843374Z"
    },
    "papermill": {
     "duration": 0.043541,
     "end_time": "2023-08-07T17:05:37.846763",
     "exception": false,
     "start_time": "2023-08-07T17:05:37.803222",
     "status": "completed"
    },
    "tags": []
   },
   "outputs": [
    {
     "data": {
      "text/plain": [
       "array([[0.5, 0.5],\n",
       "       [0.5, 0.5],\n",
       "       [0.5, 0.5],\n",
       "       [0.5, 0.5],\n",
       "       [0.5, 0.5]])"
      ]
     },
     "execution_count": 66,
     "metadata": {},
     "output_type": "execute_result"
    }
   ],
   "source": [
    "ypred_stack_final"
   ]
  },
  {
   "cell_type": "code",
   "execution_count": 67,
   "id": "aa9689da",
   "metadata": {
    "execution": {
     "iopub.execute_input": "2023-08-07T17:05:37.911552Z",
     "iopub.status.busy": "2023-08-07T17:05:37.911124Z",
     "iopub.status.idle": "2023-08-07T17:05:37.924190Z",
     "shell.execute_reply": "2023-08-07T17:05:37.922943Z"
    },
    "papermill": {
     "duration": 0.04864,
     "end_time": "2023-08-07T17:05:37.926977",
     "exception": false,
     "start_time": "2023-08-07T17:05:37.878337",
     "status": "completed"
    },
    "tags": []
   },
   "outputs": [],
   "source": [
    "submission = pd.DataFrame(test[\"Id\"], columns=[\"Id\"])\n",
    "submission[\"class_0\"] = p0\n",
    "submission[\"class_1\"] = 1 - p0\n",
    "submission.to_csv('submission.csv', index=False)"
   ]
  },
  {
   "cell_type": "code",
   "execution_count": 68,
   "id": "42fb0cff",
   "metadata": {
    "execution": {
     "iopub.execute_input": "2023-08-07T17:05:37.992927Z",
     "iopub.status.busy": "2023-08-07T17:05:37.992503Z",
     "iopub.status.idle": "2023-08-07T17:05:38.013650Z",
     "shell.execute_reply": "2023-08-07T17:05:38.012585Z"
    },
    "papermill": {
     "duration": 0.057188,
     "end_time": "2023-08-07T17:05:38.016325",
     "exception": false,
     "start_time": "2023-08-07T17:05:37.959137",
     "status": "completed"
    },
    "tags": []
   },
   "outputs": [
    {
     "data": {
      "text/html": [
       "<div>\n",
       "<style scoped>\n",
       "    .dataframe tbody tr th:only-of-type {\n",
       "        vertical-align: middle;\n",
       "    }\n",
       "\n",
       "    .dataframe tbody tr th {\n",
       "        vertical-align: top;\n",
       "    }\n",
       "\n",
       "    .dataframe thead th {\n",
       "        text-align: right;\n",
       "    }\n",
       "</style>\n",
       "<table border=\"1\" class=\"dataframe\">\n",
       "  <thead>\n",
       "    <tr style=\"text-align: right;\">\n",
       "      <th></th>\n",
       "      <th>Id</th>\n",
       "      <th>class_0</th>\n",
       "      <th>class_1</th>\n",
       "    </tr>\n",
       "  </thead>\n",
       "  <tbody>\n",
       "    <tr>\n",
       "      <th>0</th>\n",
       "      <td>00eed32682bb</td>\n",
       "      <td>0.5</td>\n",
       "      <td>0.5</td>\n",
       "    </tr>\n",
       "    <tr>\n",
       "      <th>1</th>\n",
       "      <td>010ebe33f668</td>\n",
       "      <td>0.5</td>\n",
       "      <td>0.5</td>\n",
       "    </tr>\n",
       "    <tr>\n",
       "      <th>2</th>\n",
       "      <td>02fa521e1838</td>\n",
       "      <td>0.5</td>\n",
       "      <td>0.5</td>\n",
       "    </tr>\n",
       "    <tr>\n",
       "      <th>3</th>\n",
       "      <td>040e15f562a2</td>\n",
       "      <td>0.5</td>\n",
       "      <td>0.5</td>\n",
       "    </tr>\n",
       "    <tr>\n",
       "      <th>4</th>\n",
       "      <td>046e85c7cc7f</td>\n",
       "      <td>0.5</td>\n",
       "      <td>0.5</td>\n",
       "    </tr>\n",
       "  </tbody>\n",
       "</table>\n",
       "</div>"
      ],
      "text/plain": [
       "             Id  class_0  class_1\n",
       "0  00eed32682bb      0.5      0.5\n",
       "1  010ebe33f668      0.5      0.5\n",
       "2  02fa521e1838      0.5      0.5\n",
       "3  040e15f562a2      0.5      0.5\n",
       "4  046e85c7cc7f      0.5      0.5"
      ]
     },
     "execution_count": 68,
     "metadata": {},
     "output_type": "execute_result"
    }
   ],
   "source": [
    "submission_df = pd.read_csv('submission.csv')\n",
    "submission_df"
   ]
  },
  {
   "cell_type": "code",
   "execution_count": 69,
   "id": "3b39660e",
   "metadata": {
    "execution": {
     "iopub.execute_input": "2023-08-07T17:05:38.083849Z",
     "iopub.status.busy": "2023-08-07T17:05:38.083397Z",
     "iopub.status.idle": "2023-08-07T17:05:38.089292Z",
     "shell.execute_reply": "2023-08-07T17:05:38.087832Z"
    },
    "papermill": {
     "duration": 0.042457,
     "end_time": "2023-08-07T17:05:38.092035",
     "exception": false,
     "start_time": "2023-08-07T17:05:38.049578",
     "status": "completed"
    },
    "tags": []
   },
   "outputs": [],
   "source": [
    "# y_pred_tr = np.array(submission.loc[:,['class_0','class_1']])\n",
    "# print(ScoreMetric(y_true,y_pred_tr[:,1]))\n",
    "\n",
    "# # 0.012554638990441243 vs 0.008646540967229121\n",
    "# # 0.0020669455679357476\n",
    "\n",
    "# #0.0045408272392828\n",
    "# #0.0018594632297900106\n",
    "\n",
    "# #0.018631567936169137\n",
    "# #0.023465416212992158"
   ]
  },
  {
   "cell_type": "code",
   "execution_count": null,
   "id": "569f65b3",
   "metadata": {
    "papermill": {
     "duration": 0.031819,
     "end_time": "2023-08-07T17:05:38.156627",
     "exception": false,
     "start_time": "2023-08-07T17:05:38.124808",
     "status": "completed"
    },
    "tags": []
   },
   "outputs": [],
   "source": []
  },
  {
   "cell_type": "code",
   "execution_count": null,
   "id": "24e91709",
   "metadata": {
    "papermill": {
     "duration": 0.03306,
     "end_time": "2023-08-07T17:05:38.222242",
     "exception": false,
     "start_time": "2023-08-07T17:05:38.189182",
     "status": "completed"
    },
    "tags": []
   },
   "outputs": [],
   "source": []
  },
  {
   "cell_type": "code",
   "execution_count": null,
   "id": "9cc5a087",
   "metadata": {
    "papermill": {
     "duration": 0.031927,
     "end_time": "2023-08-07T17:05:38.286265",
     "exception": false,
     "start_time": "2023-08-07T17:05:38.254338",
     "status": "completed"
    },
    "tags": []
   },
   "outputs": [],
   "source": []
  },
  {
   "cell_type": "code",
   "execution_count": null,
   "id": "c8941628",
   "metadata": {
    "papermill": {
     "duration": 0.033275,
     "end_time": "2023-08-07T17:05:38.351579",
     "exception": false,
     "start_time": "2023-08-07T17:05:38.318304",
     "status": "completed"
    },
    "tags": []
   },
   "outputs": [],
   "source": []
  }
 ],
 "metadata": {
  "kernelspec": {
   "display_name": "Python 3",
   "language": "python",
   "name": "python3"
  },
  "language_info": {
   "codemirror_mode": {
    "name": "ipython",
    "version": 3
   },
   "file_extension": ".py",
   "mimetype": "text/x-python",
   "name": "python",
   "nbconvert_exporter": "python",
   "pygments_lexer": "ipython3",
   "version": "3.10.12"
  },
  "papermill": {
   "default_parameters": {},
   "duration": 3047.665173,
   "end_time": "2023-08-07T17:05:41.459891",
   "environment_variables": {},
   "exception": null,
   "input_path": "__notebook__.ipynb",
   "output_path": "__notebook__.ipynb",
   "parameters": {},
   "start_time": "2023-08-07T16:14:53.794718",
   "version": "2.4.0"
  },
  "widgets": {
   "application/vnd.jupyter.widget-state+json": {
    "state": {
     "049fd7a61a914593909282fa925adf44": {
      "model_module": "@jupyter-widgets/controls",
      "model_module_version": "1.5.0",
      "model_name": "FloatProgressModel",
      "state": {
       "_dom_classes": [],
       "_model_module": "@jupyter-widgets/controls",
       "_model_module_version": "1.5.0",
       "_model_name": "FloatProgressModel",
       "_view_count": null,
       "_view_module": "@jupyter-widgets/controls",
       "_view_module_version": "1.5.0",
       "_view_name": "ProgressView",
       "bar_style": "success",
       "description": "",
       "description_tooltip": null,
       "layout": "IPY_MODEL_98f6502c8210423c9cf75cce5ebcf963",
       "max": 10.0,
       "min": 0.0,
       "orientation": "horizontal",
       "style": "IPY_MODEL_1739d21376a744d09dbcbf27c91bb702",
       "value": 10.0
      }
     },
     "0d239b1bfb454169a91db858fa4d37ea": {
      "model_module": "@jupyter-widgets/controls",
      "model_module_version": "1.5.0",
      "model_name": "DescriptionStyleModel",
      "state": {
       "_model_module": "@jupyter-widgets/controls",
       "_model_module_version": "1.5.0",
       "_model_name": "DescriptionStyleModel",
       "_view_count": null,
       "_view_module": "@jupyter-widgets/base",
       "_view_module_version": "1.2.0",
       "_view_name": "StyleView",
       "description_width": ""
      }
     },
     "150698d17ca444c3b75e94d218053f7c": {
      "model_module": "@jupyter-widgets/controls",
      "model_module_version": "1.5.0",
      "model_name": "FloatProgressModel",
      "state": {
       "_dom_classes": [],
       "_model_module": "@jupyter-widgets/controls",
       "_model_module_version": "1.5.0",
       "_model_name": "FloatProgressModel",
       "_view_count": null,
       "_view_module": "@jupyter-widgets/controls",
       "_view_module_version": "1.5.0",
       "_view_name": "ProgressView",
       "bar_style": "success",
       "description": "",
       "description_tooltip": null,
       "layout": "IPY_MODEL_bfacf1a4e0944555a94fc6dc3bdd13ee",
       "max": 5.0,
       "min": 0.0,
       "orientation": "horizontal",
       "style": "IPY_MODEL_183767796f4c4b55b20f7ad0c2824308",
       "value": 5.0
      }
     },
     "1739d21376a744d09dbcbf27c91bb702": {
      "model_module": "@jupyter-widgets/controls",
      "model_module_version": "1.5.0",
      "model_name": "ProgressStyleModel",
      "state": {
       "_model_module": "@jupyter-widgets/controls",
       "_model_module_version": "1.5.0",
       "_model_name": "ProgressStyleModel",
       "_view_count": null,
       "_view_module": "@jupyter-widgets/base",
       "_view_module_version": "1.2.0",
       "_view_name": "StyleView",
       "bar_color": null,
       "description_width": ""
      }
     },
     "183767796f4c4b55b20f7ad0c2824308": {
      "model_module": "@jupyter-widgets/controls",
      "model_module_version": "1.5.0",
      "model_name": "ProgressStyleModel",
      "state": {
       "_model_module": "@jupyter-widgets/controls",
       "_model_module_version": "1.5.0",
       "_model_name": "ProgressStyleModel",
       "_view_count": null,
       "_view_module": "@jupyter-widgets/base",
       "_view_module_version": "1.2.0",
       "_view_name": "StyleView",
       "bar_color": null,
       "description_width": ""
      }
     },
     "19fad9303ecc457fb051eaabd3944c0c": {
      "model_module": "@jupyter-widgets/controls",
      "model_module_version": "1.5.0",
      "model_name": "DescriptionStyleModel",
      "state": {
       "_model_module": "@jupyter-widgets/controls",
       "_model_module_version": "1.5.0",
       "_model_name": "DescriptionStyleModel",
       "_view_count": null,
       "_view_module": "@jupyter-widgets/base",
       "_view_module_version": "1.2.0",
       "_view_name": "StyleView",
       "description_width": ""
      }
     },
     "1a831d3bd77f447bbec048e7c76222c1": {
      "model_module": "@jupyter-widgets/base",
      "model_module_version": "1.2.0",
      "model_name": "LayoutModel",
      "state": {
       "_model_module": "@jupyter-widgets/base",
       "_model_module_version": "1.2.0",
       "_model_name": "LayoutModel",
       "_view_count": null,
       "_view_module": "@jupyter-widgets/base",
       "_view_module_version": "1.2.0",
       "_view_name": "LayoutView",
       "align_content": null,
       "align_items": null,
       "align_self": null,
       "border": null,
       "bottom": null,
       "display": null,
       "flex": null,
       "flex_flow": null,
       "grid_area": null,
       "grid_auto_columns": null,
       "grid_auto_flow": null,
       "grid_auto_rows": null,
       "grid_column": null,
       "grid_gap": null,
       "grid_row": null,
       "grid_template_areas": null,
       "grid_template_columns": null,
       "grid_template_rows": null,
       "height": null,
       "justify_content": null,
       "justify_items": null,
       "left": null,
       "margin": null,
       "max_height": null,
       "max_width": null,
       "min_height": null,
       "min_width": null,
       "object_fit": null,
       "object_position": null,
       "order": null,
       "overflow": null,
       "overflow_x": null,
       "overflow_y": null,
       "padding": null,
       "right": null,
       "top": null,
       "visibility": null,
       "width": null
      }
     },
     "1b3dc97d15594d7ba425e23499004fa0": {
      "model_module": "@jupyter-widgets/controls",
      "model_module_version": "1.5.0",
      "model_name": "DescriptionStyleModel",
      "state": {
       "_model_module": "@jupyter-widgets/controls",
       "_model_module_version": "1.5.0",
       "_model_name": "DescriptionStyleModel",
       "_view_count": null,
       "_view_module": "@jupyter-widgets/base",
       "_view_module_version": "1.2.0",
       "_view_name": "StyleView",
       "description_width": ""
      }
     },
     "1d62838f9b724eb7ba52fb855d19ffc0": {
      "model_module": "@jupyter-widgets/controls",
      "model_module_version": "1.5.0",
      "model_name": "ProgressStyleModel",
      "state": {
       "_model_module": "@jupyter-widgets/controls",
       "_model_module_version": "1.5.0",
       "_model_name": "ProgressStyleModel",
       "_view_count": null,
       "_view_module": "@jupyter-widgets/base",
       "_view_module_version": "1.2.0",
       "_view_name": "StyleView",
       "bar_color": null,
       "description_width": ""
      }
     },
     "2156c9fd8de9439d8f62a91e7556b1c0": {
      "model_module": "@jupyter-widgets/controls",
      "model_module_version": "1.5.0",
      "model_name": "HTMLModel",
      "state": {
       "_dom_classes": [],
       "_model_module": "@jupyter-widgets/controls",
       "_model_module_version": "1.5.0",
       "_model_name": "HTMLModel",
       "_view_count": null,
       "_view_module": "@jupyter-widgets/controls",
       "_view_module_version": "1.5.0",
       "_view_name": "HTMLView",
       "description": "",
       "description_tooltip": null,
       "layout": "IPY_MODEL_5cb3aeb4ad73446081b67d9591a1b79b",
       "placeholder": "​",
       "style": "IPY_MODEL_edb0591f01b040229d17534a70810a59",
       "value": " 10/10 [01:27&lt;00:00,  8.75s/it]"
      }
     },
     "216771be70e4453f87bccf9719a602de": {
      "model_module": "@jupyter-widgets/controls",
      "model_module_version": "1.5.0",
      "model_name": "HBoxModel",
      "state": {
       "_dom_classes": [],
       "_model_module": "@jupyter-widgets/controls",
       "_model_module_version": "1.5.0",
       "_model_name": "HBoxModel",
       "_view_count": null,
       "_view_module": "@jupyter-widgets/controls",
       "_view_module_version": "1.5.0",
       "_view_name": "HBoxView",
       "box_style": "",
       "children": [
        "IPY_MODEL_a371c307e5364a99965fd15d0fab17cf",
        "IPY_MODEL_b02022fb8d7347de81047c28a127494c",
        "IPY_MODEL_fdc84c32f3b54da49ed1f73bdfb3f3fe"
       ],
       "layout": "IPY_MODEL_2cb9a9d5ad5c46cd9463ad6ba0e1634b"
      }
     },
     "246f864ea8994828baa83625bc138e66": {
      "model_module": "@jupyter-widgets/base",
      "model_module_version": "1.2.0",
      "model_name": "LayoutModel",
      "state": {
       "_model_module": "@jupyter-widgets/base",
       "_model_module_version": "1.2.0",
       "_model_name": "LayoutModel",
       "_view_count": null,
       "_view_module": "@jupyter-widgets/base",
       "_view_module_version": "1.2.0",
       "_view_name": "LayoutView",
       "align_content": null,
       "align_items": null,
       "align_self": null,
       "border": null,
       "bottom": null,
       "display": null,
       "flex": null,
       "flex_flow": null,
       "grid_area": null,
       "grid_auto_columns": null,
       "grid_auto_flow": null,
       "grid_auto_rows": null,
       "grid_column": null,
       "grid_gap": null,
       "grid_row": null,
       "grid_template_areas": null,
       "grid_template_columns": null,
       "grid_template_rows": null,
       "height": null,
       "justify_content": null,
       "justify_items": null,
       "left": null,
       "margin": null,
       "max_height": null,
       "max_width": null,
       "min_height": null,
       "min_width": null,
       "object_fit": null,
       "object_position": null,
       "order": null,
       "overflow": null,
       "overflow_x": null,
       "overflow_y": null,
       "padding": null,
       "right": null,
       "top": null,
       "visibility": null,
       "width": null
      }
     },
     "29c3e5b6657940a2b69426049a8b05d8": {
      "model_module": "@jupyter-widgets/controls",
      "model_module_version": "1.5.0",
      "model_name": "HTMLModel",
      "state": {
       "_dom_classes": [],
       "_model_module": "@jupyter-widgets/controls",
       "_model_module_version": "1.5.0",
       "_model_name": "HTMLModel",
       "_view_count": null,
       "_view_module": "@jupyter-widgets/controls",
       "_view_module_version": "1.5.0",
       "_view_name": "HTMLView",
       "description": "",
       "description_tooltip": null,
       "layout": "IPY_MODEL_aba00902953c4943aa5abbe064e5ad67",
       "placeholder": "​",
       "style": "IPY_MODEL_cb1a61a1aba84332a8256def001f03e8",
       "value": "100%"
      }
     },
     "2cb25d7befc74a50995b2fa6c689cf1a": {
      "model_module": "@jupyter-widgets/controls",
      "model_module_version": "1.5.0",
      "model_name": "HBoxModel",
      "state": {
       "_dom_classes": [],
       "_model_module": "@jupyter-widgets/controls",
       "_model_module_version": "1.5.0",
       "_model_name": "HBoxModel",
       "_view_count": null,
       "_view_module": "@jupyter-widgets/controls",
       "_view_module_version": "1.5.0",
       "_view_name": "HBoxView",
       "box_style": "",
       "children": [
        "IPY_MODEL_2eee6ba4c78a484890c30463643480f7",
        "IPY_MODEL_049fd7a61a914593909282fa925adf44",
        "IPY_MODEL_2156c9fd8de9439d8f62a91e7556b1c0"
       ],
       "layout": "IPY_MODEL_1a831d3bd77f447bbec048e7c76222c1"
      }
     },
     "2cb9a9d5ad5c46cd9463ad6ba0e1634b": {
      "model_module": "@jupyter-widgets/base",
      "model_module_version": "1.2.0",
      "model_name": "LayoutModel",
      "state": {
       "_model_module": "@jupyter-widgets/base",
       "_model_module_version": "1.2.0",
       "_model_name": "LayoutModel",
       "_view_count": null,
       "_view_module": "@jupyter-widgets/base",
       "_view_module_version": "1.2.0",
       "_view_name": "LayoutView",
       "align_content": null,
       "align_items": null,
       "align_self": null,
       "border": null,
       "bottom": null,
       "display": null,
       "flex": null,
       "flex_flow": null,
       "grid_area": null,
       "grid_auto_columns": null,
       "grid_auto_flow": null,
       "grid_auto_rows": null,
       "grid_column": null,
       "grid_gap": null,
       "grid_row": null,
       "grid_template_areas": null,
       "grid_template_columns": null,
       "grid_template_rows": null,
       "height": null,
       "justify_content": null,
       "justify_items": null,
       "left": null,
       "margin": null,
       "max_height": null,
       "max_width": null,
       "min_height": null,
       "min_width": null,
       "object_fit": null,
       "object_position": null,
       "order": null,
       "overflow": null,
       "overflow_x": null,
       "overflow_y": null,
       "padding": null,
       "right": null,
       "top": null,
       "visibility": null,
       "width": null
      }
     },
     "2eee6ba4c78a484890c30463643480f7": {
      "model_module": "@jupyter-widgets/controls",
      "model_module_version": "1.5.0",
      "model_name": "HTMLModel",
      "state": {
       "_dom_classes": [],
       "_model_module": "@jupyter-widgets/controls",
       "_model_module_version": "1.5.0",
       "_model_name": "HTMLModel",
       "_view_count": null,
       "_view_module": "@jupyter-widgets/controls",
       "_view_module_version": "1.5.0",
       "_view_name": "HTMLView",
       "description": "",
       "description_tooltip": null,
       "layout": "IPY_MODEL_58420499e8084a679b67974034c8b13b",
       "placeholder": "​",
       "style": "IPY_MODEL_df283d312d484e0286c8831dbdbd9669",
       "value": "100%"
      }
     },
     "3aa7beb1e6e147eab9908a402f7bb6df": {
      "model_module": "@jupyter-widgets/base",
      "model_module_version": "1.2.0",
      "model_name": "LayoutModel",
      "state": {
       "_model_module": "@jupyter-widgets/base",
       "_model_module_version": "1.2.0",
       "_model_name": "LayoutModel",
       "_view_count": null,
       "_view_module": "@jupyter-widgets/base",
       "_view_module_version": "1.2.0",
       "_view_name": "LayoutView",
       "align_content": null,
       "align_items": null,
       "align_self": null,
       "border": null,
       "bottom": null,
       "display": null,
       "flex": null,
       "flex_flow": null,
       "grid_area": null,
       "grid_auto_columns": null,
       "grid_auto_flow": null,
       "grid_auto_rows": null,
       "grid_column": null,
       "grid_gap": null,
       "grid_row": null,
       "grid_template_areas": null,
       "grid_template_columns": null,
       "grid_template_rows": null,
       "height": null,
       "justify_content": null,
       "justify_items": null,
       "left": null,
       "margin": null,
       "max_height": null,
       "max_width": null,
       "min_height": null,
       "min_width": null,
       "object_fit": null,
       "object_position": null,
       "order": null,
       "overflow": null,
       "overflow_x": null,
       "overflow_y": null,
       "padding": null,
       "right": null,
       "top": null,
       "visibility": null,
       "width": null
      }
     },
     "3dc5c7e4b98b46c5b1d3567a61beb811": {
      "model_module": "@jupyter-widgets/base",
      "model_module_version": "1.2.0",
      "model_name": "LayoutModel",
      "state": {
       "_model_module": "@jupyter-widgets/base",
       "_model_module_version": "1.2.0",
       "_model_name": "LayoutModel",
       "_view_count": null,
       "_view_module": "@jupyter-widgets/base",
       "_view_module_version": "1.2.0",
       "_view_name": "LayoutView",
       "align_content": null,
       "align_items": null,
       "align_self": null,
       "border": null,
       "bottom": null,
       "display": null,
       "flex": null,
       "flex_flow": null,
       "grid_area": null,
       "grid_auto_columns": null,
       "grid_auto_flow": null,
       "grid_auto_rows": null,
       "grid_column": null,
       "grid_gap": null,
       "grid_row": null,
       "grid_template_areas": null,
       "grid_template_columns": null,
       "grid_template_rows": null,
       "height": null,
       "justify_content": null,
       "justify_items": null,
       "left": null,
       "margin": null,
       "max_height": null,
       "max_width": null,
       "min_height": null,
       "min_width": null,
       "object_fit": null,
       "object_position": null,
       "order": null,
       "overflow": null,
       "overflow_x": null,
       "overflow_y": null,
       "padding": null,
       "right": null,
       "top": null,
       "visibility": null,
       "width": null
      }
     },
     "3e863e225648428cade30079ccf31a0f": {
      "model_module": "@jupyter-widgets/controls",
      "model_module_version": "1.5.0",
      "model_name": "ProgressStyleModel",
      "state": {
       "_model_module": "@jupyter-widgets/controls",
       "_model_module_version": "1.5.0",
       "_model_name": "ProgressStyleModel",
       "_view_count": null,
       "_view_module": "@jupyter-widgets/base",
       "_view_module_version": "1.2.0",
       "_view_name": "StyleView",
       "bar_color": null,
       "description_width": ""
      }
     },
     "58420499e8084a679b67974034c8b13b": {
      "model_module": "@jupyter-widgets/base",
      "model_module_version": "1.2.0",
      "model_name": "LayoutModel",
      "state": {
       "_model_module": "@jupyter-widgets/base",
       "_model_module_version": "1.2.0",
       "_model_name": "LayoutModel",
       "_view_count": null,
       "_view_module": "@jupyter-widgets/base",
       "_view_module_version": "1.2.0",
       "_view_name": "LayoutView",
       "align_content": null,
       "align_items": null,
       "align_self": null,
       "border": null,
       "bottom": null,
       "display": null,
       "flex": null,
       "flex_flow": null,
       "grid_area": null,
       "grid_auto_columns": null,
       "grid_auto_flow": null,
       "grid_auto_rows": null,
       "grid_column": null,
       "grid_gap": null,
       "grid_row": null,
       "grid_template_areas": null,
       "grid_template_columns": null,
       "grid_template_rows": null,
       "height": null,
       "justify_content": null,
       "justify_items": null,
       "left": null,
       "margin": null,
       "max_height": null,
       "max_width": null,
       "min_height": null,
       "min_width": null,
       "object_fit": null,
       "object_position": null,
       "order": null,
       "overflow": null,
       "overflow_x": null,
       "overflow_y": null,
       "padding": null,
       "right": null,
       "top": null,
       "visibility": null,
       "width": null
      }
     },
     "5c0ff8fb330e49e08a5284b928d09ff0": {
      "model_module": "@jupyter-widgets/controls",
      "model_module_version": "1.5.0",
      "model_name": "DescriptionStyleModel",
      "state": {
       "_model_module": "@jupyter-widgets/controls",
       "_model_module_version": "1.5.0",
       "_model_name": "DescriptionStyleModel",
       "_view_count": null,
       "_view_module": "@jupyter-widgets/base",
       "_view_module_version": "1.2.0",
       "_view_name": "StyleView",
       "description_width": ""
      }
     },
     "5cb3aeb4ad73446081b67d9591a1b79b": {
      "model_module": "@jupyter-widgets/base",
      "model_module_version": "1.2.0",
      "model_name": "LayoutModel",
      "state": {
       "_model_module": "@jupyter-widgets/base",
       "_model_module_version": "1.2.0",
       "_model_name": "LayoutModel",
       "_view_count": null,
       "_view_module": "@jupyter-widgets/base",
       "_view_module_version": "1.2.0",
       "_view_name": "LayoutView",
       "align_content": null,
       "align_items": null,
       "align_self": null,
       "border": null,
       "bottom": null,
       "display": null,
       "flex": null,
       "flex_flow": null,
       "grid_area": null,
       "grid_auto_columns": null,
       "grid_auto_flow": null,
       "grid_auto_rows": null,
       "grid_column": null,
       "grid_gap": null,
       "grid_row": null,
       "grid_template_areas": null,
       "grid_template_columns": null,
       "grid_template_rows": null,
       "height": null,
       "justify_content": null,
       "justify_items": null,
       "left": null,
       "margin": null,
       "max_height": null,
       "max_width": null,
       "min_height": null,
       "min_width": null,
       "object_fit": null,
       "object_position": null,
       "order": null,
       "overflow": null,
       "overflow_x": null,
       "overflow_y": null,
       "padding": null,
       "right": null,
       "top": null,
       "visibility": null,
       "width": null
      }
     },
     "5d396d6f373245bbae482a898fe46f79": {
      "model_module": "@jupyter-widgets/controls",
      "model_module_version": "1.5.0",
      "model_name": "HTMLModel",
      "state": {
       "_dom_classes": [],
       "_model_module": "@jupyter-widgets/controls",
       "_model_module_version": "1.5.0",
       "_model_name": "HTMLModel",
       "_view_count": null,
       "_view_module": "@jupyter-widgets/controls",
       "_view_module_version": "1.5.0",
       "_view_name": "HTMLView",
       "description": "",
       "description_tooltip": null,
       "layout": "IPY_MODEL_7bef44ac2a4b4a9294d281334502403e",
       "placeholder": "​",
       "style": "IPY_MODEL_0d239b1bfb454169a91db858fa4d37ea",
       "value": " 5/5 [23:50&lt;00:00, 286.09s/it]"
      }
     },
     "6ea85ed58d2c4b1f9d894f6cc09e14fa": {
      "model_module": "@jupyter-widgets/base",
      "model_module_version": "1.2.0",
      "model_name": "LayoutModel",
      "state": {
       "_model_module": "@jupyter-widgets/base",
       "_model_module_version": "1.2.0",
       "_model_name": "LayoutModel",
       "_view_count": null,
       "_view_module": "@jupyter-widgets/base",
       "_view_module_version": "1.2.0",
       "_view_name": "LayoutView",
       "align_content": null,
       "align_items": null,
       "align_self": null,
       "border": null,
       "bottom": null,
       "display": null,
       "flex": null,
       "flex_flow": null,
       "grid_area": null,
       "grid_auto_columns": null,
       "grid_auto_flow": null,
       "grid_auto_rows": null,
       "grid_column": null,
       "grid_gap": null,
       "grid_row": null,
       "grid_template_areas": null,
       "grid_template_columns": null,
       "grid_template_rows": null,
       "height": null,
       "justify_content": null,
       "justify_items": null,
       "left": null,
       "margin": null,
       "max_height": null,
       "max_width": null,
       "min_height": null,
       "min_width": null,
       "object_fit": null,
       "object_position": null,
       "order": null,
       "overflow": null,
       "overflow_x": null,
       "overflow_y": null,
       "padding": null,
       "right": null,
       "top": null,
       "visibility": null,
       "width": null
      }
     },
     "71e6521b4f344a40b2f80ab6e17b6e8b": {
      "model_module": "@jupyter-widgets/controls",
      "model_module_version": "1.5.0",
      "model_name": "HBoxModel",
      "state": {
       "_dom_classes": [],
       "_model_module": "@jupyter-widgets/controls",
       "_model_module_version": "1.5.0",
       "_model_name": "HBoxModel",
       "_view_count": null,
       "_view_module": "@jupyter-widgets/controls",
       "_view_module_version": "1.5.0",
       "_view_name": "HBoxView",
       "box_style": "",
       "children": [
        "IPY_MODEL_29c3e5b6657940a2b69426049a8b05d8",
        "IPY_MODEL_8aee312953014e16b349d75b439d201b",
        "IPY_MODEL_929cd7a867f34e4c9ce37b47a66b778a"
       ],
       "layout": "IPY_MODEL_ac961b75205248d9824226a1f47ea4b6"
      }
     },
     "7b11a58349ed4c8bb02863f580f3b030": {
      "model_module": "@jupyter-widgets/controls",
      "model_module_version": "1.5.0",
      "model_name": "HBoxModel",
      "state": {
       "_dom_classes": [],
       "_model_module": "@jupyter-widgets/controls",
       "_model_module_version": "1.5.0",
       "_model_name": "HBoxModel",
       "_view_count": null,
       "_view_module": "@jupyter-widgets/controls",
       "_view_module_version": "1.5.0",
       "_view_name": "HBoxView",
       "box_style": "",
       "children": [
        "IPY_MODEL_7eeb171f0dce47f7afd11ddac6b38f66",
        "IPY_MODEL_150698d17ca444c3b75e94d218053f7c",
        "IPY_MODEL_5d396d6f373245bbae482a898fe46f79"
       ],
       "layout": "IPY_MODEL_f7040463af46449e957a549bd8a724f7"
      }
     },
     "7bef44ac2a4b4a9294d281334502403e": {
      "model_module": "@jupyter-widgets/base",
      "model_module_version": "1.2.0",
      "model_name": "LayoutModel",
      "state": {
       "_model_module": "@jupyter-widgets/base",
       "_model_module_version": "1.2.0",
       "_model_name": "LayoutModel",
       "_view_count": null,
       "_view_module": "@jupyter-widgets/base",
       "_view_module_version": "1.2.0",
       "_view_name": "LayoutView",
       "align_content": null,
       "align_items": null,
       "align_self": null,
       "border": null,
       "bottom": null,
       "display": null,
       "flex": null,
       "flex_flow": null,
       "grid_area": null,
       "grid_auto_columns": null,
       "grid_auto_flow": null,
       "grid_auto_rows": null,
       "grid_column": null,
       "grid_gap": null,
       "grid_row": null,
       "grid_template_areas": null,
       "grid_template_columns": null,
       "grid_template_rows": null,
       "height": null,
       "justify_content": null,
       "justify_items": null,
       "left": null,
       "margin": null,
       "max_height": null,
       "max_width": null,
       "min_height": null,
       "min_width": null,
       "object_fit": null,
       "object_position": null,
       "order": null,
       "overflow": null,
       "overflow_x": null,
       "overflow_y": null,
       "padding": null,
       "right": null,
       "top": null,
       "visibility": null,
       "width": null
      }
     },
     "7e8178e05b514eac9ccaba41e48237cf": {
      "model_module": "@jupyter-widgets/base",
      "model_module_version": "1.2.0",
      "model_name": "LayoutModel",
      "state": {
       "_model_module": "@jupyter-widgets/base",
       "_model_module_version": "1.2.0",
       "_model_name": "LayoutModel",
       "_view_count": null,
       "_view_module": "@jupyter-widgets/base",
       "_view_module_version": "1.2.0",
       "_view_name": "LayoutView",
       "align_content": null,
       "align_items": null,
       "align_self": null,
       "border": null,
       "bottom": null,
       "display": null,
       "flex": null,
       "flex_flow": null,
       "grid_area": null,
       "grid_auto_columns": null,
       "grid_auto_flow": null,
       "grid_auto_rows": null,
       "grid_column": null,
       "grid_gap": null,
       "grid_row": null,
       "grid_template_areas": null,
       "grid_template_columns": null,
       "grid_template_rows": null,
       "height": null,
       "justify_content": null,
       "justify_items": null,
       "left": null,
       "margin": null,
       "max_height": null,
       "max_width": null,
       "min_height": null,
       "min_width": null,
       "object_fit": null,
       "object_position": null,
       "order": null,
       "overflow": null,
       "overflow_x": null,
       "overflow_y": null,
       "padding": null,
       "right": null,
       "top": null,
       "visibility": null,
       "width": null
      }
     },
     "7eeb171f0dce47f7afd11ddac6b38f66": {
      "model_module": "@jupyter-widgets/controls",
      "model_module_version": "1.5.0",
      "model_name": "HTMLModel",
      "state": {
       "_dom_classes": [],
       "_model_module": "@jupyter-widgets/controls",
       "_model_module_version": "1.5.0",
       "_model_name": "HTMLModel",
       "_view_count": null,
       "_view_module": "@jupyter-widgets/controls",
       "_view_module_version": "1.5.0",
       "_view_name": "HTMLView",
       "description": "",
       "description_tooltip": null,
       "layout": "IPY_MODEL_3dc5c7e4b98b46c5b1d3567a61beb811",
       "placeholder": "​",
       "style": "IPY_MODEL_ba5b9fb192f946288e6e4fe53c32b8e0",
       "value": "100%"
      }
     },
     "821485abec2344ee9ed9a3e911b3e9ce": {
      "model_module": "@jupyter-widgets/base",
      "model_module_version": "1.2.0",
      "model_name": "LayoutModel",
      "state": {
       "_model_module": "@jupyter-widgets/base",
       "_model_module_version": "1.2.0",
       "_model_name": "LayoutModel",
       "_view_count": null,
       "_view_module": "@jupyter-widgets/base",
       "_view_module_version": "1.2.0",
       "_view_name": "LayoutView",
       "align_content": null,
       "align_items": null,
       "align_self": null,
       "border": null,
       "bottom": null,
       "display": null,
       "flex": null,
       "flex_flow": null,
       "grid_area": null,
       "grid_auto_columns": null,
       "grid_auto_flow": null,
       "grid_auto_rows": null,
       "grid_column": null,
       "grid_gap": null,
       "grid_row": null,
       "grid_template_areas": null,
       "grid_template_columns": null,
       "grid_template_rows": null,
       "height": null,
       "justify_content": null,
       "justify_items": null,
       "left": null,
       "margin": null,
       "max_height": null,
       "max_width": null,
       "min_height": null,
       "min_width": null,
       "object_fit": null,
       "object_position": null,
       "order": null,
       "overflow": null,
       "overflow_x": null,
       "overflow_y": null,
       "padding": null,
       "right": null,
       "top": null,
       "visibility": null,
       "width": null
      }
     },
     "8aee312953014e16b349d75b439d201b": {
      "model_module": "@jupyter-widgets/controls",
      "model_module_version": "1.5.0",
      "model_name": "FloatProgressModel",
      "state": {
       "_dom_classes": [],
       "_model_module": "@jupyter-widgets/controls",
       "_model_module_version": "1.5.0",
       "_model_name": "FloatProgressModel",
       "_view_count": null,
       "_view_module": "@jupyter-widgets/controls",
       "_view_module_version": "1.5.0",
       "_view_name": "ProgressView",
       "bar_style": "success",
       "description": "",
       "description_tooltip": null,
       "layout": "IPY_MODEL_3aa7beb1e6e147eab9908a402f7bb6df",
       "max": 10.0,
       "min": 0.0,
       "orientation": "horizontal",
       "style": "IPY_MODEL_3e863e225648428cade30079ccf31a0f",
       "value": 10.0
      }
     },
     "924b0c5572ec498e821f133127197e80": {
      "model_module": "@jupyter-widgets/base",
      "model_module_version": "1.2.0",
      "model_name": "LayoutModel",
      "state": {
       "_model_module": "@jupyter-widgets/base",
       "_model_module_version": "1.2.0",
       "_model_name": "LayoutModel",
       "_view_count": null,
       "_view_module": "@jupyter-widgets/base",
       "_view_module_version": "1.2.0",
       "_view_name": "LayoutView",
       "align_content": null,
       "align_items": null,
       "align_self": null,
       "border": null,
       "bottom": null,
       "display": null,
       "flex": null,
       "flex_flow": null,
       "grid_area": null,
       "grid_auto_columns": null,
       "grid_auto_flow": null,
       "grid_auto_rows": null,
       "grid_column": null,
       "grid_gap": null,
       "grid_row": null,
       "grid_template_areas": null,
       "grid_template_columns": null,
       "grid_template_rows": null,
       "height": null,
       "justify_content": null,
       "justify_items": null,
       "left": null,
       "margin": null,
       "max_height": null,
       "max_width": null,
       "min_height": null,
       "min_width": null,
       "object_fit": null,
       "object_position": null,
       "order": null,
       "overflow": null,
       "overflow_x": null,
       "overflow_y": null,
       "padding": null,
       "right": null,
       "top": null,
       "visibility": null,
       "width": null
      }
     },
     "929cd7a867f34e4c9ce37b47a66b778a": {
      "model_module": "@jupyter-widgets/controls",
      "model_module_version": "1.5.0",
      "model_name": "HTMLModel",
      "state": {
       "_dom_classes": [],
       "_model_module": "@jupyter-widgets/controls",
       "_model_module_version": "1.5.0",
       "_model_name": "HTMLModel",
       "_view_count": null,
       "_view_module": "@jupyter-widgets/controls",
       "_view_module_version": "1.5.0",
       "_view_name": "HTMLView",
       "description": "",
       "description_tooltip": null,
       "layout": "IPY_MODEL_246f864ea8994828baa83625bc138e66",
       "placeholder": "​",
       "style": "IPY_MODEL_1b3dc97d15594d7ba425e23499004fa0",
       "value": " 10/10 [02:39&lt;00:00, 16.00s/it]"
      }
     },
     "971ef441896b4b5b9fa662da0128a94e": {
      "model_module": "@jupyter-widgets/base",
      "model_module_version": "1.2.0",
      "model_name": "LayoutModel",
      "state": {
       "_model_module": "@jupyter-widgets/base",
       "_model_module_version": "1.2.0",
       "_model_name": "LayoutModel",
       "_view_count": null,
       "_view_module": "@jupyter-widgets/base",
       "_view_module_version": "1.2.0",
       "_view_name": "LayoutView",
       "align_content": null,
       "align_items": null,
       "align_self": null,
       "border": null,
       "bottom": null,
       "display": null,
       "flex": null,
       "flex_flow": null,
       "grid_area": null,
       "grid_auto_columns": null,
       "grid_auto_flow": null,
       "grid_auto_rows": null,
       "grid_column": null,
       "grid_gap": null,
       "grid_row": null,
       "grid_template_areas": null,
       "grid_template_columns": null,
       "grid_template_rows": null,
       "height": null,
       "justify_content": null,
       "justify_items": null,
       "left": null,
       "margin": null,
       "max_height": null,
       "max_width": null,
       "min_height": null,
       "min_width": null,
       "object_fit": null,
       "object_position": null,
       "order": null,
       "overflow": null,
       "overflow_x": null,
       "overflow_y": null,
       "padding": null,
       "right": null,
       "top": null,
       "visibility": null,
       "width": null
      }
     },
     "98f6502c8210423c9cf75cce5ebcf963": {
      "model_module": "@jupyter-widgets/base",
      "model_module_version": "1.2.0",
      "model_name": "LayoutModel",
      "state": {
       "_model_module": "@jupyter-widgets/base",
       "_model_module_version": "1.2.0",
       "_model_name": "LayoutModel",
       "_view_count": null,
       "_view_module": "@jupyter-widgets/base",
       "_view_module_version": "1.2.0",
       "_view_name": "LayoutView",
       "align_content": null,
       "align_items": null,
       "align_self": null,
       "border": null,
       "bottom": null,
       "display": null,
       "flex": null,
       "flex_flow": null,
       "grid_area": null,
       "grid_auto_columns": null,
       "grid_auto_flow": null,
       "grid_auto_rows": null,
       "grid_column": null,
       "grid_gap": null,
       "grid_row": null,
       "grid_template_areas": null,
       "grid_template_columns": null,
       "grid_template_rows": null,
       "height": null,
       "justify_content": null,
       "justify_items": null,
       "left": null,
       "margin": null,
       "max_height": null,
       "max_width": null,
       "min_height": null,
       "min_width": null,
       "object_fit": null,
       "object_position": null,
       "order": null,
       "overflow": null,
       "overflow_x": null,
       "overflow_y": null,
       "padding": null,
       "right": null,
       "top": null,
       "visibility": null,
       "width": null
      }
     },
     "a371c307e5364a99965fd15d0fab17cf": {
      "model_module": "@jupyter-widgets/controls",
      "model_module_version": "1.5.0",
      "model_name": "HTMLModel",
      "state": {
       "_dom_classes": [],
       "_model_module": "@jupyter-widgets/controls",
       "_model_module_version": "1.5.0",
       "_model_name": "HTMLModel",
       "_view_count": null,
       "_view_module": "@jupyter-widgets/controls",
       "_view_module_version": "1.5.0",
       "_view_name": "HTMLView",
       "description": "",
       "description_tooltip": null,
       "layout": "IPY_MODEL_d193aa6d4785449bb33f2c2fb8db72f3",
       "placeholder": "​",
       "style": "IPY_MODEL_de923a864ee848b6a9b41c996e5b4a6b",
       "value": "100%"
      }
     },
     "a969160ab30848dda29b840311016638": {
      "model_module": "@jupyter-widgets/base",
      "model_module_version": "1.2.0",
      "model_name": "LayoutModel",
      "state": {
       "_model_module": "@jupyter-widgets/base",
       "_model_module_version": "1.2.0",
       "_model_name": "LayoutModel",
       "_view_count": null,
       "_view_module": "@jupyter-widgets/base",
       "_view_module_version": "1.2.0",
       "_view_name": "LayoutView",
       "align_content": null,
       "align_items": null,
       "align_self": null,
       "border": null,
       "bottom": null,
       "display": null,
       "flex": null,
       "flex_flow": null,
       "grid_area": null,
       "grid_auto_columns": null,
       "grid_auto_flow": null,
       "grid_auto_rows": null,
       "grid_column": null,
       "grid_gap": null,
       "grid_row": null,
       "grid_template_areas": null,
       "grid_template_columns": null,
       "grid_template_rows": null,
       "height": null,
       "justify_content": null,
       "justify_items": null,
       "left": null,
       "margin": null,
       "max_height": null,
       "max_width": null,
       "min_height": null,
       "min_width": null,
       "object_fit": null,
       "object_position": null,
       "order": null,
       "overflow": null,
       "overflow_x": null,
       "overflow_y": null,
       "padding": null,
       "right": null,
       "top": null,
       "visibility": null,
       "width": null
      }
     },
     "aba00902953c4943aa5abbe064e5ad67": {
      "model_module": "@jupyter-widgets/base",
      "model_module_version": "1.2.0",
      "model_name": "LayoutModel",
      "state": {
       "_model_module": "@jupyter-widgets/base",
       "_model_module_version": "1.2.0",
       "_model_name": "LayoutModel",
       "_view_count": null,
       "_view_module": "@jupyter-widgets/base",
       "_view_module_version": "1.2.0",
       "_view_name": "LayoutView",
       "align_content": null,
       "align_items": null,
       "align_self": null,
       "border": null,
       "bottom": null,
       "display": null,
       "flex": null,
       "flex_flow": null,
       "grid_area": null,
       "grid_auto_columns": null,
       "grid_auto_flow": null,
       "grid_auto_rows": null,
       "grid_column": null,
       "grid_gap": null,
       "grid_row": null,
       "grid_template_areas": null,
       "grid_template_columns": null,
       "grid_template_rows": null,
       "height": null,
       "justify_content": null,
       "justify_items": null,
       "left": null,
       "margin": null,
       "max_height": null,
       "max_width": null,
       "min_height": null,
       "min_width": null,
       "object_fit": null,
       "object_position": null,
       "order": null,
       "overflow": null,
       "overflow_x": null,
       "overflow_y": null,
       "padding": null,
       "right": null,
       "top": null,
       "visibility": null,
       "width": null
      }
     },
     "ac961b75205248d9824226a1f47ea4b6": {
      "model_module": "@jupyter-widgets/base",
      "model_module_version": "1.2.0",
      "model_name": "LayoutModel",
      "state": {
       "_model_module": "@jupyter-widgets/base",
       "_model_module_version": "1.2.0",
       "_model_name": "LayoutModel",
       "_view_count": null,
       "_view_module": "@jupyter-widgets/base",
       "_view_module_version": "1.2.0",
       "_view_name": "LayoutView",
       "align_content": null,
       "align_items": null,
       "align_self": null,
       "border": null,
       "bottom": null,
       "display": null,
       "flex": null,
       "flex_flow": null,
       "grid_area": null,
       "grid_auto_columns": null,
       "grid_auto_flow": null,
       "grid_auto_rows": null,
       "grid_column": null,
       "grid_gap": null,
       "grid_row": null,
       "grid_template_areas": null,
       "grid_template_columns": null,
       "grid_template_rows": null,
       "height": null,
       "justify_content": null,
       "justify_items": null,
       "left": null,
       "margin": null,
       "max_height": null,
       "max_width": null,
       "min_height": null,
       "min_width": null,
       "object_fit": null,
       "object_position": null,
       "order": null,
       "overflow": null,
       "overflow_x": null,
       "overflow_y": null,
       "padding": null,
       "right": null,
       "top": null,
       "visibility": null,
       "width": null
      }
     },
     "b02022fb8d7347de81047c28a127494c": {
      "model_module": "@jupyter-widgets/controls",
      "model_module_version": "1.5.0",
      "model_name": "FloatProgressModel",
      "state": {
       "_dom_classes": [],
       "_model_module": "@jupyter-widgets/controls",
       "_model_module_version": "1.5.0",
       "_model_name": "FloatProgressModel",
       "_view_count": null,
       "_view_module": "@jupyter-widgets/controls",
       "_view_module_version": "1.5.0",
       "_view_name": "ProgressView",
       "bar_style": "success",
       "description": "",
       "description_tooltip": null,
       "layout": "IPY_MODEL_924b0c5572ec498e821f133127197e80",
       "max": 10.0,
       "min": 0.0,
       "orientation": "horizontal",
       "style": "IPY_MODEL_eda51435e1af466c833fb35ad669e8f8",
       "value": 10.0
      }
     },
     "b2483c596c564e4c86eb91852f61298d": {
      "model_module": "@jupyter-widgets/controls",
      "model_module_version": "1.5.0",
      "model_name": "FloatProgressModel",
      "state": {
       "_dom_classes": [],
       "_model_module": "@jupyter-widgets/controls",
       "_model_module_version": "1.5.0",
       "_model_name": "FloatProgressModel",
       "_view_count": null,
       "_view_module": "@jupyter-widgets/controls",
       "_view_module_version": "1.5.0",
       "_view_name": "ProgressView",
       "bar_style": "success",
       "description": "",
       "description_tooltip": null,
       "layout": "IPY_MODEL_971ef441896b4b5b9fa662da0128a94e",
       "max": 10.0,
       "min": 0.0,
       "orientation": "horizontal",
       "style": "IPY_MODEL_1d62838f9b724eb7ba52fb855d19ffc0",
       "value": 10.0
      }
     },
     "b32333595fab4b26af643788e4859466": {
      "model_module": "@jupyter-widgets/controls",
      "model_module_version": "1.5.0",
      "model_name": "HBoxModel",
      "state": {
       "_dom_classes": [],
       "_model_module": "@jupyter-widgets/controls",
       "_model_module_version": "1.5.0",
       "_model_name": "HBoxModel",
       "_view_count": null,
       "_view_module": "@jupyter-widgets/controls",
       "_view_module_version": "1.5.0",
       "_view_name": "HBoxView",
       "box_style": "",
       "children": [
        "IPY_MODEL_eb5dcbbd30934dbd908bfdc606d2f010",
        "IPY_MODEL_b2483c596c564e4c86eb91852f61298d",
        "IPY_MODEL_b34ca87d97904f9e8c9c54d40734c1c6"
       ],
       "layout": "IPY_MODEL_7e8178e05b514eac9ccaba41e48237cf"
      }
     },
     "b34ca87d97904f9e8c9c54d40734c1c6": {
      "model_module": "@jupyter-widgets/controls",
      "model_module_version": "1.5.0",
      "model_name": "HTMLModel",
      "state": {
       "_dom_classes": [],
       "_model_module": "@jupyter-widgets/controls",
       "_model_module_version": "1.5.0",
       "_model_name": "HTMLModel",
       "_view_count": null,
       "_view_module": "@jupyter-widgets/controls",
       "_view_module_version": "1.5.0",
       "_view_name": "HTMLView",
       "description": "",
       "description_tooltip": null,
       "layout": "IPY_MODEL_6ea85ed58d2c4b1f9d894f6cc09e14fa",
       "placeholder": "​",
       "style": "IPY_MODEL_5c0ff8fb330e49e08a5284b928d09ff0",
       "value": " 10/10 [01:20&lt;00:00,  8.08s/it]"
      }
     },
     "ba5b9fb192f946288e6e4fe53c32b8e0": {
      "model_module": "@jupyter-widgets/controls",
      "model_module_version": "1.5.0",
      "model_name": "DescriptionStyleModel",
      "state": {
       "_model_module": "@jupyter-widgets/controls",
       "_model_module_version": "1.5.0",
       "_model_name": "DescriptionStyleModel",
       "_view_count": null,
       "_view_module": "@jupyter-widgets/base",
       "_view_module_version": "1.2.0",
       "_view_name": "StyleView",
       "description_width": ""
      }
     },
     "bfacf1a4e0944555a94fc6dc3bdd13ee": {
      "model_module": "@jupyter-widgets/base",
      "model_module_version": "1.2.0",
      "model_name": "LayoutModel",
      "state": {
       "_model_module": "@jupyter-widgets/base",
       "_model_module_version": "1.2.0",
       "_model_name": "LayoutModel",
       "_view_count": null,
       "_view_module": "@jupyter-widgets/base",
       "_view_module_version": "1.2.0",
       "_view_name": "LayoutView",
       "align_content": null,
       "align_items": null,
       "align_self": null,
       "border": null,
       "bottom": null,
       "display": null,
       "flex": null,
       "flex_flow": null,
       "grid_area": null,
       "grid_auto_columns": null,
       "grid_auto_flow": null,
       "grid_auto_rows": null,
       "grid_column": null,
       "grid_gap": null,
       "grid_row": null,
       "grid_template_areas": null,
       "grid_template_columns": null,
       "grid_template_rows": null,
       "height": null,
       "justify_content": null,
       "justify_items": null,
       "left": null,
       "margin": null,
       "max_height": null,
       "max_width": null,
       "min_height": null,
       "min_width": null,
       "object_fit": null,
       "object_position": null,
       "order": null,
       "overflow": null,
       "overflow_x": null,
       "overflow_y": null,
       "padding": null,
       "right": null,
       "top": null,
       "visibility": null,
       "width": null
      }
     },
     "cb1a61a1aba84332a8256def001f03e8": {
      "model_module": "@jupyter-widgets/controls",
      "model_module_version": "1.5.0",
      "model_name": "DescriptionStyleModel",
      "state": {
       "_model_module": "@jupyter-widgets/controls",
       "_model_module_version": "1.5.0",
       "_model_name": "DescriptionStyleModel",
       "_view_count": null,
       "_view_module": "@jupyter-widgets/base",
       "_view_module_version": "1.2.0",
       "_view_name": "StyleView",
       "description_width": ""
      }
     },
     "d193aa6d4785449bb33f2c2fb8db72f3": {
      "model_module": "@jupyter-widgets/base",
      "model_module_version": "1.2.0",
      "model_name": "LayoutModel",
      "state": {
       "_model_module": "@jupyter-widgets/base",
       "_model_module_version": "1.2.0",
       "_model_name": "LayoutModel",
       "_view_count": null,
       "_view_module": "@jupyter-widgets/base",
       "_view_module_version": "1.2.0",
       "_view_name": "LayoutView",
       "align_content": null,
       "align_items": null,
       "align_self": null,
       "border": null,
       "bottom": null,
       "display": null,
       "flex": null,
       "flex_flow": null,
       "grid_area": null,
       "grid_auto_columns": null,
       "grid_auto_flow": null,
       "grid_auto_rows": null,
       "grid_column": null,
       "grid_gap": null,
       "grid_row": null,
       "grid_template_areas": null,
       "grid_template_columns": null,
       "grid_template_rows": null,
       "height": null,
       "justify_content": null,
       "justify_items": null,
       "left": null,
       "margin": null,
       "max_height": null,
       "max_width": null,
       "min_height": null,
       "min_width": null,
       "object_fit": null,
       "object_position": null,
       "order": null,
       "overflow": null,
       "overflow_x": null,
       "overflow_y": null,
       "padding": null,
       "right": null,
       "top": null,
       "visibility": null,
       "width": null
      }
     },
     "de923a864ee848b6a9b41c996e5b4a6b": {
      "model_module": "@jupyter-widgets/controls",
      "model_module_version": "1.5.0",
      "model_name": "DescriptionStyleModel",
      "state": {
       "_model_module": "@jupyter-widgets/controls",
       "_model_module_version": "1.5.0",
       "_model_name": "DescriptionStyleModel",
       "_view_count": null,
       "_view_module": "@jupyter-widgets/base",
       "_view_module_version": "1.2.0",
       "_view_name": "StyleView",
       "description_width": ""
      }
     },
     "df283d312d484e0286c8831dbdbd9669": {
      "model_module": "@jupyter-widgets/controls",
      "model_module_version": "1.5.0",
      "model_name": "DescriptionStyleModel",
      "state": {
       "_model_module": "@jupyter-widgets/controls",
       "_model_module_version": "1.5.0",
       "_model_name": "DescriptionStyleModel",
       "_view_count": null,
       "_view_module": "@jupyter-widgets/base",
       "_view_module_version": "1.2.0",
       "_view_name": "StyleView",
       "description_width": ""
      }
     },
     "eb5dcbbd30934dbd908bfdc606d2f010": {
      "model_module": "@jupyter-widgets/controls",
      "model_module_version": "1.5.0",
      "model_name": "HTMLModel",
      "state": {
       "_dom_classes": [],
       "_model_module": "@jupyter-widgets/controls",
       "_model_module_version": "1.5.0",
       "_model_name": "HTMLModel",
       "_view_count": null,
       "_view_module": "@jupyter-widgets/controls",
       "_view_module_version": "1.5.0",
       "_view_name": "HTMLView",
       "description": "",
       "description_tooltip": null,
       "layout": "IPY_MODEL_821485abec2344ee9ed9a3e911b3e9ce",
       "placeholder": "​",
       "style": "IPY_MODEL_19fad9303ecc457fb051eaabd3944c0c",
       "value": "100%"
      }
     },
     "ecbcf8c1c3834a6da7dda967f9aa8282": {
      "model_module": "@jupyter-widgets/controls",
      "model_module_version": "1.5.0",
      "model_name": "DescriptionStyleModel",
      "state": {
       "_model_module": "@jupyter-widgets/controls",
       "_model_module_version": "1.5.0",
       "_model_name": "DescriptionStyleModel",
       "_view_count": null,
       "_view_module": "@jupyter-widgets/base",
       "_view_module_version": "1.2.0",
       "_view_name": "StyleView",
       "description_width": ""
      }
     },
     "eda51435e1af466c833fb35ad669e8f8": {
      "model_module": "@jupyter-widgets/controls",
      "model_module_version": "1.5.0",
      "model_name": "ProgressStyleModel",
      "state": {
       "_model_module": "@jupyter-widgets/controls",
       "_model_module_version": "1.5.0",
       "_model_name": "ProgressStyleModel",
       "_view_count": null,
       "_view_module": "@jupyter-widgets/base",
       "_view_module_version": "1.2.0",
       "_view_name": "StyleView",
       "bar_color": null,
       "description_width": ""
      }
     },
     "edb0591f01b040229d17534a70810a59": {
      "model_module": "@jupyter-widgets/controls",
      "model_module_version": "1.5.0",
      "model_name": "DescriptionStyleModel",
      "state": {
       "_model_module": "@jupyter-widgets/controls",
       "_model_module_version": "1.5.0",
       "_model_name": "DescriptionStyleModel",
       "_view_count": null,
       "_view_module": "@jupyter-widgets/base",
       "_view_module_version": "1.2.0",
       "_view_name": "StyleView",
       "description_width": ""
      }
     },
     "f7040463af46449e957a549bd8a724f7": {
      "model_module": "@jupyter-widgets/base",
      "model_module_version": "1.2.0",
      "model_name": "LayoutModel",
      "state": {
       "_model_module": "@jupyter-widgets/base",
       "_model_module_version": "1.2.0",
       "_model_name": "LayoutModel",
       "_view_count": null,
       "_view_module": "@jupyter-widgets/base",
       "_view_module_version": "1.2.0",
       "_view_name": "LayoutView",
       "align_content": null,
       "align_items": null,
       "align_self": null,
       "border": null,
       "bottom": null,
       "display": null,
       "flex": null,
       "flex_flow": null,
       "grid_area": null,
       "grid_auto_columns": null,
       "grid_auto_flow": null,
       "grid_auto_rows": null,
       "grid_column": null,
       "grid_gap": null,
       "grid_row": null,
       "grid_template_areas": null,
       "grid_template_columns": null,
       "grid_template_rows": null,
       "height": null,
       "justify_content": null,
       "justify_items": null,
       "left": null,
       "margin": null,
       "max_height": null,
       "max_width": null,
       "min_height": null,
       "min_width": null,
       "object_fit": null,
       "object_position": null,
       "order": null,
       "overflow": null,
       "overflow_x": null,
       "overflow_y": null,
       "padding": null,
       "right": null,
       "top": null,
       "visibility": null,
       "width": null
      }
     },
     "fdc84c32f3b54da49ed1f73bdfb3f3fe": {
      "model_module": "@jupyter-widgets/controls",
      "model_module_version": "1.5.0",
      "model_name": "HTMLModel",
      "state": {
       "_dom_classes": [],
       "_model_module": "@jupyter-widgets/controls",
       "_model_module_version": "1.5.0",
       "_model_name": "HTMLModel",
       "_view_count": null,
       "_view_module": "@jupyter-widgets/controls",
       "_view_module_version": "1.5.0",
       "_view_name": "HTMLView",
       "description": "",
       "description_tooltip": null,
       "layout": "IPY_MODEL_a969160ab30848dda29b840311016638",
       "placeholder": "​",
       "style": "IPY_MODEL_ecbcf8c1c3834a6da7dda967f9aa8282",
       "value": " 10/10 [02:42&lt;00:00, 16.35s/it]"
      }
     }
    },
    "version_major": 2,
    "version_minor": 0
   }
  }
 },
 "nbformat": 4,
 "nbformat_minor": 5
}
