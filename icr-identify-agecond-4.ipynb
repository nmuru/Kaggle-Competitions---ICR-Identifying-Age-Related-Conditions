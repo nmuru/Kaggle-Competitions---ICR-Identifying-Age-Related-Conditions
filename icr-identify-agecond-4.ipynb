{
 "cells": [
  {
   "cell_type": "code",
   "execution_count": 1,
   "id": "994748f1",
   "metadata": {
    "execution": {
     "iopub.execute_input": "2023-07-07T14:28:20.693069Z",
     "iopub.status.busy": "2023-07-07T14:28:20.692363Z",
     "iopub.status.idle": "2023-07-07T14:28:38.430993Z",
     "shell.execute_reply": "2023-07-07T14:28:38.428978Z"
    },
    "papermill": {
     "duration": 17.758682,
     "end_time": "2023-07-07T14:28:38.434664",
     "exception": false,
     "start_time": "2023-07-07T14:28:20.675982",
     "status": "completed"
    },
    "tags": []
   },
   "outputs": [
    {
     "name": "stdout",
     "output_type": "stream",
     "text": [
      "Looking in links: file:///kaggle/input/pip-packages-icr/pip-packages\r\n",
      "Processing /kaggle/input/pip-packages-icr/pip-packages/tabpfn-0.1.9-py3-none-any.whl\r\n",
      "Requirement already satisfied: numpy>=1.21.2 in /opt/conda/lib/python3.10/site-packages (from tabpfn) (1.23.5)\r\n",
      "Requirement already satisfied: pyyaml>=5.4.1 in /opt/conda/lib/python3.10/site-packages (from tabpfn) (5.4.1)\r\n",
      "Requirement already satisfied: requests>=2.23.0 in /opt/conda/lib/python3.10/site-packages (from tabpfn) (2.28.2)\r\n",
      "Requirement already satisfied: scikit-learn>=0.24.2 in /opt/conda/lib/python3.10/site-packages (from tabpfn) (1.2.2)\r\n",
      "Requirement already satisfied: torch>=1.9.0 in /opt/conda/lib/python3.10/site-packages (from tabpfn) (2.0.0+cpu)\r\n",
      "Requirement already satisfied: charset-normalizer<4,>=2 in /opt/conda/lib/python3.10/site-packages (from requests>=2.23.0->tabpfn) (2.1.1)\r\n",
      "Requirement already satisfied: idna<4,>=2.5 in /opt/conda/lib/python3.10/site-packages (from requests>=2.23.0->tabpfn) (3.4)\r\n",
      "Requirement already satisfied: urllib3<1.27,>=1.21.1 in /opt/conda/lib/python3.10/site-packages (from requests>=2.23.0->tabpfn) (1.26.15)\r\n",
      "Requirement already satisfied: certifi>=2017.4.17 in /opt/conda/lib/python3.10/site-packages (from requests>=2.23.0->tabpfn) (2023.5.7)\r\n",
      "Requirement already satisfied: scipy>=1.3.2 in /opt/conda/lib/python3.10/site-packages (from scikit-learn>=0.24.2->tabpfn) (1.10.1)\r\n",
      "Requirement already satisfied: joblib>=1.1.1 in /opt/conda/lib/python3.10/site-packages (from scikit-learn>=0.24.2->tabpfn) (1.2.0)\r\n",
      "Requirement already satisfied: threadpoolctl>=2.0.0 in /opt/conda/lib/python3.10/site-packages (from scikit-learn>=0.24.2->tabpfn) (3.1.0)\r\n",
      "Requirement already satisfied: filelock in /opt/conda/lib/python3.10/site-packages (from torch>=1.9.0->tabpfn) (3.12.0)\r\n",
      "Requirement already satisfied: typing-extensions in /opt/conda/lib/python3.10/site-packages (from torch>=1.9.0->tabpfn) (4.5.0)\r\n",
      "Requirement already satisfied: sympy in /opt/conda/lib/python3.10/site-packages (from torch>=1.9.0->tabpfn) (1.12)\r\n",
      "Requirement already satisfied: networkx in /opt/conda/lib/python3.10/site-packages (from torch>=1.9.0->tabpfn) (3.1)\r\n",
      "Requirement already satisfied: jinja2 in /opt/conda/lib/python3.10/site-packages (from torch>=1.9.0->tabpfn) (3.1.2)\r\n",
      "Requirement already satisfied: MarkupSafe>=2.0 in /opt/conda/lib/python3.10/site-packages (from jinja2->torch>=1.9.0->tabpfn) (2.1.2)\r\n",
      "Requirement already satisfied: mpmath>=0.19 in /opt/conda/lib/python3.10/site-packages (from sympy->torch>=1.9.0->tabpfn) (1.3.0)\r\n",
      "Installing collected packages: tabpfn\r\n",
      "Successfully installed tabpfn-0.1.9\r\n",
      "\u001b[33mWARNING: Running pip as the 'root' user can result in broken permissions and conflicting behaviour with the system package manager. It is recommended to use a virtual environment instead: https://pip.pypa.io/warnings/venv\u001b[0m\u001b[33m\r\n",
      "\u001b[0m"
     ]
    }
   ],
   "source": [
    "!pip install tabpfn --no-index --find-links=file:///kaggle/input/pip-packages-icr/pip-packages\n",
    "!mkdir -p /opt/conda/lib/python3.10/site-packages/tabpfn/models_diff\n",
    "!cp /kaggle/input/pip-packages-icr/pip-packages/prior_diff_real_checkpoint_n_0_epoch_100.cpkt /opt/conda/lib/python3.10/site-packages/tabpfn/models_diff/"
   ]
  },
  {
   "cell_type": "code",
   "execution_count": 2,
   "id": "1fca5538",
   "metadata": {
    "_cell_guid": "b1076dfc-b9ad-4769-8c92-a6c4dae69d19",
    "_uuid": "8f2839f25d086af736a60e9eeb907d3b93b6e0e5",
    "execution": {
     "iopub.execute_input": "2023-07-07T14:28:38.465127Z",
     "iopub.status.busy": "2023-07-07T14:28:38.464671Z",
     "iopub.status.idle": "2023-07-07T14:28:45.271257Z",
     "shell.execute_reply": "2023-07-07T14:28:45.270169Z"
    },
    "papermill": {
     "duration": 6.825288,
     "end_time": "2023-07-07T14:28:45.274232",
     "exception": false,
     "start_time": "2023-07-07T14:28:38.448944",
     "status": "completed"
    },
    "tags": []
   },
   "outputs": [],
   "source": [
    "import numpy as np\n",
    "import pandas as pd\n",
    "from sklearn.preprocessing import LabelEncoder,normalize\n",
    "from sklearn.ensemble import GradientBoostingClassifier,RandomForestClassifier\n",
    "from sklearn.metrics import accuracy_score\n",
    "from sklearn.impute import SimpleImputer\n",
    "import imblearn\n",
    "from imblearn.over_sampling import RandomOverSampler\n",
    "from imblearn.under_sampling import RandomUnderSampler\n",
    "import xgboost\n",
    "import inspect\n",
    "from collections import defaultdict\n",
    "from tabpfn import TabPFNClassifier\n",
    "from catboost import CatBoostClassifier\n",
    "import warnings\n",
    "warnings.filterwarnings('ignore')"
   ]
  },
  {
   "cell_type": "code",
   "execution_count": 3,
   "id": "95376896",
   "metadata": {
    "execution": {
     "iopub.execute_input": "2023-07-07T14:28:45.306590Z",
     "iopub.status.busy": "2023-07-07T14:28:45.305016Z",
     "iopub.status.idle": "2023-07-07T14:28:45.312489Z",
     "shell.execute_reply": "2023-07-07T14:28:45.310837Z"
    },
    "papermill": {
     "duration": 0.025241,
     "end_time": "2023-07-07T14:28:45.315336",
     "exception": false,
     "start_time": "2023-07-07T14:28:45.290095",
     "status": "completed"
    },
    "tags": []
   },
   "outputs": [],
   "source": [
    "from numpy.random import seed\n",
    "seed(1123) \n",
    "import random as pyrandom\n",
    "pyrandom.seed(1123)"
   ]
  },
  {
   "cell_type": "code",
   "execution_count": 4,
   "id": "0a3e46c0",
   "metadata": {
    "execution": {
     "iopub.execute_input": "2023-07-07T14:28:45.344247Z",
     "iopub.status.busy": "2023-07-07T14:28:45.343726Z",
     "iopub.status.idle": "2023-07-07T14:28:45.420474Z",
     "shell.execute_reply": "2023-07-07T14:28:45.419006Z"
    },
    "papermill": {
     "duration": 0.094705,
     "end_time": "2023-07-07T14:28:45.423364",
     "exception": false,
     "start_time": "2023-07-07T14:28:45.328659",
     "status": "completed"
    },
    "tags": []
   },
   "outputs": [],
   "source": [
    "train = pd.read_csv('/kaggle/input/icr-identify-age-related-conditions/train.csv')\n",
    "test = pd.read_csv('/kaggle/input/icr-identify-age-related-conditions/test.csv')\n",
    "sample = pd.read_csv('/kaggle/input/icr-identify-age-related-conditions/sample_submission.csv')\n",
    "greeks = pd.read_csv('/kaggle/input/icr-identify-age-related-conditions/greeks.csv')"
   ]
  },
  {
   "cell_type": "code",
   "execution_count": 5,
   "id": "ec6704fc",
   "metadata": {
    "execution": {
     "iopub.execute_input": "2023-07-07T14:28:45.452555Z",
     "iopub.status.busy": "2023-07-07T14:28:45.452137Z",
     "iopub.status.idle": "2023-07-07T14:28:45.457595Z",
     "shell.execute_reply": "2023-07-07T14:28:45.456208Z"
    },
    "papermill": {
     "duration": 0.022753,
     "end_time": "2023-07-07T14:28:45.460078",
     "exception": false,
     "start_time": "2023-07-07T14:28:45.437325",
     "status": "completed"
    },
    "tags": []
   },
   "outputs": [],
   "source": [
    "# train = trainx.sample(frac=0.9)\n",
    "# tr_test = trainx[~trainx.index.isin(train.index)]"
   ]
  },
  {
   "cell_type": "code",
   "execution_count": 6,
   "id": "bfdda268",
   "metadata": {
    "execution": {
     "iopub.execute_input": "2023-07-07T14:28:45.491353Z",
     "iopub.status.busy": "2023-07-07T14:28:45.490949Z",
     "iopub.status.idle": "2023-07-07T14:28:45.496549Z",
     "shell.execute_reply": "2023-07-07T14:28:45.495214Z"
    },
    "papermill": {
     "duration": 0.024363,
     "end_time": "2023-07-07T14:28:45.499065",
     "exception": false,
     "start_time": "2023-07-07T14:28:45.474702",
     "status": "completed"
    },
    "tags": []
   },
   "outputs": [],
   "source": [
    "# lb = LabelEncoder()\n",
    "# train['EJ'] = lb.fit_transform(train['EJ']).astype(float)\n",
    "# test['EJ'] = lb.fit_transform(test['EJ']).astype(float)"
   ]
  },
  {
   "cell_type": "code",
   "execution_count": 7,
   "id": "766060e0",
   "metadata": {
    "execution": {
     "iopub.execute_input": "2023-07-07T14:28:45.527770Z",
     "iopub.status.busy": "2023-07-07T14:28:45.527379Z",
     "iopub.status.idle": "2023-07-07T14:28:45.545692Z",
     "shell.execute_reply": "2023-07-07T14:28:45.544442Z"
    },
    "papermill": {
     "duration": 0.035708,
     "end_time": "2023-07-07T14:28:45.548217",
     "exception": false,
     "start_time": "2023-07-07T14:28:45.512509",
     "status": "completed"
    },
    "tags": []
   },
   "outputs": [],
   "source": [
    "first_category = train.EJ.unique()[0]\n",
    "train.EJ = train.EJ.eq(first_category).astype('int')\n",
    "test.EJ = test.EJ.eq(first_category).astype('int')"
   ]
  },
  {
   "cell_type": "code",
   "execution_count": 8,
   "id": "d0dd4341",
   "metadata": {
    "execution": {
     "iopub.execute_input": "2023-07-07T14:28:45.576454Z",
     "iopub.status.busy": "2023-07-07T14:28:45.575995Z",
     "iopub.status.idle": "2023-07-07T14:28:45.586207Z",
     "shell.execute_reply": "2023-07-07T14:28:45.584006Z"
    },
    "papermill": {
     "duration": 0.029912,
     "end_time": "2023-07-07T14:28:45.591089",
     "exception": false,
     "start_time": "2023-07-07T14:28:45.561177",
     "status": "completed"
    },
    "tags": []
   },
   "outputs": [],
   "source": [
    "def random_under_sampler(df):\n",
    "    # Calculate the number of samples for each label. \n",
    "    neg, pos = np.bincount(df['Class'])\n",
    "\n",
    "    # Choose the samples with class label `1`.\n",
    "    one_df = df.loc[df['Class'] == 1] \n",
    "    # Choose the samples with class label `0`.\n",
    "    zero_df = df.loc[df['Class'] == 0]\n",
    "    # Select `pos` number of negative samples.\n",
    "    # This makes sure that we have equal number of samples for each label.\n",
    "    zero_df = zero_df.sample(n=pos)\n",
    "\n",
    "    # Join both label dataframes.\n",
    "    undersampled_df = pd.concat([zero_df, one_df])\n",
    "\n",
    "    # Shuffle the data and return\n",
    "    return undersampled_df.sample(frac = 1)"
   ]
  },
  {
   "cell_type": "code",
   "execution_count": 9,
   "id": "65164267",
   "metadata": {
    "execution": {
     "iopub.execute_input": "2023-07-07T14:28:45.623627Z",
     "iopub.status.busy": "2023-07-07T14:28:45.623030Z",
     "iopub.status.idle": "2023-07-07T14:28:45.631901Z",
     "shell.execute_reply": "2023-07-07T14:28:45.630216Z"
    },
    "papermill": {
     "duration": 0.030362,
     "end_time": "2023-07-07T14:28:45.636109",
     "exception": false,
     "start_time": "2023-07-07T14:28:45.605747",
     "status": "completed"
    },
    "tags": []
   },
   "outputs": [],
   "source": [
    "# train_good = random_under_sampler(train)"
   ]
  },
  {
   "cell_type": "code",
   "execution_count": 10,
   "id": "feebf9da",
   "metadata": {
    "execution": {
     "iopub.execute_input": "2023-07-07T14:28:45.675948Z",
     "iopub.status.busy": "2023-07-07T14:28:45.674838Z",
     "iopub.status.idle": "2023-07-07T14:28:45.680668Z",
     "shell.execute_reply": "2023-07-07T14:28:45.679787Z"
    },
    "papermill": {
     "duration": 0.029864,
     "end_time": "2023-07-07T14:28:45.683038",
     "exception": false,
     "start_time": "2023-07-07T14:28:45.653174",
     "status": "completed"
    },
    "tags": []
   },
   "outputs": [],
   "source": [
    "# train_good.shape"
   ]
  },
  {
   "cell_type": "code",
   "execution_count": 11,
   "id": "05838fb4",
   "metadata": {
    "execution": {
     "iopub.execute_input": "2023-07-07T14:28:45.714126Z",
     "iopub.status.busy": "2023-07-07T14:28:45.713678Z",
     "iopub.status.idle": "2023-07-07T14:28:45.730746Z",
     "shell.execute_reply": "2023-07-07T14:28:45.729213Z"
    },
    "papermill": {
     "duration": 0.035272,
     "end_time": "2023-07-07T14:28:45.733430",
     "exception": false,
     "start_time": "2023-07-07T14:28:45.698158",
     "status": "completed"
    },
    "tags": []
   },
   "outputs": [],
   "source": [
    "predictor_columns = [n for n in train.columns if n != 'Class' and n != 'Id']\n",
    "x= train[predictor_columns]\n",
    "y = train['Class']"
   ]
  },
  {
   "cell_type": "code",
   "execution_count": 12,
   "id": "ef153489",
   "metadata": {
    "execution": {
     "iopub.execute_input": "2023-07-07T14:28:45.761934Z",
     "iopub.status.busy": "2023-07-07T14:28:45.761505Z",
     "iopub.status.idle": "2023-07-07T14:28:45.766843Z",
     "shell.execute_reply": "2023-07-07T14:28:45.765679Z"
    },
    "papermill": {
     "duration": 0.022635,
     "end_time": "2023-07-07T14:28:45.769353",
     "exception": false,
     "start_time": "2023-07-07T14:28:45.746718",
     "status": "completed"
    },
    "tags": []
   },
   "outputs": [],
   "source": [
    "# x_norm = np.array(x_norm)\n",
    "# y_ros = np.array(y_ros)"
   ]
  },
  {
   "cell_type": "code",
   "execution_count": 13,
   "id": "0cad4206",
   "metadata": {
    "execution": {
     "iopub.execute_input": "2023-07-07T14:28:45.798140Z",
     "iopub.status.busy": "2023-07-07T14:28:45.797689Z",
     "iopub.status.idle": "2023-07-07T14:28:45.804565Z",
     "shell.execute_reply": "2023-07-07T14:28:45.803291Z"
    },
    "papermill": {
     "duration": 0.024284,
     "end_time": "2023-07-07T14:28:45.807069",
     "exception": false,
     "start_time": "2023-07-07T14:28:45.782785",
     "status": "completed"
    },
    "tags": []
   },
   "outputs": [],
   "source": [
    "from sklearn.model_selection import KFold as KF, GridSearchCV\n",
    "cv_outer = KF(n_splits = 10, shuffle=True, random_state=42)\n",
    "cv_inner = KF(n_splits = 5, shuffle=True, random_state=42)"
   ]
  },
  {
   "cell_type": "code",
   "execution_count": 14,
   "id": "9e4d4e97",
   "metadata": {
    "execution": {
     "iopub.execute_input": "2023-07-07T14:28:45.835606Z",
     "iopub.status.busy": "2023-07-07T14:28:45.835161Z",
     "iopub.status.idle": "2023-07-07T14:28:45.845956Z",
     "shell.execute_reply": "2023-07-07T14:28:45.844620Z"
    },
    "papermill": {
     "duration": 0.027979,
     "end_time": "2023-07-07T14:28:45.848446",
     "exception": false,
     "start_time": "2023-07-07T14:28:45.820467",
     "status": "completed"
    },
    "tags": []
   },
   "outputs": [],
   "source": [
    "def balanced_log_loss(y_true, y_pred):\n",
    "    # y_true: correct labels 0, 1\n",
    "    # y_pred: predicted probabilities of class=1\n",
    "    # calculate the number of observations for each class\n",
    "    N_0 = np.sum(1 - y_true)\n",
    "    N_1 = np.sum(y_true)\n",
    "    # calculate the weights for each class to balance classes\n",
    "    w_0 = 1 / N_0\n",
    "    w_1 = 1 / N_1\n",
    "    # calculate the predicted probabilities for each class\n",
    "    p_1 = np.clip(y_pred, 1e-15, 1 - 1e-15)\n",
    "    p_0 = 1 - p_1\n",
    "    # calculate the summed log loss for each class\n",
    "    log_loss_0 = -np.sum((1 - y_true) * np.log(p_0))\n",
    "    log_loss_1 = -np.sum(y_true * np.log(p_1))\n",
    "    # calculate the weighted summed logarithmic loss\n",
    "    # (factgor of 2 included to give same result as LL with balanced input)\n",
    "    balanced_log_loss = 2*(w_0 * log_loss_0 + w_1 * log_loss_1) / (w_0 + w_1)\n",
    "    # return the average log loss\n",
    "    return balanced_log_loss/(N_0+N_1)"
   ]
  },
  {
   "cell_type": "code",
   "execution_count": 15,
   "id": "a949747b",
   "metadata": {
    "execution": {
     "iopub.execute_input": "2023-07-07T14:28:45.877125Z",
     "iopub.status.busy": "2023-07-07T14:28:45.876654Z",
     "iopub.status.idle": "2023-07-07T14:28:45.894540Z",
     "shell.execute_reply": "2023-07-07T14:28:45.893545Z"
    },
    "papermill": {
     "duration": 0.035562,
     "end_time": "2023-07-07T14:28:45.897051",
     "exception": false,
     "start_time": "2023-07-07T14:28:45.861489",
     "status": "completed"
    },
    "tags": []
   },
   "outputs": [],
   "source": [
    "class Ensemble():\n",
    "    def __init__(self):\n",
    "        self.imputer1 = SimpleImputer(missing_values=np.nan, strategy='median')\n",
    "        self.imputer2 = SimpleImputer(missing_values=np.nan, strategy='median')\n",
    "#         self.classifiers =[xgboost.XGBClassifier(),CatBoostClassifier(verbose=False),TabPFNClassifier(N_ensemble_configurations=64)]\n",
    "    \n",
    "        self.classifiers =[xgboost.XGBClassifier(n_estimators=100,max_depth=3,learning_rate=0.2,subsample=0.9,colsample_bytree=0.85),\n",
    "                           xgboost.XGBClassifier(),TabPFNClassifier(N_ensemble_configurations=24),\n",
    "                           TabPFNClassifier(N_ensemble_configurations=64),CatBoostClassifier(verbose=False)]\n",
    "    def fit(self,X,y):\n",
    "        y = y.values\n",
    "        unique_classes, y = np.unique(y, return_inverse=True)\n",
    "        self.classes_ = unique_classes\n",
    "        first_category = X.EJ.unique()[0]\n",
    "        X.EJ = X.EJ.eq(first_category).astype('int')\n",
    "        X2 = self.imputer1.fit_transform(X)\n",
    "        X[cols] = self.imputer2.fit_transform(X[cols])\n",
    "        \n",
    "#         X = normalize(X,axis=0)\n",
    "        for classifier in self.classifiers:\n",
    "            if classifier==self.classifiers[2] or classifier==self.classifiers[3]:\n",
    "                classifier.fit(X2,y,overwrite_warning =True)\n",
    "            else :\n",
    "                classifier.fit(X, y)\n",
    "     \n",
    "    def predict_proba(self, x):\n",
    "        x2 = self.imputer1.transform(x) \n",
    "        x[cols] = self.imputer2.transform(x[cols])\n",
    "        \n",
    "        \n",
    "        probabilities = []\n",
    "        for classifier in self.classifiers:\n",
    "            if classifier == self.classifiers[2] or classifier == self.classifiers[3]:\n",
    "                prob = classifier.predict_proba(x2)\n",
    "            else:\n",
    "                prob = classifier.predict_proba(x)\n",
    "            probabilities.append(prob)\n",
    "        probabilities = np.stack(probabilities)       \n",
    "        \n",
    "#         probabilities = np.stack([classifier.predict_proba(x1) for classifier in self.classifiers \n",
    "#                                   if classifier==self.classifiers[2] or classifier==self.classifiers[3] \n",
    "#                                   else classifier.predict_proba(x2)])\n",
    "    \n",
    "        averaged_probabilities = np.mean(probabilities, axis=0)\n",
    "        class_0_est_instances = averaged_probabilities[:, 0].sum()\n",
    "        others_est_instances = averaged_probabilities[:, 1:].sum()\n",
    "        # Weighted probabilities based on class imbalance\n",
    "        new_probabilities = averaged_probabilities * np.array([[1/(class_0_est_instances if i==0 else others_est_instances) for i in range(averaged_probabilities.shape[1])]])\n",
    "        return new_probabilities / np.sum(new_probabilities, axis=1, keepdims=1) "
   ]
  },
  {
   "cell_type": "code",
   "execution_count": 16,
   "id": "ad3f8c40",
   "metadata": {
    "execution": {
     "iopub.execute_input": "2023-07-07T14:28:45.926608Z",
     "iopub.status.busy": "2023-07-07T14:28:45.926080Z",
     "iopub.status.idle": "2023-07-07T14:28:45.934106Z",
     "shell.execute_reply": "2023-07-07T14:28:45.932792Z"
    },
    "papermill": {
     "duration": 0.026631,
     "end_time": "2023-07-07T14:28:45.936808",
     "exception": false,
     "start_time": "2023-07-07T14:28:45.910177",
     "status": "completed"
    },
    "tags": []
   },
   "outputs": [],
   "source": [
    "from tqdm.notebook import tqdm"
   ]
  },
  {
   "cell_type": "code",
   "execution_count": 17,
   "id": "864bfe11",
   "metadata": {
    "execution": {
     "iopub.execute_input": "2023-07-07T14:28:45.965170Z",
     "iopub.status.busy": "2023-07-07T14:28:45.964743Z",
     "iopub.status.idle": "2023-07-07T14:28:45.978270Z",
     "shell.execute_reply": "2023-07-07T14:28:45.977006Z"
    },
    "papermill": {
     "duration": 0.031039,
     "end_time": "2023-07-07T14:28:45.980912",
     "exception": false,
     "start_time": "2023-07-07T14:28:45.949873",
     "status": "completed"
    },
    "tags": []
   },
   "outputs": [],
   "source": [
    "def training(model, x,y,y_meta):\n",
    "    outer_results = list()\n",
    "    best_loss = np.inf\n",
    "    split = 0\n",
    "    splits = 5\n",
    "    for train_idx,val_idx in tqdm(cv_inner.split(x), total = splits):\n",
    "        split+=1\n",
    "        x_train, x_val = x.iloc[train_idx],x.iloc[val_idx]\n",
    "        y_train, y_val = y_meta.iloc[train_idx], y.iloc[val_idx]\n",
    "                \n",
    "        model.fit(x_train, y_train)\n",
    "        y_pred = model.predict_proba(x_val)\n",
    "        probabilities = np.concatenate((y_pred[:,:1], np.sum(y_pred[:,1:], 1, keepdims=True)), axis=1)\n",
    "        p0 = probabilities[:,:1]\n",
    "        p0[p0 > 0.86] = 1\n",
    "        p0[p0 < 0.14] = 0\n",
    "        y_p = np.empty((y_pred.shape[0],))\n",
    "        for i in range(y_pred.shape[0]):\n",
    "            if p0[i]>=0.5:\n",
    "                y_p[i]= False\n",
    "            else :\n",
    "                y_p[i]=True\n",
    "        y_p = y_p.astype(int)\n",
    "        loss = balanced_log_loss(y_val,y_p)\n",
    "\n",
    "        if loss<best_loss:\n",
    "            best_model = model\n",
    "            best_loss = loss\n",
    "            print('best_model_saved')\n",
    "        outer_results.append(loss)\n",
    "        print('>val_loss=%.5f, split = %.1f' % (loss,split))\n",
    "    print('LOSS: %.5f' % (np.mean(outer_results)))\n",
    "    return best_model\n",
    "    "
   ]
  },
  {
   "cell_type": "code",
   "execution_count": 18,
   "id": "974d5303",
   "metadata": {
    "execution": {
     "iopub.execute_input": "2023-07-07T14:28:46.008911Z",
     "iopub.status.busy": "2023-07-07T14:28:46.008501Z",
     "iopub.status.idle": "2023-07-07T14:28:46.034169Z",
     "shell.execute_reply": "2023-07-07T14:28:46.032868Z"
    },
    "papermill": {
     "duration": 0.042621,
     "end_time": "2023-07-07T14:28:46.036614",
     "exception": false,
     "start_time": "2023-07-07T14:28:45.993993",
     "status": "completed"
    },
    "tags": []
   },
   "outputs": [],
   "source": [
    "from datetime import datetime\n",
    "times = greeks.Epsilon.copy()\n",
    "times[greeks.Epsilon != 'Unknown'] = greeks.Epsilon[greeks.Epsilon != 'Unknown'].map(lambda x: datetime.strptime(x,'%m/%d/%Y').toordinal())\n",
    "times[greeks.Epsilon == 'Unknown'] = np.nan"
   ]
  },
  {
   "cell_type": "code",
   "execution_count": 19,
   "id": "86bcdfb0",
   "metadata": {
    "execution": {
     "iopub.execute_input": "2023-07-07T14:28:46.065255Z",
     "iopub.status.busy": "2023-07-07T14:28:46.064755Z",
     "iopub.status.idle": "2023-07-07T14:28:46.080984Z",
     "shell.execute_reply": "2023-07-07T14:28:46.080046Z"
    },
    "papermill": {
     "duration": 0.033359,
     "end_time": "2023-07-07T14:28:46.083174",
     "exception": false,
     "start_time": "2023-07-07T14:28:46.049815",
     "status": "completed"
    },
    "tags": []
   },
   "outputs": [],
   "source": [
    "train_pred_and_time = pd.concat((train, times), axis=1)\n",
    "test_predictors = test[predictor_columns]\n",
    "first_category = test_predictors.EJ.unique()[0]\n",
    "test_predictors.EJ = test_predictors.EJ.eq(first_category).astype('int')\n",
    "test_pred_and_time = np.concatenate((test_predictors, np.zeros((len(test_predictors), 1)) + train_pred_and_time.Epsilon.max() + 1), axis=1)"
   ]
  },
  {
   "cell_type": "code",
   "execution_count": 20,
   "id": "baad0ee6",
   "metadata": {
    "execution": {
     "iopub.execute_input": "2023-07-07T14:28:46.112585Z",
     "iopub.status.busy": "2023-07-07T14:28:46.111467Z",
     "iopub.status.idle": "2023-07-07T14:28:46.117093Z",
     "shell.execute_reply": "2023-07-07T14:28:46.115977Z"
    },
    "papermill": {
     "duration": 0.023793,
     "end_time": "2023-07-07T14:28:46.120076",
     "exception": false,
     "start_time": "2023-07-07T14:28:46.096283",
     "status": "completed"
    },
    "tags": []
   },
   "outputs": [],
   "source": [
    "cols = train_pred_and_time.columns.tolist()\n",
    "# cols"
   ]
  },
  {
   "cell_type": "code",
   "execution_count": 21,
   "id": "033bd150",
   "metadata": {
    "execution": {
     "iopub.execute_input": "2023-07-07T14:28:46.149461Z",
     "iopub.status.busy": "2023-07-07T14:28:46.149013Z",
     "iopub.status.idle": "2023-07-07T14:28:46.153896Z",
     "shell.execute_reply": "2023-07-07T14:28:46.152729Z"
    },
    "papermill": {
     "duration": 0.022713,
     "end_time": "2023-07-07T14:28:46.156268",
     "exception": false,
     "start_time": "2023-07-07T14:28:46.133555",
     "status": "completed"
    },
    "tags": []
   },
   "outputs": [],
   "source": [
    "cols.remove('BQ')\n",
    "cols.remove('EL')"
   ]
  },
  {
   "cell_type": "code",
   "execution_count": 22,
   "id": "ed0c036b",
   "metadata": {
    "execution": {
     "iopub.execute_input": "2023-07-07T14:28:46.187801Z",
     "iopub.status.busy": "2023-07-07T14:28:46.187361Z",
     "iopub.status.idle": "2023-07-07T14:28:46.192875Z",
     "shell.execute_reply": "2023-07-07T14:28:46.191658Z"
    },
    "papermill": {
     "duration": 0.024101,
     "end_time": "2023-07-07T14:28:46.195312",
     "exception": false,
     "start_time": "2023-07-07T14:28:46.171211",
     "status": "completed"
    },
    "tags": []
   },
   "outputs": [],
   "source": [
    "cols.remove('Id')\n",
    "cols.remove('Class')"
   ]
  },
  {
   "cell_type": "code",
   "execution_count": 23,
   "id": "357ed34d",
   "metadata": {
    "execution": {
     "iopub.execute_input": "2023-07-07T14:28:46.226705Z",
     "iopub.status.busy": "2023-07-07T14:28:46.225407Z",
     "iopub.status.idle": "2023-07-07T14:28:46.269818Z",
     "shell.execute_reply": "2023-07-07T14:28:46.268175Z"
    },
    "papermill": {
     "duration": 0.063456,
     "end_time": "2023-07-07T14:28:46.272391",
     "exception": false,
     "start_time": "2023-07-07T14:28:46.208935",
     "status": "completed"
    },
    "tags": []
   },
   "outputs": [
    {
     "name": "stdout",
     "output_type": "stream",
     "text": [
      "Original dataset shape\n",
      "A    509\n",
      "B     61\n",
      "G     29\n",
      "D     18\n",
      "Name: Alpha, dtype: int64\n",
      "Resample dataset shape\n",
      "B    509\n",
      "A    509\n",
      "D    509\n",
      "G    509\n",
      "Name: Alpha, dtype: int64\n"
     ]
    }
   ],
   "source": [
    "ros = RandomOverSampler(random_state=42)\n",
    "\n",
    "train_ros, y_ros = ros.fit_resample(train_pred_and_time, greeks.Alpha)\n",
    "print('Original dataset shape')\n",
    "print(greeks.Alpha.value_counts())\n",
    "print('Resample dataset shape')\n",
    "print( y_ros.value_counts())"
   ]
  },
  {
   "cell_type": "code",
   "execution_count": 24,
   "id": "7a4f22e9",
   "metadata": {
    "execution": {
     "iopub.execute_input": "2023-07-07T14:28:46.301363Z",
     "iopub.status.busy": "2023-07-07T14:28:46.300582Z",
     "iopub.status.idle": "2023-07-07T14:28:46.310464Z",
     "shell.execute_reply": "2023-07-07T14:28:46.309292Z"
    },
    "papermill": {
     "duration": 0.027179,
     "end_time": "2023-07-07T14:28:46.312740",
     "exception": false,
     "start_time": "2023-07-07T14:28:46.285561",
     "status": "completed"
    },
    "tags": []
   },
   "outputs": [],
   "source": [
    "x_ros = train_ros.drop(['Class', 'Id'],axis=1)\n",
    "y_ = train_ros.Class"
   ]
  },
  {
   "cell_type": "code",
   "execution_count": 25,
   "id": "1528d326",
   "metadata": {
    "execution": {
     "iopub.execute_input": "2023-07-07T14:28:46.341917Z",
     "iopub.status.busy": "2023-07-07T14:28:46.341502Z",
     "iopub.status.idle": "2023-07-07T14:28:47.782131Z",
     "shell.execute_reply": "2023-07-07T14:28:47.781029Z"
    },
    "papermill": {
     "duration": 1.458965,
     "end_time": "2023-07-07T14:28:47.785155",
     "exception": false,
     "start_time": "2023-07-07T14:28:46.326190",
     "status": "completed"
    },
    "tags": []
   },
   "outputs": [
    {
     "name": "stdout",
     "output_type": "stream",
     "text": [
      "Loading model that can be used for inference only\n",
      "Using a Transformer with 25.82 M parameters\n",
      "Loading model that can be used for inference only\n",
      "Using a Transformer with 25.82 M parameters\n"
     ]
    }
   ],
   "source": [
    "yt = Ensemble()"
   ]
  },
  {
   "cell_type": "code",
   "execution_count": 26,
   "id": "805e193d",
   "metadata": {
    "execution": {
     "iopub.execute_input": "2023-07-07T14:28:47.818165Z",
     "iopub.status.busy": "2023-07-07T14:28:47.817327Z",
     "iopub.status.idle": "2023-07-07T14:54:40.592826Z",
     "shell.execute_reply": "2023-07-07T14:54:40.591261Z"
    },
    "papermill": {
     "duration": 1552.813654,
     "end_time": "2023-07-07T14:54:40.613487",
     "exception": false,
     "start_time": "2023-07-07T14:28:47.799833",
     "status": "completed"
    },
    "tags": []
   },
   "outputs": [
    {
     "data": {
      "application/vnd.jupyter.widget-view+json": {
       "model_id": "25be53d8dd474e3e9ffa91ef3066250a",
       "version_major": 2,
       "version_minor": 0
      },
      "text/plain": [
       "  0%|          | 0/5 [00:00<?, ?it/s]"
      ]
     },
     "metadata": {},
     "output_type": "display_data"
    },
    {
     "name": "stdout",
     "output_type": "stream",
     "text": [
      "best_model_saved\n",
      ">val_loss=0.00000, split = 1.0\n"
     ]
    },
    {
     "name": "stderr",
     "output_type": "stream",
     "text": [
      "/tmp/ipykernel_20/3147531515.py:15: SettingWithCopyWarning: \n",
      "A value is trying to be set on a copy of a slice from a DataFrame.\n",
      "Try using .loc[row_indexer,col_indexer] = value instead\n",
      "\n",
      "See the caveats in the documentation: https://pandas.pydata.org/pandas-docs/stable/user_guide/indexing.html#returning-a-view-versus-a-copy\n",
      "  X.EJ = X.EJ.eq(first_category).astype('int')\n",
      "/tmp/ipykernel_20/3147531515.py:17: SettingWithCopyWarning: \n",
      "A value is trying to be set on a copy of a slice from a DataFrame.\n",
      "Try using .loc[row_indexer,col_indexer] = value instead\n",
      "\n",
      "See the caveats in the documentation: https://pandas.pydata.org/pandas-docs/stable/user_guide/indexing.html#returning-a-view-versus-a-copy\n",
      "  X[cols] = self.imputer2.fit_transform(X[cols])\n",
      "/tmp/ipykernel_20/3147531515.py:28: SettingWithCopyWarning: \n",
      "A value is trying to be set on a copy of a slice from a DataFrame.\n",
      "Try using .loc[row_indexer,col_indexer] = value instead\n",
      "\n",
      "See the caveats in the documentation: https://pandas.pydata.org/pandas-docs/stable/user_guide/indexing.html#returning-a-view-versus-a-copy\n",
      "  x[cols] = self.imputer2.transform(x[cols])\n"
     ]
    },
    {
     "name": "stdout",
     "output_type": "stream",
     "text": [
      ">val_loss=0.12386, split = 2.0\n"
     ]
    },
    {
     "name": "stderr",
     "output_type": "stream",
     "text": [
      "/tmp/ipykernel_20/3147531515.py:15: SettingWithCopyWarning: \n",
      "A value is trying to be set on a copy of a slice from a DataFrame.\n",
      "Try using .loc[row_indexer,col_indexer] = value instead\n",
      "\n",
      "See the caveats in the documentation: https://pandas.pydata.org/pandas-docs/stable/user_guide/indexing.html#returning-a-view-versus-a-copy\n",
      "  X.EJ = X.EJ.eq(first_category).astype('int')\n",
      "/tmp/ipykernel_20/3147531515.py:17: SettingWithCopyWarning: \n",
      "A value is trying to be set on a copy of a slice from a DataFrame.\n",
      "Try using .loc[row_indexer,col_indexer] = value instead\n",
      "\n",
      "See the caveats in the documentation: https://pandas.pydata.org/pandas-docs/stable/user_guide/indexing.html#returning-a-view-versus-a-copy\n",
      "  X[cols] = self.imputer2.fit_transform(X[cols])\n",
      "/tmp/ipykernel_20/3147531515.py:28: SettingWithCopyWarning: \n",
      "A value is trying to be set on a copy of a slice from a DataFrame.\n",
      "Try using .loc[row_indexer,col_indexer] = value instead\n",
      "\n",
      "See the caveats in the documentation: https://pandas.pydata.org/pandas-docs/stable/user_guide/indexing.html#returning-a-view-versus-a-copy\n",
      "  x[cols] = self.imputer2.transform(x[cols])\n"
     ]
    },
    {
     "name": "stdout",
     "output_type": "stream",
     "text": [
      "best_model_saved\n",
      ">val_loss=0.00000, split = 3.0\n"
     ]
    },
    {
     "name": "stderr",
     "output_type": "stream",
     "text": [
      "/tmp/ipykernel_20/3147531515.py:15: SettingWithCopyWarning: \n",
      "A value is trying to be set on a copy of a slice from a DataFrame.\n",
      "Try using .loc[row_indexer,col_indexer] = value instead\n",
      "\n",
      "See the caveats in the documentation: https://pandas.pydata.org/pandas-docs/stable/user_guide/indexing.html#returning-a-view-versus-a-copy\n",
      "  X.EJ = X.EJ.eq(first_category).astype('int')\n",
      "/tmp/ipykernel_20/3147531515.py:17: SettingWithCopyWarning: \n",
      "A value is trying to be set on a copy of a slice from a DataFrame.\n",
      "Try using .loc[row_indexer,col_indexer] = value instead\n",
      "\n",
      "See the caveats in the documentation: https://pandas.pydata.org/pandas-docs/stable/user_guide/indexing.html#returning-a-view-versus-a-copy\n",
      "  X[cols] = self.imputer2.fit_transform(X[cols])\n",
      "/tmp/ipykernel_20/3147531515.py:28: SettingWithCopyWarning: \n",
      "A value is trying to be set on a copy of a slice from a DataFrame.\n",
      "Try using .loc[row_indexer,col_indexer] = value instead\n",
      "\n",
      "See the caveats in the documentation: https://pandas.pydata.org/pandas-docs/stable/user_guide/indexing.html#returning-a-view-versus-a-copy\n",
      "  x[cols] = self.imputer2.transform(x[cols])\n"
     ]
    },
    {
     "name": "stdout",
     "output_type": "stream",
     "text": [
      "best_model_saved\n",
      ">val_loss=0.00000, split = 4.0\n"
     ]
    },
    {
     "name": "stderr",
     "output_type": "stream",
     "text": [
      "/tmp/ipykernel_20/3147531515.py:15: SettingWithCopyWarning: \n",
      "A value is trying to be set on a copy of a slice from a DataFrame.\n",
      "Try using .loc[row_indexer,col_indexer] = value instead\n",
      "\n",
      "See the caveats in the documentation: https://pandas.pydata.org/pandas-docs/stable/user_guide/indexing.html#returning-a-view-versus-a-copy\n",
      "  X.EJ = X.EJ.eq(first_category).astype('int')\n",
      "/tmp/ipykernel_20/3147531515.py:17: SettingWithCopyWarning: \n",
      "A value is trying to be set on a copy of a slice from a DataFrame.\n",
      "Try using .loc[row_indexer,col_indexer] = value instead\n",
      "\n",
      "See the caveats in the documentation: https://pandas.pydata.org/pandas-docs/stable/user_guide/indexing.html#returning-a-view-versus-a-copy\n",
      "  X[cols] = self.imputer2.fit_transform(X[cols])\n",
      "/tmp/ipykernel_20/3147531515.py:28: SettingWithCopyWarning: \n",
      "A value is trying to be set on a copy of a slice from a DataFrame.\n",
      "Try using .loc[row_indexer,col_indexer] = value instead\n",
      "\n",
      "See the caveats in the documentation: https://pandas.pydata.org/pandas-docs/stable/user_guide/indexing.html#returning-a-view-versus-a-copy\n",
      "  x[cols] = self.imputer2.transform(x[cols])\n"
     ]
    },
    {
     "name": "stdout",
     "output_type": "stream",
     "text": [
      ">val_loss=0.13386, split = 5.0\n",
      "LOSS: 0.05154\n"
     ]
    }
   ],
   "source": [
    "m = training(yt,x_ros,y_,y_ros)"
   ]
  },
  {
   "cell_type": "code",
   "execution_count": 27,
   "id": "04cb734b",
   "metadata": {
    "execution": {
     "iopub.execute_input": "2023-07-07T14:54:40.645591Z",
     "iopub.status.busy": "2023-07-07T14:54:40.645148Z",
     "iopub.status.idle": "2023-07-07T14:54:40.657614Z",
     "shell.execute_reply": "2023-07-07T14:54:40.656134Z"
    },
    "papermill": {
     "duration": 0.031785,
     "end_time": "2023-07-07T14:54:40.660325",
     "exception": false,
     "start_time": "2023-07-07T14:54:40.628540",
     "status": "completed"
    },
    "tags": []
   },
   "outputs": [
    {
     "data": {
      "text/plain": [
       "1    0.75\n",
       "0    0.25\n",
       "Name: Class, dtype: float64"
      ]
     },
     "execution_count": 27,
     "metadata": {},
     "output_type": "execute_result"
    }
   ],
   "source": [
    "y_.value_counts()/y_.shape[0]"
   ]
  },
  {
   "cell_type": "code",
   "execution_count": 28,
   "id": "d7aad8a5",
   "metadata": {
    "execution": {
     "iopub.execute_input": "2023-07-07T14:54:40.693280Z",
     "iopub.status.busy": "2023-07-07T14:54:40.692779Z",
     "iopub.status.idle": "2023-07-07T14:54:40.705128Z",
     "shell.execute_reply": "2023-07-07T14:54:40.703937Z"
    },
    "papermill": {
     "duration": 0.032304,
     "end_time": "2023-07-07T14:54:40.707867",
     "exception": false,
     "start_time": "2023-07-07T14:54:40.675563",
     "status": "completed"
    },
    "tags": []
   },
   "outputs": [
    {
     "name": "stderr",
     "output_type": "stream",
     "text": [
      "/tmp/ipykernel_20/1202244907.py:4: SettingWithCopyWarning: \n",
      "A value is trying to be set on a copy of a slice from a DataFrame.\n",
      "Try using .loc[row_indexer,col_indexer] = value instead\n",
      "\n",
      "See the caveats in the documentation: https://pandas.pydata.org/pandas-docs/stable/user_guide/indexing.html#returning-a-view-versus-a-copy\n",
      "  test_predictors.EJ = test_predictors.EJ.eq(first_category).astype('int')\n"
     ]
    }
   ],
   "source": [
    "train_pred_and_time = pd.concat((train, times), axis=1)\n",
    "test_predictors = test[predictor_columns]\n",
    "first_category = test_predictors.EJ.unique()[0]\n",
    "test_predictors.EJ = test_predictors.EJ.eq(first_category).astype('int')\n",
    "# test_pred_and_time = np.concatenate((test_predictors, np.zeros((len(test_predictors), 1)) + train_pred_and_time.Epsilon.max() + 1), axis=1)"
   ]
  },
  {
   "cell_type": "code",
   "execution_count": 29,
   "id": "87546a80",
   "metadata": {
    "execution": {
     "iopub.execute_input": "2023-07-07T14:54:40.740818Z",
     "iopub.status.busy": "2023-07-07T14:54:40.740437Z",
     "iopub.status.idle": "2023-07-07T14:54:40.747873Z",
     "shell.execute_reply": "2023-07-07T14:54:40.746536Z"
    },
    "papermill": {
     "duration": 0.026755,
     "end_time": "2023-07-07T14:54:40.750480",
     "exception": false,
     "start_time": "2023-07-07T14:54:40.723725",
     "status": "completed"
    },
    "tags": []
   },
   "outputs": [],
   "source": [
    "test_predictors['Epsilon']=train_pred_and_time.Epsilon.max() + 1"
   ]
  },
  {
   "cell_type": "code",
   "execution_count": 30,
   "id": "64aadfc0",
   "metadata": {
    "execution": {
     "iopub.execute_input": "2023-07-07T14:54:40.782824Z",
     "iopub.status.busy": "2023-07-07T14:54:40.782432Z",
     "iopub.status.idle": "2023-07-07T14:58:38.950214Z",
     "shell.execute_reply": "2023-07-07T14:58:38.948893Z"
    },
    "papermill": {
     "duration": 238.187529,
     "end_time": "2023-07-07T14:58:38.953358",
     "exception": false,
     "start_time": "2023-07-07T14:54:40.765829",
     "status": "completed"
    },
    "tags": []
   },
   "outputs": [],
   "source": [
    "# y_pred = m.predict_proba(test_pred_and_time)\n",
    "y_pred = m.predict_proba(test_predictors)\n",
    "probabilities = np.concatenate((y_pred[:,:1], np.sum(y_pred[:,1:], 1, keepdims=True)), axis=1)\n",
    "p0 = probabilities[:,:1]\n",
    "# p0[p0 > 0.74] = 1\n",
    "# p0[p0 < 0.26] = 0\n",
    "\n",
    "p0[p0 > 0.6] = 1\n",
    "p0[p0 < 0.2] = 0"
   ]
  },
  {
   "cell_type": "code",
   "execution_count": 31,
   "id": "054328be",
   "metadata": {
    "execution": {
     "iopub.execute_input": "2023-07-07T14:58:38.986614Z",
     "iopub.status.busy": "2023-07-07T14:58:38.986137Z",
     "iopub.status.idle": "2023-07-07T14:58:39.003475Z",
     "shell.execute_reply": "2023-07-07T14:58:39.001787Z"
    },
    "papermill": {
     "duration": 0.03778,
     "end_time": "2023-07-07T14:58:39.006754",
     "exception": false,
     "start_time": "2023-07-07T14:58:38.968974",
     "status": "completed"
    },
    "tags": []
   },
   "outputs": [],
   "source": [
    "submission = pd.DataFrame(test[\"Id\"], columns=[\"Id\"])\n",
    "submission[\"class_0\"] = p0\n",
    "submission[\"class_1\"] = 1 - p0\n",
    "submission.to_csv('submission.csv', index=False)"
   ]
  },
  {
   "cell_type": "code",
   "execution_count": 32,
   "id": "a28a23cc",
   "metadata": {
    "execution": {
     "iopub.execute_input": "2023-07-07T14:58:39.040465Z",
     "iopub.status.busy": "2023-07-07T14:58:39.039941Z",
     "iopub.status.idle": "2023-07-07T14:58:39.069487Z",
     "shell.execute_reply": "2023-07-07T14:58:39.068057Z"
    },
    "papermill": {
     "duration": 0.049446,
     "end_time": "2023-07-07T14:58:39.072191",
     "exception": false,
     "start_time": "2023-07-07T14:58:39.022745",
     "status": "completed"
    },
    "tags": []
   },
   "outputs": [
    {
     "data": {
      "text/html": [
       "<div>\n",
       "<style scoped>\n",
       "    .dataframe tbody tr th:only-of-type {\n",
       "        vertical-align: middle;\n",
       "    }\n",
       "\n",
       "    .dataframe tbody tr th {\n",
       "        vertical-align: top;\n",
       "    }\n",
       "\n",
       "    .dataframe thead th {\n",
       "        text-align: right;\n",
       "    }\n",
       "</style>\n",
       "<table border=\"1\" class=\"dataframe\">\n",
       "  <thead>\n",
       "    <tr style=\"text-align: right;\">\n",
       "      <th></th>\n",
       "      <th>Id</th>\n",
       "      <th>class_0</th>\n",
       "      <th>class_1</th>\n",
       "    </tr>\n",
       "  </thead>\n",
       "  <tbody>\n",
       "    <tr>\n",
       "      <th>0</th>\n",
       "      <td>00eed32682bb</td>\n",
       "      <td>0.5</td>\n",
       "      <td>0.5</td>\n",
       "    </tr>\n",
       "    <tr>\n",
       "      <th>1</th>\n",
       "      <td>010ebe33f668</td>\n",
       "      <td>0.5</td>\n",
       "      <td>0.5</td>\n",
       "    </tr>\n",
       "    <tr>\n",
       "      <th>2</th>\n",
       "      <td>02fa521e1838</td>\n",
       "      <td>0.5</td>\n",
       "      <td>0.5</td>\n",
       "    </tr>\n",
       "    <tr>\n",
       "      <th>3</th>\n",
       "      <td>040e15f562a2</td>\n",
       "      <td>0.5</td>\n",
       "      <td>0.5</td>\n",
       "    </tr>\n",
       "    <tr>\n",
       "      <th>4</th>\n",
       "      <td>046e85c7cc7f</td>\n",
       "      <td>0.5</td>\n",
       "      <td>0.5</td>\n",
       "    </tr>\n",
       "  </tbody>\n",
       "</table>\n",
       "</div>"
      ],
      "text/plain": [
       "             Id  class_0  class_1\n",
       "0  00eed32682bb      0.5      0.5\n",
       "1  010ebe33f668      0.5      0.5\n",
       "2  02fa521e1838      0.5      0.5\n",
       "3  040e15f562a2      0.5      0.5\n",
       "4  046e85c7cc7f      0.5      0.5"
      ]
     },
     "execution_count": 32,
     "metadata": {},
     "output_type": "execute_result"
    }
   ],
   "source": [
    "submission_df = pd.read_csv('submission.csv')\n",
    "submission_df"
   ]
  },
  {
   "cell_type": "code",
   "execution_count": 33,
   "id": "94e12159",
   "metadata": {
    "execution": {
     "iopub.execute_input": "2023-07-07T14:58:39.105475Z",
     "iopub.status.busy": "2023-07-07T14:58:39.105036Z",
     "iopub.status.idle": "2023-07-07T14:58:39.112314Z",
     "shell.execute_reply": "2023-07-07T14:58:39.110689Z"
    },
    "papermill": {
     "duration": 0.027167,
     "end_time": "2023-07-07T14:58:39.115136",
     "exception": false,
     "start_time": "2023-07-07T14:58:39.087969",
     "status": "completed"
    },
    "tags": []
   },
   "outputs": [],
   "source": [
    "tr_test = train.sample(frac=0.1)"
   ]
  },
  {
   "cell_type": "code",
   "execution_count": 34,
   "id": "f2bd0e2f",
   "metadata": {
    "execution": {
     "iopub.execute_input": "2023-07-07T14:58:39.149346Z",
     "iopub.status.busy": "2023-07-07T14:58:39.148794Z",
     "iopub.status.idle": "2023-07-07T14:58:39.163655Z",
     "shell.execute_reply": "2023-07-07T14:58:39.162142Z"
    },
    "papermill": {
     "duration": 0.035971,
     "end_time": "2023-07-07T14:58:39.167313",
     "exception": false,
     "start_time": "2023-07-07T14:58:39.131342",
     "status": "completed"
    },
    "tags": []
   },
   "outputs": [
    {
     "name": "stderr",
     "output_type": "stream",
     "text": [
      "/tmp/ipykernel_20/4081486069.py:4: SettingWithCopyWarning: \n",
      "A value is trying to be set on a copy of a slice from a DataFrame.\n",
      "Try using .loc[row_indexer,col_indexer] = value instead\n",
      "\n",
      "See the caveats in the documentation: https://pandas.pydata.org/pandas-docs/stable/user_guide/indexing.html#returning-a-view-versus-a-copy\n",
      "  test_predictors1.EJ = test_predictors1.EJ.eq(first_category).astype('int')\n",
      "/tmp/ipykernel_20/4081486069.py:5: SettingWithCopyWarning: \n",
      "A value is trying to be set on a copy of a slice from a DataFrame.\n",
      "Try using .loc[row_indexer,col_indexer] = value instead\n",
      "\n",
      "See the caveats in the documentation: https://pandas.pydata.org/pandas-docs/stable/user_guide/indexing.html#returning-a-view-versus-a-copy\n",
      "  test_predictors1['Epsilon'] = train_pred_and_time1.Epsilon.max() + 1\n"
     ]
    }
   ],
   "source": [
    "train_pred_and_time1 = pd.concat((train, times), axis=1)\n",
    "test_predictors1 = tr_test[predictor_columns]\n",
    "first_category = test_predictors1.EJ.unique()[0]\n",
    "test_predictors1.EJ = test_predictors1.EJ.eq(first_category).astype('int')\n",
    "test_predictors1['Epsilon'] = train_pred_and_time1.Epsilon.max() + 1\n",
    "# test_pred_and_time = np.concatenate((test_predictors1, np.zeros((len(test_predictors1), 1)) + train_pred_and_time1.Epsilon.max() + 1), axis=1)"
   ]
  },
  {
   "cell_type": "code",
   "execution_count": 35,
   "id": "13bc4282",
   "metadata": {
    "execution": {
     "iopub.execute_input": "2023-07-07T14:58:39.205881Z",
     "iopub.status.busy": "2023-07-07T14:58:39.205428Z",
     "iopub.status.idle": "2023-07-07T15:02:44.971209Z",
     "shell.execute_reply": "2023-07-07T15:02:44.969960Z"
    },
    "papermill": {
     "duration": 245.789333,
     "end_time": "2023-07-07T15:02:44.974668",
     "exception": false,
     "start_time": "2023-07-07T14:58:39.185335",
     "status": "completed"
    },
    "tags": []
   },
   "outputs": [
    {
     "name": "stderr",
     "output_type": "stream",
     "text": [
      "/tmp/ipykernel_20/3147531515.py:28: SettingWithCopyWarning: \n",
      "A value is trying to be set on a copy of a slice from a DataFrame.\n",
      "Try using .loc[row_indexer,col_indexer] = value instead\n",
      "\n",
      "See the caveats in the documentation: https://pandas.pydata.org/pandas-docs/stable/user_guide/indexing.html#returning-a-view-versus-a-copy\n",
      "  x[cols] = self.imputer2.transform(x[cols])\n"
     ]
    }
   ],
   "source": [
    "y_pred1 = m.predict_proba(test_predictors1)\n",
    "probabilities1 = np.concatenate((y_pred1[:,:1], np.sum(y_pred1[:,1:], 1, keepdims=True)), axis=1)\n",
    "p01 = probabilities1[:,:1]\n",
    "p01[p01 > 0.6] = 1\n",
    "p01[p01 < 0.2] = 0"
   ]
  },
  {
   "cell_type": "code",
   "execution_count": 36,
   "id": "d60c9816",
   "metadata": {
    "execution": {
     "iopub.execute_input": "2023-07-07T15:02:45.009976Z",
     "iopub.status.busy": "2023-07-07T15:02:45.008523Z",
     "iopub.status.idle": "2023-07-07T15:02:45.019784Z",
     "shell.execute_reply": "2023-07-07T15:02:45.018213Z"
    },
    "papermill": {
     "duration": 0.032098,
     "end_time": "2023-07-07T15:02:45.022926",
     "exception": false,
     "start_time": "2023-07-07T15:02:44.990828",
     "status": "completed"
    },
    "tags": []
   },
   "outputs": [],
   "source": [
    "submission1 = pd.DataFrame(tr_test[\"Id\"], columns=[\"Id\"])\n",
    "submission1[\"class_0\"] = p01\n",
    "submission1[\"class_1\"] = 1 - p01"
   ]
  },
  {
   "cell_type": "code",
   "execution_count": 37,
   "id": "012d8580",
   "metadata": {
    "execution": {
     "iopub.execute_input": "2023-07-07T15:02:45.056424Z",
     "iopub.status.busy": "2023-07-07T15:02:45.055964Z",
     "iopub.status.idle": "2023-07-07T15:02:45.070006Z",
     "shell.execute_reply": "2023-07-07T15:02:45.068606Z"
    },
    "papermill": {
     "duration": 0.033753,
     "end_time": "2023-07-07T15:02:45.072485",
     "exception": false,
     "start_time": "2023-07-07T15:02:45.038732",
     "status": "completed"
    },
    "tags": []
   },
   "outputs": [
    {
     "data": {
      "text/plain": [
       "array([[1., 0.],\n",
       "       [0., 1.],\n",
       "       [1., 0.],\n",
       "       [1., 0.],\n",
       "       [0., 1.],\n",
       "       [1., 0.],\n",
       "       [1., 0.],\n",
       "       [0., 1.],\n",
       "       [1., 0.],\n",
       "       [1., 0.],\n",
       "       [1., 0.],\n",
       "       [1., 0.],\n",
       "       [1., 0.],\n",
       "       [1., 0.],\n",
       "       [0., 1.],\n",
       "       [1., 0.],\n",
       "       [1., 0.],\n",
       "       [1., 0.],\n",
       "       [1., 0.],\n",
       "       [1., 0.],\n",
       "       [1., 0.],\n",
       "       [0., 1.],\n",
       "       [0., 1.],\n",
       "       [1., 0.],\n",
       "       [1., 0.],\n",
       "       [0., 1.],\n",
       "       [1., 0.],\n",
       "       [0., 1.],\n",
       "       [1., 0.],\n",
       "       [1., 0.],\n",
       "       [0., 1.],\n",
       "       [0., 1.],\n",
       "       [0., 1.],\n",
       "       [1., 0.],\n",
       "       [1., 0.],\n",
       "       [1., 0.],\n",
       "       [1., 0.],\n",
       "       [1., 0.],\n",
       "       [1., 0.],\n",
       "       [0., 1.],\n",
       "       [1., 0.],\n",
       "       [1., 0.],\n",
       "       [1., 0.],\n",
       "       [1., 0.],\n",
       "       [1., 0.],\n",
       "       [1., 0.],\n",
       "       [1., 0.],\n",
       "       [1., 0.],\n",
       "       [0., 1.],\n",
       "       [1., 0.],\n",
       "       [0., 1.],\n",
       "       [1., 0.],\n",
       "       [0., 1.],\n",
       "       [1., 0.],\n",
       "       [1., 0.],\n",
       "       [1., 0.],\n",
       "       [1., 0.],\n",
       "       [1., 0.],\n",
       "       [1., 0.],\n",
       "       [1., 0.],\n",
       "       [1., 0.],\n",
       "       [1., 0.]])"
      ]
     },
     "execution_count": 37,
     "metadata": {},
     "output_type": "execute_result"
    }
   ],
   "source": [
    "y_pred_tr = np.array(submission1.loc[:,['class_0','class_1']])\n",
    "y_pred_tr"
   ]
  },
  {
   "cell_type": "code",
   "execution_count": 38,
   "id": "ff9c135e",
   "metadata": {
    "execution": {
     "iopub.execute_input": "2023-07-07T15:02:45.107560Z",
     "iopub.status.busy": "2023-07-07T15:02:45.106410Z",
     "iopub.status.idle": "2023-07-07T15:02:45.113120Z",
     "shell.execute_reply": "2023-07-07T15:02:45.112133Z"
    },
    "papermill": {
     "duration": 0.02655,
     "end_time": "2023-07-07T15:02:45.115388",
     "exception": false,
     "start_time": "2023-07-07T15:02:45.088838",
     "status": "completed"
    },
    "tags": []
   },
   "outputs": [],
   "source": [
    "y_true1=tr_test['Class']\n",
    "y_true2=1-y_true1\n",
    "y_true = np.array([y_true2,y_true1])"
   ]
  },
  {
   "cell_type": "code",
   "execution_count": 39,
   "id": "fe961dfa",
   "metadata": {
    "execution": {
     "iopub.execute_input": "2023-07-07T15:02:45.150441Z",
     "iopub.status.busy": "2023-07-07T15:02:45.150005Z",
     "iopub.status.idle": "2023-07-07T15:02:45.157901Z",
     "shell.execute_reply": "2023-07-07T15:02:45.156808Z"
    },
    "papermill": {
     "duration": 0.028779,
     "end_time": "2023-07-07T15:02:45.160523",
     "exception": false,
     "start_time": "2023-07-07T15:02:45.131744",
     "status": "completed"
    },
    "tags": []
   },
   "outputs": [
    {
     "data": {
      "text/plain": [
       "9.992007221626413e-16"
      ]
     },
     "execution_count": 39,
     "metadata": {},
     "output_type": "execute_result"
    }
   ],
   "source": [
    "balanced_log_loss(y_true.T,y_pred_tr)"
   ]
  },
  {
   "cell_type": "code",
   "execution_count": null,
   "id": "a19a0132",
   "metadata": {
    "papermill": {
     "duration": 0.016357,
     "end_time": "2023-07-07T15:02:45.193295",
     "exception": false,
     "start_time": "2023-07-07T15:02:45.176938",
     "status": "completed"
    },
    "tags": []
   },
   "outputs": [],
   "source": []
  }
 ],
 "metadata": {
  "kernelspec": {
   "display_name": "Python 3",
   "language": "python",
   "name": "python3"
  },
  "language_info": {
   "codemirror_mode": {
    "name": "ipython",
    "version": 3
   },
   "file_extension": ".py",
   "mimetype": "text/x-python",
   "name": "python",
   "nbconvert_exporter": "python",
   "pygments_lexer": "ipython3",
   "version": "3.10.10"
  },
  "papermill": {
   "default_parameters": {},
   "duration": 2080.33322,
   "end_time": "2023-07-07T15:02:47.558275",
   "environment_variables": {},
   "exception": null,
   "input_path": "__notebook__.ipynb",
   "output_path": "__notebook__.ipynb",
   "parameters": {},
   "start_time": "2023-07-07T14:28:07.225055",
   "version": "2.4.0"
  },
  "widgets": {
   "application/vnd.jupyter.widget-state+json": {
    "state": {
     "0198ee2b082a4d7dba7bc29f393ec9c6": {
      "model_module": "@jupyter-widgets/controls",
      "model_module_version": "1.5.0",
      "model_name": "HTMLModel",
      "state": {
       "_dom_classes": [],
       "_model_module": "@jupyter-widgets/controls",
       "_model_module_version": "1.5.0",
       "_model_name": "HTMLModel",
       "_view_count": null,
       "_view_module": "@jupyter-widgets/controls",
       "_view_module_version": "1.5.0",
       "_view_name": "HTMLView",
       "description": "",
       "description_tooltip": null,
       "layout": "IPY_MODEL_1a9ee9b4254d4e63be30736ff0f78eee",
       "placeholder": "​",
       "style": "IPY_MODEL_9d980bbb3f1b4b33b7a04bd8d2c588a5",
       "value": " 5/5 [25:52&lt;00:00, 310.83s/it]"
      }
     },
     "064b931a6a0f465b93ac9ecbb206f767": {
      "model_module": "@jupyter-widgets/base",
      "model_module_version": "1.2.0",
      "model_name": "LayoutModel",
      "state": {
       "_model_module": "@jupyter-widgets/base",
       "_model_module_version": "1.2.0",
       "_model_name": "LayoutModel",
       "_view_count": null,
       "_view_module": "@jupyter-widgets/base",
       "_view_module_version": "1.2.0",
       "_view_name": "LayoutView",
       "align_content": null,
       "align_items": null,
       "align_self": null,
       "border": null,
       "bottom": null,
       "display": null,
       "flex": null,
       "flex_flow": null,
       "grid_area": null,
       "grid_auto_columns": null,
       "grid_auto_flow": null,
       "grid_auto_rows": null,
       "grid_column": null,
       "grid_gap": null,
       "grid_row": null,
       "grid_template_areas": null,
       "grid_template_columns": null,
       "grid_template_rows": null,
       "height": null,
       "justify_content": null,
       "justify_items": null,
       "left": null,
       "margin": null,
       "max_height": null,
       "max_width": null,
       "min_height": null,
       "min_width": null,
       "object_fit": null,
       "object_position": null,
       "order": null,
       "overflow": null,
       "overflow_x": null,
       "overflow_y": null,
       "padding": null,
       "right": null,
       "top": null,
       "visibility": null,
       "width": null
      }
     },
     "1a9ee9b4254d4e63be30736ff0f78eee": {
      "model_module": "@jupyter-widgets/base",
      "model_module_version": "1.2.0",
      "model_name": "LayoutModel",
      "state": {
       "_model_module": "@jupyter-widgets/base",
       "_model_module_version": "1.2.0",
       "_model_name": "LayoutModel",
       "_view_count": null,
       "_view_module": "@jupyter-widgets/base",
       "_view_module_version": "1.2.0",
       "_view_name": "LayoutView",
       "align_content": null,
       "align_items": null,
       "align_self": null,
       "border": null,
       "bottom": null,
       "display": null,
       "flex": null,
       "flex_flow": null,
       "grid_area": null,
       "grid_auto_columns": null,
       "grid_auto_flow": null,
       "grid_auto_rows": null,
       "grid_column": null,
       "grid_gap": null,
       "grid_row": null,
       "grid_template_areas": null,
       "grid_template_columns": null,
       "grid_template_rows": null,
       "height": null,
       "justify_content": null,
       "justify_items": null,
       "left": null,
       "margin": null,
       "max_height": null,
       "max_width": null,
       "min_height": null,
       "min_width": null,
       "object_fit": null,
       "object_position": null,
       "order": null,
       "overflow": null,
       "overflow_x": null,
       "overflow_y": null,
       "padding": null,
       "right": null,
       "top": null,
       "visibility": null,
       "width": null
      }
     },
     "25be53d8dd474e3e9ffa91ef3066250a": {
      "model_module": "@jupyter-widgets/controls",
      "model_module_version": "1.5.0",
      "model_name": "HBoxModel",
      "state": {
       "_dom_classes": [],
       "_model_module": "@jupyter-widgets/controls",
       "_model_module_version": "1.5.0",
       "_model_name": "HBoxModel",
       "_view_count": null,
       "_view_module": "@jupyter-widgets/controls",
       "_view_module_version": "1.5.0",
       "_view_name": "HBoxView",
       "box_style": "",
       "children": [
        "IPY_MODEL_a2cc13f72c7c4523ac7d32f5ef7751ff",
        "IPY_MODEL_fd0631b0caba4325b9eb1239b4e334d4",
        "IPY_MODEL_0198ee2b082a4d7dba7bc29f393ec9c6"
       ],
       "layout": "IPY_MODEL_48c003752249441c94b4e7b8a247331b"
      }
     },
     "46c1e709f4414af68206f47ff8e6606c": {
      "model_module": "@jupyter-widgets/controls",
      "model_module_version": "1.5.0",
      "model_name": "ProgressStyleModel",
      "state": {
       "_model_module": "@jupyter-widgets/controls",
       "_model_module_version": "1.5.0",
       "_model_name": "ProgressStyleModel",
       "_view_count": null,
       "_view_module": "@jupyter-widgets/base",
       "_view_module_version": "1.2.0",
       "_view_name": "StyleView",
       "bar_color": null,
       "description_width": ""
      }
     },
     "48c003752249441c94b4e7b8a247331b": {
      "model_module": "@jupyter-widgets/base",
      "model_module_version": "1.2.0",
      "model_name": "LayoutModel",
      "state": {
       "_model_module": "@jupyter-widgets/base",
       "_model_module_version": "1.2.0",
       "_model_name": "LayoutModel",
       "_view_count": null,
       "_view_module": "@jupyter-widgets/base",
       "_view_module_version": "1.2.0",
       "_view_name": "LayoutView",
       "align_content": null,
       "align_items": null,
       "align_self": null,
       "border": null,
       "bottom": null,
       "display": null,
       "flex": null,
       "flex_flow": null,
       "grid_area": null,
       "grid_auto_columns": null,
       "grid_auto_flow": null,
       "grid_auto_rows": null,
       "grid_column": null,
       "grid_gap": null,
       "grid_row": null,
       "grid_template_areas": null,
       "grid_template_columns": null,
       "grid_template_rows": null,
       "height": null,
       "justify_content": null,
       "justify_items": null,
       "left": null,
       "margin": null,
       "max_height": null,
       "max_width": null,
       "min_height": null,
       "min_width": null,
       "object_fit": null,
       "object_position": null,
       "order": null,
       "overflow": null,
       "overflow_x": null,
       "overflow_y": null,
       "padding": null,
       "right": null,
       "top": null,
       "visibility": null,
       "width": null
      }
     },
     "9d980bbb3f1b4b33b7a04bd8d2c588a5": {
      "model_module": "@jupyter-widgets/controls",
      "model_module_version": "1.5.0",
      "model_name": "DescriptionStyleModel",
      "state": {
       "_model_module": "@jupyter-widgets/controls",
       "_model_module_version": "1.5.0",
       "_model_name": "DescriptionStyleModel",
       "_view_count": null,
       "_view_module": "@jupyter-widgets/base",
       "_view_module_version": "1.2.0",
       "_view_name": "StyleView",
       "description_width": ""
      }
     },
     "a2cc13f72c7c4523ac7d32f5ef7751ff": {
      "model_module": "@jupyter-widgets/controls",
      "model_module_version": "1.5.0",
      "model_name": "HTMLModel",
      "state": {
       "_dom_classes": [],
       "_model_module": "@jupyter-widgets/controls",
       "_model_module_version": "1.5.0",
       "_model_name": "HTMLModel",
       "_view_count": null,
       "_view_module": "@jupyter-widgets/controls",
       "_view_module_version": "1.5.0",
       "_view_name": "HTMLView",
       "description": "",
       "description_tooltip": null,
       "layout": "IPY_MODEL_064b931a6a0f465b93ac9ecbb206f767",
       "placeholder": "​",
       "style": "IPY_MODEL_c7663a00710e4adabdaa2cd8e97d0ae1",
       "value": "100%"
      }
     },
     "b186dba7408344f4ba9d60619b417041": {
      "model_module": "@jupyter-widgets/base",
      "model_module_version": "1.2.0",
      "model_name": "LayoutModel",
      "state": {
       "_model_module": "@jupyter-widgets/base",
       "_model_module_version": "1.2.0",
       "_model_name": "LayoutModel",
       "_view_count": null,
       "_view_module": "@jupyter-widgets/base",
       "_view_module_version": "1.2.0",
       "_view_name": "LayoutView",
       "align_content": null,
       "align_items": null,
       "align_self": null,
       "border": null,
       "bottom": null,
       "display": null,
       "flex": null,
       "flex_flow": null,
       "grid_area": null,
       "grid_auto_columns": null,
       "grid_auto_flow": null,
       "grid_auto_rows": null,
       "grid_column": null,
       "grid_gap": null,
       "grid_row": null,
       "grid_template_areas": null,
       "grid_template_columns": null,
       "grid_template_rows": null,
       "height": null,
       "justify_content": null,
       "justify_items": null,
       "left": null,
       "margin": null,
       "max_height": null,
       "max_width": null,
       "min_height": null,
       "min_width": null,
       "object_fit": null,
       "object_position": null,
       "order": null,
       "overflow": null,
       "overflow_x": null,
       "overflow_y": null,
       "padding": null,
       "right": null,
       "top": null,
       "visibility": null,
       "width": null
      }
     },
     "c7663a00710e4adabdaa2cd8e97d0ae1": {
      "model_module": "@jupyter-widgets/controls",
      "model_module_version": "1.5.0",
      "model_name": "DescriptionStyleModel",
      "state": {
       "_model_module": "@jupyter-widgets/controls",
       "_model_module_version": "1.5.0",
       "_model_name": "DescriptionStyleModel",
       "_view_count": null,
       "_view_module": "@jupyter-widgets/base",
       "_view_module_version": "1.2.0",
       "_view_name": "StyleView",
       "description_width": ""
      }
     },
     "fd0631b0caba4325b9eb1239b4e334d4": {
      "model_module": "@jupyter-widgets/controls",
      "model_module_version": "1.5.0",
      "model_name": "FloatProgressModel",
      "state": {
       "_dom_classes": [],
       "_model_module": "@jupyter-widgets/controls",
       "_model_module_version": "1.5.0",
       "_model_name": "FloatProgressModel",
       "_view_count": null,
       "_view_module": "@jupyter-widgets/controls",
       "_view_module_version": "1.5.0",
       "_view_name": "ProgressView",
       "bar_style": "success",
       "description": "",
       "description_tooltip": null,
       "layout": "IPY_MODEL_b186dba7408344f4ba9d60619b417041",
       "max": 5.0,
       "min": 0.0,
       "orientation": "horizontal",
       "style": "IPY_MODEL_46c1e709f4414af68206f47ff8e6606c",
       "value": 5.0
      }
     }
    },
    "version_major": 2,
    "version_minor": 0
   }
  }
 },
 "nbformat": 4,
 "nbformat_minor": 5
}
